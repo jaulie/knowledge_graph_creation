{
 "cells": [
  {
   "cell_type": "code",
   "execution_count": null,
   "metadata": {},
   "outputs": [],
   "source": [
    "# %pip install -U -q pydantic\n",
    "from pydantic import BaseModel, Field\n",
    "import json\n",
    "import re\n",
    "# %pip install -U -q pandas\n",
    "import pandas as pd\n",
    "# %pip install -U -q langchain_ollama\n",
    "from langchain_ollama import ChatOllama\n",
    "# %pip install -U -q langchain-openai\n",
    "from langchain_openai import ChatOpenAI\n",
    "# %pip install -U -q neo4j\n",
    "from neo4j import GraphDatabase\n",
    "#%pip install -U -q spacy\n",
    "#import spacy\n",
    "\n",
    "llm = ChatOllama(model=\"llama3.2\", temperature=0, max_tokens=2048) "
   ]
  }
 ],
 "metadata": {
  "language_info": {
   "name": "python"
  }
 },
 "nbformat": 4,
 "nbformat_minor": 2
}
