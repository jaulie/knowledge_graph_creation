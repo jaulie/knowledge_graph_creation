{
 "cells": [
  {
   "cell_type": "code",
   "execution_count": 27,
   "metadata": {},
   "outputs": [],
   "source": [
    "# %pip install -U -q pydantic\n",
    "from pydantic import BaseModel, Field\n",
    "import json\n",
    "import re\n",
    "# %pip install -U -q pandas\n",
    "import pandas as pd\n",
    "# %pip install -U -q langchain_ollama\n",
    "from langchain_ollama import ChatOllama\n",
    "# %pip install -U -q langchain-openai\n",
    "from langchain_openai import ChatOpenAI\n",
    "# %pip install -U -q neo4j\n",
    "from neo4j import GraphDatabase\n",
    "#%pip install -U -q spacy\n",
    "#import spacy\n",
    "\n"
   ]
  },
  {
   "cell_type": "code",
   "execution_count": 28,
   "metadata": {},
   "outputs": [],
   "source": [
    "filename = \"/Users/brianmann/Downloads/ori_pqal.json\" #Change with your path\n",
    "with open(filename, 'r', encoding='utf-8') as f:\n",
    "    labeled_instances = json.load(f)\n",
    "\n",
    "#get questions and long answers \n",
    "# IMPORTANT: THIS ASSUMES THAT EACH ENTRY IN THE JSON FILE HAS A QUESTION, CONCLUSION, GROUND TRUTH IN THIS FORMAT. \n",
    "# IF WE FIND BAD RESULTS IN LATER QUESTIONS LOOK HERE\n",
    "questions = []\n",
    "conclusions = []\n",
    "ground_truth = []\n",
    "for paper in labeled_instances:\n",
    "    questions.append(labeled_instances[paper]['QUESTION'])\n",
    "    conclusions.append(labeled_instances[paper]['LONG_ANSWER'])\n",
    "    ground_truth.append(labeled_instances[paper]['final_decision'])\n",
    "\n",
    "test_size = 50\n",
    "# Only use first 5 for now\n",
    "questions = questions[:test_size]\n",
    "titles = questions[:test_size]\n",
    "conclusions = conclusions[:test_size]\n",
    "ground_truth = ground_truth[:test_size]"
   ]
  },
  {
   "cell_type": "code",
   "execution_count": 29,
   "metadata": {},
   "outputs": [],
   "source": [
    "llm = ChatOllama(model=\"llama3.2\", temperature=0, max_tokens=2048) \n",
    "\n",
    "# response = llm.invoke(structured_text)\n",
    "# raw_output = response.content"
   ]
  },
  {
   "cell_type": "code",
   "execution_count": 30,
   "metadata": {},
   "outputs": [],
   "source": [
    "def create_query(title: str, conclusion: str):\n",
    "    query = f'''\n",
    "    Using this information {conclusion}\n",
    "\n",
    "    Answer the following quesiton with yes, no, or maybe.: {title} \n",
    "    \n",
    "    '''\n",
    "    return query"
   ]
  },
  {
   "cell_type": "code",
   "execution_count": 31,
   "metadata": {},
   "outputs": [],
   "source": [
    "answers = [] #\n",
    "\n",
    "for title, conclusion in zip(questions, conclusions):\n",
    "    response = llm.invoke(create_query(title, conclusion))\n",
    "    raw_output = response.content\n",
    "    first_word = raw_output.split()[0].rstrip('.').lower()\n",
    "    answers.append(first_word)\n",
    "    # print(first_word)\n",
    "    "
   ]
  },
  {
   "cell_type": "code",
   "execution_count": 32,
   "metadata": {},
   "outputs": [
    {
     "data": {
      "text/plain": [
       "39"
      ]
     },
     "execution_count": 32,
     "metadata": {},
     "output_type": "execute_result"
    }
   ],
   "source": [
    "sum([a ==b for a,b in zip(answers, ground_truth)])"
   ]
  },
  {
   "cell_type": "code",
   "execution_count": null,
   "metadata": {},
   "outputs": [],
   "source": []
  }
 ],
 "metadata": {
  "kernelspec": {
   "display_name": "base",
   "language": "python",
   "name": "python3"
  },
  "language_info": {
   "codemirror_mode": {
    "name": "ipython",
    "version": 3
   },
   "file_extension": ".py",
   "mimetype": "text/x-python",
   "name": "python",
   "nbconvert_exporter": "python",
   "pygments_lexer": "ipython3",
   "version": "3.10.14"
  }
 },
 "nbformat": 4,
 "nbformat_minor": 2
}
