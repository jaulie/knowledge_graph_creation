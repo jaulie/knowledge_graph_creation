{
 "cells": [
  {
   "cell_type": "code",
   "execution_count": 11,
   "metadata": {},
   "outputs": [],
   "source": [
    "import os\n",
    "from langchain_neo4j import Neo4jGraph, GraphCypherQAChain\n",
    "from langchain_ollama import ChatOllama\n",
    "from langchain_experimental.graph_transformers import LLMGraphTransformer\n",
    "from langchain_core.documents import Document\n",
    "\n",
    "import xml.etree.ElementTree as ET\n",
    "from langchain.schema import Document\n",
    "\n",
    "import re\n",
    "from langchain_ollama import ChatOllama\n",
    "from langchain_core.prompts import PromptTemplate\n",
    "import pandas as pd\n",
    "\n",
    "import requests"
   ]
  },
  {
   "cell_type": "code",
   "execution_count": 5,
   "metadata": {},
   "outputs": [],
   "source": [
    "llm = ChatOllama(model=\"llama3.2\", temperature=0, max_tokens=2048) "
   ]
  },
  {
   "cell_type": "markdown",
   "metadata": {},
   "source": [
    "# API call for first abstract"
   ]
  },
  {
   "cell_type": "code",
   "execution_count": 42,
   "metadata": {},
   "outputs": [
    {
     "name": "stdout",
     "output_type": "stream",
     "text": [
      "Title: Do mitochondria play a role in remodelling lace plant leaves during programmed cell death?\n",
      "Abstract: BACKGROUND: Programmed cell death (PCD) is the regulated death of cells within an organism. The lace plant (Aponogeton madagascariensis) produces perforations in its leaves through PCD. The leaves of the plant consist of a latticework of longitudinal and transverse veins enclosing areoles. PCD occurs in the cells at the center of these areoles and progresses outwards, stopping approximately five cells from the vasculature. The role of mitochondria during PCD has been recognized in animals; however, it has been less studied during PCD in plants. RESULTS: The following paper elucidates the role of mitochondrial dynamics during developmentally regulated PCD in vivo in A. madagascariensis. A single areole within a window stage leaf (PCD is occurring) was divided into three areas based on the progression of PCD; cells that will not undergo PCD (NPCD), cells in early stages of PCD (EPCD), and cells in late stages of PCD (LPCD). Window stage leaves were stained with the mitochondrial dye MitoTracker Red CMXRos and examined. Mitochondrial dynamics were delineated into four categories (M1-M4) based on characteristics including distribution, motility, and membrane potential (ΔΨm). A TUNEL assay showed fragmented nDNA in a gradient over these mitochondrial stages. Chloroplasts and transvacuolar strands were also examined using live cell imaging. The possible importance of mitochondrial permeability transition pore (PTP) formation during PCD was indirectly examined via in vivo cyclosporine A (CsA) treatment. This treatment resulted in lace plant leaves with a significantly lower number of perforations compared to controls, and that displayed mitochondrial dynamics similar to that of non-PCD cells. CONCLUSIONS: Results depicted mitochondrial dynamics in vivo as PCD progresses within the lace plant, and highlight the correlation of this organelle with other organelles during developmental PCD. To the best of our knowledge, this is the first report of mitochondria and chloroplasts moving on transvacuolar strands to form a ring structure surrounding the nucleus during developmental PCD. Also, for the first time, we have shown the feasibility for the use of CsA in a whole plant system. Overall, our findings implicate the mitochondria as playing a critical and early role in developmentally regulated PCD in the lace plant.\n"
     ]
    }
   ],
   "source": [
    "# pmid = \"1571683\"\n",
    "pmid = \"21645374\"\n",
    "url = \"https://eutils.ncbi.nlm.nih.gov/entrez/eutils/efetch.fcgi\"\n",
    "params = {\n",
    "    \"db\": \"pubmed\",\n",
    "    \"id\": pmid,\n",
    "    \"retmode\": \"xml\"\n",
    "}\n",
    "\n",
    "response = requests.get(url, params=params)\n",
    "root = ET.fromstring(response.content)\n",
    "\n",
    "article = root.find('.//PubmedArticle')\n",
    "\n",
    "# Get title\n",
    "title = article.find('.//ArticleTitle').text\n",
    "\n",
    "# Get full abstract, preserving labels\n",
    "abstract_elements = article.findall('.//Abstract/AbstractText')\n",
    "\n",
    "abstract_parts = []\n",
    "for elem in abstract_elements:\n",
    "    if elem.text:\n",
    "        label = elem.attrib.get('Label')\n",
    "        if label:\n",
    "            abstract_parts.append(f\"{label}: {elem.text.strip()}\")\n",
    "        else:\n",
    "            abstract_parts.append(elem.text.strip())\n",
    "\n",
    "abstract = ' '.join(abstract_parts)\n",
    "\n",
    "print(f\"Title: {title}\")\n",
    "print(f\"Abstract: {abstract}\")\n"
   ]
  },
  {
   "cell_type": "markdown",
   "metadata": {},
   "source": [
    "Prompt needs tweaking to get consistent clean output"
   ]
  },
  {
   "cell_type": "code",
   "execution_count": 43,
   "metadata": {},
   "outputs": [],
   "source": [
    "structured_text = f'''\n",
    "Capture the main question being answersed by this abstract in structured relationships for a knowledge graph.\n",
    "Abstract Title: {title}\\n Abstract Text: {abstract}\n",
    "Extract medical relationships as structured triples (Entity1, Relationship, Entity2). Put all elements of a tuple on the same line\n",
    "in the format (\"entity1\", \"relationship\", \"entity2\") . There must be two entities and a relationship and the relationship should not incluede the entities. \n",
    "'''"
   ]
  },
  {
   "cell_type": "code",
   "execution_count": 44,
   "metadata": {},
   "outputs": [
    {
     "name": "stdout",
     "output_type": "stream",
     "text": [
      "matches:\n",
      "[('Here are the extracted medical relationships as structured triples:\\n\\nMitochondria', 'plays a role in', 'programmed cell death (PCD)'), ('Mitochondria', 'undergoes changes during', 'PCD'), ('Mitochondria', 'dynamics', 'are delineated into, four categories (M1-M4)'), ('Mitochondrial permeability transition pore (PTP)', 'formation', 'is indirectly examined via, cyclosporine A (CsA) treatment'), ('Mitochondria', 'movement', 'is observed on, transvacuolar strands'), ('Mitochondria', 'membrane potential (ΔΨm)', 'changes during, PCD'), ('Mitochondria', 'distribution', 'is characterized by, four categories (M1-M4)'), ('Mitochondrial dynamics', 'are correlated with', 'other organelles during, PCD'), ('PCD', 'occurs in the cells at the center of', 'areoles'), ('PCD', 'progresses outwards from', 'cells that will not undergo PCD (NPCD)'), ('PCD', 'is stopped approximately five cells from', 'vasculature'), ('Mitochondria', 'dye MitoTracker Red CMXRos', 'stains, window stage leaves')]\n",
      "12\n",
      "['(Here are the extracted medical relationships as structured triples:\\n\\nMitochondria) -[:PLAYS_A_ROLE_IN]-> (programmed cell death (PCD))', '(Mitochondria) -[:UNDERGOES_CHANGES_DURING]-> (PCD)', '(Mitochondria) -[:DYNAMICS]-> (are delineated into, four categories (M1-M4))', '(Mitochondrial permeability transition pore (PTP)) -[:FORMATION]-> (is indirectly examined via, cyclosporine A (CsA) treatment)', '(Mitochondria) -[:MOVEMENT]-> (is observed on, transvacuolar strands)', '(Mitochondria) -[:MEMBRANE_POTENTIAL_(ΔΨM)]-> (changes during, PCD)', '(Mitochondria) -[:DISTRIBUTION]-> (is characterized by, four categories (M1-M4))', '(Mitochondrial dynamics) -[:ARE_CORRELATED_WITH]-> (other organelles during, PCD)', '(PCD) -[:OCCURS_IN_THE_CELLS_AT_THE_CENTER_OF]-> (areoles)', '(PCD) -[:PROGRESSES_OUTWARDS_FROM]-> (cells that will not undergo PCD (NPCD))', '(PCD) -[:IS_STOPPED_APPROXIMATELY_FIVE_CELLS_FROM]-> (vasculature)', '(Mitochondria) -[:DYE_MITOTRACKER_RED_CMXROS]-> (stains, window stage leaves)']\n",
      "Complete\n"
     ]
    }
   ],
   "source": [
    "combined_formatted_graph = []\n",
    "bad_batch = []\n",
    "\n",
    "response = llm.invoke(structured_text)\n",
    "# Extract the actual text from the LLM response\n",
    "raw_output = response.content\n",
    "\n",
    "# Print the cleaned raw output (for debugging)\n",
    "# print(\"Cleaned Raw LLM Output:\\n\", raw_output)\n",
    "\n",
    "# Extract (Entity1, Relationship, Entity2) triples using regex\n",
    "# matches = re.findall(r'\"(.*?)\" , \"(.*?)\" , \"(.*?)\"', raw_output)\n",
    "# matches = re.findall(r'\\(\"([^\"]+)\",\\s*\"([^\"]+)\",\\s*\"([^\"]+)\"\\)', raw_output)\n",
    "matches = re.findall(r'^([^,]+),\\s*([^,]+),\\s*(.+)$', raw_output, re.MULTILINE)\n",
    "\n",
    "\n",
    "print(f\"matches:\\n{matches}\")\n",
    "\n",
    "# Convert extracted triples into nodes and relationships\n",
    "nodes = set()\n",
    "relationships = []\n",
    "\n",
    "for entity1, relation, entity2 in matches:\n",
    "    nodes.add(entity1)\n",
    "    nodes.add(entity2)\n",
    "    relationships.append((entity1, relation, entity2))\n",
    "\n",
    "# Convert to Full Node-Relationship-Node Format\n",
    "formatted_graph = [f\"({e1}) -[:{r.replace(' ', '_').upper()}]-> ({e2})\" for e1, r, e2 in relationships]\n",
    "if len(formatted_graph) == 0:\n",
    "    print(\"Error no nodes found\")\n",
    "    bad_batch.append(pmid)\n",
    "\n",
    "combined_formatted_graph.extend(formatted_graph)\n",
    "print(len(combined_formatted_graph))\n",
    "# print()\n",
    "print(formatted_graph)\n",
    "print(\"Complete\")"
   ]
  },
  {
   "cell_type": "code",
   "execution_count": 31,
   "metadata": {},
   "outputs": [],
   "source": [
    "# def extract_structured_triples(raw_output):\n",
    "#     triples = []\n",
    "\n",
    "#     for line in raw_output.splitlines():\n",
    "#         line = line.strip()\n",
    "#         if not line or line.lower().startswith(\"here are\"):\n",
    "#             continue  # Skip empty lines and intros\n",
    "\n",
    "#         # Try to split into exactly 3 parts\n",
    "#         parts = [p.strip().strip('\"').strip('“”') for p in line.split(',')]\n",
    "#         if len(parts) == 3:\n",
    "#             entity1, relation, entity2 = parts\n",
    "#             # Basic sanity checks (optional)\n",
    "#             if entity1 and relation and entity2:\n",
    "#                 triples.append((entity1, relation, entity2))\n",
    "\n",
    "#     return triples\n"
   ]
  },
  {
   "cell_type": "code",
   "execution_count": 36,
   "metadata": {},
   "outputs": [
    {
     "data": {
      "text/plain": [
       "[('(\"Vaccines', 'are stored', 'in community\")'),\n",
       " ('(\"General Practices', 'conduct', 'vaccine storage assessments\")'),\n",
       " ('(\"Child Health Clinics', 'provide', 'vaccine storage services\")'),\n",
       " ('(\"Department of Health', 'issues', 'guidelines for vaccine storage\")'),\n",
       " ('(\"Guidelines', 'specify', 'temperature ranges for vaccines\")'),\n",
       " ('(\"Vaccines', 'require', 'cold chain maintenance\")'),\n",
       " ('(\"Refrigerators', 'are used', 'to store vaccines\")'),\n",
       " ('(\"Thermometers', 'monitor', 'refrigerator temperatures\")'),\n",
       " ('(\"Staff training', 'is necessary', 'for vaccine storage\")'),\n",
       " ('(\"Equipment provision',\n",
       "  'is crucial',\n",
       "  'for successful immunisation programme\")'),\n",
       " (\"Note: I've tried to capture the main relationships between entities\",\n",
       "  \"but some inferences were made to fill gaps in the original text. If you'd like me to revise or expand on any of these triples\",\n",
       "  'please let me know!')]"
      ]
     },
     "execution_count": 36,
     "metadata": {},
     "output_type": "execute_result"
    }
   ],
   "source": [
    "# extract_structured_triples(raw_output)"
   ]
  },
  {
   "cell_type": "markdown",
   "metadata": {},
   "source": [
    "# Gather all article ids"
   ]
  },
  {
   "cell_type": "code",
   "execution_count": 8,
   "metadata": {},
   "outputs": [
    {
     "name": "stdout",
     "output_type": "stream",
     "text": [
      "Found 1000 article IDs\n",
      "['21645374', '16418930', '9488747', '17208539', '10808977', '23831910', '26037986', '26852225', '17113061', '10966337']\n"
     ]
    }
   ],
   "source": [
    "import json\n",
    "\n",
    "filename = \"/Users/brianmann/Downloads/ori_pqal.json\"\n",
    "\n",
    "# Load the JSON data\n",
    "with open(filename, 'r') as f:\n",
    "    data = json.load(f)\n",
    "\n",
    "# The article IDs are the top-level keys\n",
    "article_ids = list(data.keys())\n",
    "\n",
    "print(f\"Found {len(article_ids)} article IDs\")\n",
    "print(article_ids[:10])  # Show a preview of the first 10\n"
   ]
  },
  {
   "cell_type": "markdown",
   "metadata": {},
   "source": [
    "# Loop API call through all articles"
   ]
  },
  {
   "cell_type": "code",
   "execution_count": 9,
   "metadata": {},
   "outputs": [],
   "source": [
    "import requests\n",
    "import xml.etree.ElementTree as ET\n",
    "import time\n",
    "\n",
    "abstract_dict = {}\n",
    "\n",
    "for pmid in article_ids[:10]:\n",
    "    url = \"https://eutils.ncbi.nlm.nih.gov/entrez/eutils/efetch.fcgi\"\n",
    "    params = {\n",
    "        \"db\": \"pubmed\",\n",
    "        \"id\": pmid,\n",
    "        \"retmode\": \"xml\",\n",
    "        \"email\": \"your.email@example.com\"  # optional but recommended\n",
    "    }\n",
    "\n",
    "    response = requests.get(url, params=params)\n",
    "\n",
    "    if response.status_code != 200:\n",
    "        print(f\"Failed to fetch PMID {pmid} (status {response.status_code})\")\n",
    "        continue\n",
    "\n",
    "    try:\n",
    "        root = ET.fromstring(response.content)\n",
    "    except ET.ParseError:\n",
    "        print(f\"⚠️ Could not parse XML for PMID {pmid}\")\n",
    "        print(\"Response content:\")\n",
    "        print(response.text[:300])  # print a snippet to debug\n",
    "        continue\n",
    "\n",
    "    article = root.find('.//PubmedArticle')\n",
    "    if article is None:\n",
    "        print(f\"No article found in response for PMID {pmid}\")\n",
    "        continue\n",
    "\n",
    "    title_elem = article.find('.//ArticleTitle')\n",
    "    title = title_elem.text if title_elem is not None else \"No title\"\n",
    "\n",
    "    abstract_elements = article.findall('.//Abstract/AbstractText')\n",
    "    if not abstract_elements:\n",
    "        continue\n",
    "\n",
    "    abstract_parts = []\n",
    "    for elem in abstract_elements:\n",
    "        if elem.text:\n",
    "            label = elem.attrib.get('Label') or elem.attrib.get('label')\n",
    "            if label:\n",
    "                abstract_parts.append(f\"{label}: {elem.text.strip()}\")\n",
    "            else:\n",
    "                abstract_parts.append(elem.text.strip())\n",
    "\n",
    "    abstract = ' '.join(abstract_parts)\n",
    "    abstract_dict[pmid] = {\n",
    "        \"Abstract Title\": title,\n",
    "        \"Abstract Text\": abstract\n",
    "    }\n",
    "\n",
    "    time.sleep(0.34)  # delay to avoid NCBI rate limits (3 requests/sec)\n"
   ]
  },
  {
   "cell_type": "code",
   "execution_count": 10,
   "metadata": {},
   "outputs": [
    {
     "name": "stdout",
     "output_type": "stream",
     "text": [
      "10\n"
     ]
    }
   ],
   "source": [
    "print(len(abstract_dict))"
   ]
  },
  {
   "cell_type": "code",
   "execution_count": 16,
   "metadata": {},
   "outputs": [
    {
     "name": "stdout",
     "output_type": "stream",
     "text": [
      "       PMID                                     Abstract Title  \\\n",
      "0  21645374  Do mitochondria play a role in remodelling lac...   \n",
      "1  16418930  [Landolt C and snellen e acuity: differences i...   \n",
      "2   9488747  [Syncope during bathing in infants, a pediatri...   \n",
      "3  17208539  Are the long-term results of the transanal pul...   \n",
      "4  10808977  Can tailored interventions increase mammograph...   \n",
      "\n",
      "                                       Abstract Text  \n",
      "0  BACKGROUND: Programmed cell death (PCD) is the...  \n",
      "1  BACKGROUND: Assessment of visual acuity depend...  \n",
      "2  BACKGROUND: Apparent life-threatening events i...  \n",
      "3  PURPOSE: The transanal endorectal pull-through...  \n",
      "4  BACKGROUND: Telephone counseling and tailored ...  \n"
     ]
    }
   ],
   "source": [
    "# Convert to DataFrame\n",
    "df = pd.DataFrame.from_dict(abstract_dict, orient='index')\n",
    "\n",
    "# Optional: Add PMID as a column instead of index\n",
    "df.reset_index(inplace=True)\n",
    "df.rename(columns={\"index\": \"PMID\"}, inplace=True)\n",
    "\n",
    "# Preview\n",
    "print(df.head())"
   ]
  },
  {
   "cell_type": "code",
   "execution_count": 20,
   "metadata": {},
   "outputs": [],
   "source": [
    "df.to_csv(\"pqal.csv\", sep='|', index=False)"
   ]
  }
 ],
 "metadata": {
  "kernelspec": {
   "display_name": "base",
   "language": "python",
   "name": "python3"
  },
  "language_info": {
   "codemirror_mode": {
    "name": "ipython",
    "version": 3
   },
   "file_extension": ".py",
   "mimetype": "text/x-python",
   "name": "python",
   "nbconvert_exporter": "python",
   "pygments_lexer": "ipython3",
   "version": "3.10.14"
  }
 },
 "nbformat": 4,
 "nbformat_minor": 2
}
