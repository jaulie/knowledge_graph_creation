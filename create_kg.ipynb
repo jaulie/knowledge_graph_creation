{
 "cells": [
  {
   "cell_type": "markdown",
   "metadata": {},
   "source": [
    "# Knowledge Graph Creation"
   ]
  },
  {
   "cell_type": "code",
   "execution_count": null,
   "metadata": {},
   "outputs": [],
   "source": [
    "import json\n",
    "import re\n",
    "from langchain_ollama import ChatOllama\n",
    "from neo4j import GraphDatabase"
   ]
  },
  {
   "cell_type": "markdown",
   "metadata": {},
   "source": [
    "### This is where we alter the prompt for our experiment. \n",
    "#### These are currently extremely simplified and logically not very sound (in terms of medical question answering but fine for just finding relations)\n",
    "#### If the kg syntax errors it's because I haven't implemented strict output types yet"
   ]
  },
  {
   "cell_type": "code",
   "execution_count": null,
   "metadata": {},
   "outputs": [],
   "source": [
    "# Queries a LLM to extract entities only\n",
    "def entities_query(text: str):\n",
    "     return f'''Please return a list of all single and multi-word terms and phrases from the following text that could describe a term, entity, or idea: {text}.\n",
    "       Ignore stop words like and, but, or, with, and other words like that.\n",
    "       If a set of words combined describe one specific thing, please return it as one item in the list. \n",
    "       For example, in the example sentence \"The auxiliary medical device effects the blood pressure of the patient\", the list would look like [auxiliary medical device, medical device, device, blood pressure of the patient, blood pressure]. \n",
    "       Another example, in the example input \"Do radiologists tend to perform better under cooler temperatures?\", the list would look like [radiologists, cooler, cooler tempreatures, temperatures].\n",
    "       If an item in the list contains adjectives describing a noun, please make sure that noun is included on its own in the list as well. \n",
    "       Now please respond with absolutely nothing except the list of any and all single and multi-word terms and phrases from the following text that could describe a term, entity, or idea: {text}.'''\n",
    "\n",
    "# Returns a query to a LLM that includes a text sample and a list of entities. The query instructs the LLM to return a set of triples with relations. \n",
    "# The possible relations are: POS, NEG, MAY\n",
    "def kg_query(entities: list[str], sample: str):\n",
    "    return f'''Here is a text sample with information about a medical topic: {sample}.\n",
    "    Here is a list of entities pulled from that list: {entities}.\n",
    "    For each entity in the list above (entity1), find every single other entities (entity2) that it is related to in any way from the list based on the text sample.\n",
    "    If that relationship could be described as neutral to positive (or synonymous with positive given the context), please return that relationship as follows: [entity1, POS, entity2]\n",
    "    If that relationship could be described as less than neutral to negative (or synonymous with negative given the context), please return that relationship as follows: term1 = entity1, relation = [entity1, NEG, entity2]\n",
    "    If and only if that relationship is stated to be unknown or unsure with proper descriptors to match, only then return that relationship as follows: [entity1, MAY, entity2]\n",
    "    Return all of these possible permutations as a list of string relationships in the format described above. \n",
    "    Do not respond with anything except that list in the following format, and make sure syntax is exact (do not add newline characters):\n",
    "    [(entity1, relation, entity2), ... ]\n",
    "    '''"
   ]
  },
  {
   "cell_type": "markdown",
   "metadata": {},
   "source": [
    "#### Extra function definition"
   ]
  },
  {
   "cell_type": "code",
   "execution_count": 5,
   "metadata": {},
   "outputs": [],
   "source": [
    "def convert_to_tuples(input_list):\n",
    "    result = []\n",
    "    \n",
    "    for item in input_list:\n",
    "        # Remove unnecessary characters and parse the string representation of a list of tuples\n",
    "        item_clean = item.strip('[]').replace('\\n', '')  # Remove square brackets and newlines\n",
    "        tuples = re.findall(r'\\(([^)]+)\\)', item_clean)  # Match content inside parentheses\n",
    "        for t in tuples:\n",
    "            # Convert each tuple string into a tuple of terms (term, relation, term)\n",
    "            term1, relation, term2 = [x.strip() for x in t.split(',')]\n",
    "            result.append((term1, relation, term2))\n",
    "    \n",
    "    return result"
   ]
  },
  {
   "cell_type": "markdown",
   "metadata": {},
   "source": [
    "### Read in json file  "
   ]
  },
  {
   "cell_type": "code",
   "execution_count": null,
   "metadata": {},
   "outputs": [],
   "source": [
    "# Global variable, set to the number of abstracts to be read in\n",
    "# Set to -1 to read in all abstracts\n",
    "NUM = 15"
   ]
  },
  {
   "cell_type": "code",
   "execution_count": null,
   "metadata": {},
   "outputs": [],
   "source": [
    "filename = \"../ori_pqal.json\"\n",
    "with open(filename, 'r', encoding='utf-8') as f:\n",
    "    labeled_instances = json.load(f)\n",
    "\n",
    "#get questions and long answers \n",
    "# IMPORTANT: THIS ASSUMES THAT EACH ENTRY IN THE JSON FILE HAS A QUESTION, CONCLUSION, GROUND TRUTH IN THIS FORMAT. \n",
    "# IF WE FIND BAD RESULTS IN LATER QUESTIONS LOOK HERE\n",
    "questions = []\n",
    "conclusions = []\n",
    "ground_truth = []\n",
    "for paper in labeled_instances:\n",
    "    questions.append(labeled_instances[paper]['QUESTION'])\n",
    "    conclusions.append(labeled_instances[paper]['LONG_ANSWER'])\n",
    "    ground_truth.append(labeled_instances[paper]['final_decision'])\n",
    "    \n",
    "#Only use first 5 for now\n",
    "questions = questions[:NUM]\n",
    "titles = questions[:NUM]\n",
    "conclusions = conclusions[:NUM]\n",
    "ground_truth = ground_truth[:NUM]"
   ]
  },
  {
   "cell_type": "markdown",
   "metadata": {},
   "source": [
    "### Set LLM as desired model"
   ]
  },
  {
   "cell_type": "code",
   "execution_count": null,
   "metadata": {},
   "outputs": [],
   "source": [
    "llm = ChatOllama(model=\"llama3.2\", temperature=0) "
   ]
  },
  {
   "cell_type": "markdown",
   "metadata": {},
   "source": [
    "## Querying LLM to create KG\n",
    "\n",
    "#### First, query LLM to extract relevant entities from each conclusion, then query LLM with entities and conclusion to create KG"
   ]
  },
  {
   "cell_type": "code",
   "execution_count": 10,
   "metadata": {},
   "outputs": [
    {
     "name": "stdout",
     "output_type": "stream",
     "text": [
      "['[(Mitochondria, POS, Remodelling), (Mitochondria, POS, Programmedcelldeath), (Mitochondria, POS, Celldeath), \\n (Mitochondria, POS, Plantleaves), (Mitochondria, POS, Death), (Remodelling, MAY, Mitochondria), \\n (Programmedcelldeath, POS, Remodelling), (Programmedcelldeath, POS, Celldeath), (Programmedcelldeath, POS, Plantleaves), \\n (Programmedcelldeath, POS, Death), (Celldeath, POS, Programmedcelldeath), (Celldeath, POS, Plantleaves), \\n (Celldeath, POS, Death), (Plantleaves, MAY, Mitochondria), (Death, MAY, Remodelling), \\n (Remodelling, NEG, Celldeath), (Programmedcelldeath, NEG, Plantleaves)]', '[(Strabismus, POS, Amblyopia), \\n (Amblyopia, POS, Strabismus), \\n (Acuity, POS, LandoltC), \\n (LandoltC, POS, Acuity), \\n (SnellenE, POS, LandoltC), \\n (LandoltC, POS, SnellenE), \\n (Strabismicamblyopia, POS, Amblyopia), \\n (Amblyopia, POS, Strabismicamblyopia), \\n (Binocularvision, POS, Vision), \\n (Vision, POS, Binocularvision)]', \"['Syncope', POS, 'Urticaria']\\n['Syncope', POS, 'Waterinducedurticaria']\\n['Syncope', NEG, 'Pediatricform']\\n['Syncope', NEG, 'Infants']\\n['Syncope', NEG, 'Bathing']\\n['Syncope', NEG, 'Water']\\n['Syncope', MAY, 'Medicalcondition']\\n['Syncope', MAY, 'Syndrome']\\n['Syncope', MAY, 'Reaction']\\n['Syncope', MAY, 'Infantileform']\\n['Urticaria', POS, 'Pediatricform']\\n['Urticaria', NEG, 'Infants']\\n['Urticaria', NEG, 'Bathing']\\n['Urticaria', NEG, 'Water']\\n['Urticaria', MAY, 'Medicalcondition']\\n['Urticaria', MAY, 'Syndrome']\\n['Urticaria', MAY, 'Reaction']\\n['Urticaria', MAY, 'Infantileform']\\n['Waterinducedurticaria', POS, 'Pediatricform']\\n['Waterinducedurticaria', NEG, 'Infants']\\n['Waterinducedurticaria', NEG, 'Bathing']\\n['Waterinducedurticaria', NEG, 'Water']\\n['Waterinducedurticaria', MAY, 'Medicalcondition']\\n['Waterinducedurticaria', MAY, 'Syndrome']\\n['Waterinducedurticaria', MAY, 'Reaction']\\n['Waterinducedurticaria', MAY, 'Infantileform']\\n['Pediatricform', NEG, 'Syncope']\\n['Pediatricform', NEG, 'Urticaria']\\n['Pediatricform', NEG, 'Waterinducedurticaria']\\n['Pediatricform', MAY, 'Medicalcondition']\\n['Pediatricform', MAY, 'Syndrome']\\n['Pediatricform', MAY, 'Reaction']\\n['Pediatricform', MAY, 'Infantileform']\\n['Infants', NEG, 'Syncope']\\n['Infants', NEG, 'Urticaria']\\n['Infants', NEG, 'Waterinducedurticaria']\\n['Infants', MAY, 'Medicalcondition']\\n['Infants', MAY, 'Syndrome']\\n['Infants', MAY, 'Reaction']\\n['Infants', MAY, 'Infantileform']\\n['Bathing', NEG, 'Syncope']\\n['Bathing', NEG, 'Urticaria']\\n['Bathing', NEG, 'Waterinducedurticaria']\\n['Bathing', MAY, 'Medicalcondition']\\n['Bathing', MAY, 'Syndrome']\\n['Bathing', MAY, 'Reaction']\\n['Bathing', MAY, 'Infantileform']\\n['Water', NEG, 'Syncope']\\n['Water', NEG, 'Urticaria']\\n['Water', NEG, 'Waterinducedurticaria']\\n['Water', MAY, 'Medicalcondition']\\n['Water', MAY, 'Syndrome']\\n['Water', MAY, 'Reaction']\\n['Water', MAY, 'Infantileform']\\n['Medicalcondition', MAY, 'Syncope']\\n['Medicalcondition', MAY, 'Urticaria']\\n['Medicalcondition', MAY, 'Waterinducedurticaria']\\n['Medicalcondition', MAY, 'Pediatricform']\\n['Medicalcondition', MAY, 'Syndrome']\\n['Medicalcondition', MAY, 'Reaction']\\n['Medicalcondition', MAY, 'Infantileform']\\n['Syndrome', MAY, 'Syncope']\\n['Syndrome', MAY, 'Urticaria']\\n['Syndrome', MAY, 'Waterinducedurticaria']\\n['Syndrome', MAY, 'Pediatricform']\\n['Syndrome', MAY, 'Medicalcondition']\\n['Syndrome', MAY, 'Reaction']\\n['Syndrome', MAY, 'Infantileform']\\n['Reaction', MAY, 'Syncope']\\n['Reaction', MAY, 'Urticaria']\\n['Reaction', MAY, 'Waterinducedurticaria']\\n['Reaction', MAY, 'Pediatricform']\\n['Reaction', MAY, 'Medicalcondition']\\n['Reaction', MAY, 'Syndrome']\\n['Reaction', MAY, 'Infantileform']\\n['Infantileform', MAY, 'Syncope']\\n['Infantileform', MAY, 'Urticaria']\\n['Infantileform', MAY, 'Waterinducedurticaria']\\n['Infantileform', MAY, 'Pediatricform']\\n['Infantileform', MAY, 'Medicalcondition']\\n['Infantileform', MAY, 'Syndrome']\\n['Infantileform', MAY, 'Reaction']\", '[(Transanal pull-through, NEG, Abdominal approach), \\n (Abdominal approach, POS, Transanal pull-through),\\n (Longterm, MAY, Results),\\n (Results, POS, Longterm),\\n (Stool pattern, MAY, TERPT group),\\n (Enterocolitis scores, MAY, TERPT group),\\n (TERPT group, NEG, Abdominal approach),\\n (TERPT group, POS, Stool pattern),\\n (TERPT group, POS, Enterocolitis scores),\\n (Abdominal approach, NEG, Transanal pull-through)]', '[(Mammography, POS, Screening), \\n (Mammography, POS, Use), \\n (Mammography, POS, Mammogram), \\n (Mammography, POS, Breastcancerscreening), \\n (Interventions, NEG, Tailoredinterventions), \\n (Telephone counseling, POS, Interventions), \\n (Tailored print communications, NEG, Interventions), \\n (Women, POS, Nonadherent women), \\n (Mammography screening, POS, Women)]', '[(Doubleballoonenteroscopy, POS, Efficacy), \\n (Doubleballoonenteroscopy, POS, Safety), \\n (Doubleballoonenteroscopy, POS, Communitysetting), \\n (Doubleballoonenteroscopy, POS, Enteroscopy), \\n (Doubleballoonenteroscopy, POS, Balloon), \\n (Efficacy, POS, Efficacious), \\n (Safety, POS, Safe), \\n (Communitysetting, POS, Patient), \\n (Enteroscopy, POS, Radiologists), \\n (Balloon, POS, Temperatures),\\n (Efficacy, NEG, Bloodpressure), \\n (Safety, NEG, Patient), \\n (Doubleballoonenteroscopy, MAY, Efficacy), \\n (Doubleballoonenteroscopy, MAY, Safety), \\n (Doubleballoonenteroscopy, MAY, Communitysetting), \\n (Enteroscopy, MAY, Balloon), \\n (Efficacy, MAY, Enteroscopy), \\n (Safety, MAY, Enteroscopy), \\n (Communitysetting, MAY, Radiologists), \\n (Enteroscopy, MAY, Temperatures),\\n (Balloon, MAY, Bloodpressure)]', '[(Emergencygeneralsurgery, POS, Surgery), \\n (Laparotomy, NEG, Generalssurgery), \\n (Mortalityrate, MAY, Emergencygeneralsurgery), \\n (Generalsurgery, POS, Surgery), \\n (Surgery, POS, Emergencygeneralsurgery), \\n (Emergencycare, POS, Generalssurgery), \\n (30Daymortality, NEG, Surgicaloutcomes), \\n (1yearmortality, NEG, Surgicaloutcomes), \\n (Surgicaloutcomes, MAY, Surgicalmortality), \\n (Surgicalmortality, NEG, Generalsurgerylaparotomies), \\n (Generalsurgerylaparotomies, NEG, Laparotomycomplications), \\n (Laparotomycomplications, NEG, Mortalityinsurgery), \\n (Mortalityinsurgery, MAY, Emergencygeneralsurgery)]', '[(Sleep disorders, POS, Sleep), \\n(Sleep disorders, POS, Disorders), \\n(Sleep disorders, POS, Energy related problems), \\n(Heterogeneity, NEG, Reporting), \\n(Reporting heterogeneity, MAY, anchoring vignettes), \\n(Adjustment, NEG, Reporting), \\n(Adjustment, NEG, Heterogeneity), \\n(Adjusting for reporting heterogeneity, MAY, anchoring vignettes), \\n(Sleep disorders, POS, Older age), \\n(Sleep disorders, POS, Gender differences in communicating sleep-related problems), \\n(Sleep disorders, POS, Presence of multiple morbidities), \\n(Sleep disorders, POS, Regular exercise), \\n(Disorders, NEG, Sleep), \\n(Heterogeneity, NEG, Reporting), \\n(Heterogeneity, NEG, Adjustment), \\n(Heterogeneity, NEG, Heterogeneity), \\n(Reporting heterogeneity, MAY, anchoring vignettes), \\n(Adjustment for reporting heterogeneity, MAY, anchoring vignettes)]', '[(Mutations, POS, LowHDLC), (Mutations, POS, HDLC), (MutationscausinglowHDLC, NEG, LowHDLC), (MutationscausinglowHDLC, NEG, HDLC), (Carotidintimamediathickness, POS, Increasedcarotidintimamediathickness), (LowHDLC, MAY, Carotidintimamediathicknessincrease)]', '[(Shortstay, POS, Ward), (Shortstay, POS, Patientcare), (Shortstay, POS, Effectivetreatment), \\n (Shortstay, POS, Medicaldevice), (Shortstay, POS, Bloodpressure), \\n (23hourward, MAY, Generalhospital), (23hourward, MAY, Academichospital), (23hourward, MAY, Childrenshospital), \\n (Generalhospital, POS, Ward), (Generalhospital, POS, Patientcare), (Generalhospital, POS, Effectivetreatment), \\n (Generalhospital, POS, Medicaldevice), (Generalhospital, POS, Bloodpressure), \\n (Academichospital, POS, Ward), (Academichospital, POS, Patientcare), (Academichospital, POS, Effectivetreatment), \\n (Academichospital, POS, Medicaldevice), (Academichospital, POS, Bloodpressure), \\n (Childrenshospital, POS, Ward), (Childrenshospital, POS, Patientcare), (Childrenshospital, POS, Effectivetreatment), \\n (Childrenshospital, POS, Medicaldevice), (Childrenshospital, POS, Bloodpressure), \\n (Ward, MAY, Generalhospital), (Ward, MAY, Academichospital), (Ward, MAY, Childrenshospital), \\n (Patientcare, POS, Ward), (Patientcare, POS, Effectivetreatment), (Patientcare, POS, Medicaldevice), \\n (Patientcare, POS, Bloodpressure), \\n (Effectivetreatment, POS, Ward), (Effectivetreatment, POS, Patientcare), (Effectivetreatment, POS, Medicaldevice), \\n (Effectivetreatment, POS, Bloodpressure), \\n (Medicaldevice, MAY, Generalhospital), (Medicaldevice, MAY, Academichospital), (Medicaldevice, MAY, Childrenshospital), \\n (Medicaldevice, POS, Ward), (Medicaldevice, POS, Patientcare), (Medicaldevice, POS, Effectivetreatment), \\n (Medicaldevice, POS, Bloodpressure), \\n (Bloodpressure, POS, Ward), (Bloodpressure, POS, Patientcare), (Bloodpressure, POS, Effectivetreatment), \\n (Bloodpressure, POS, Medicaldevice)]', '[(traffic law, POS, reform), (traffic law, POS, police enforcement), (reform, NEG, traffic injury rate), (reform, NEG, traffic fatality rate), (police enforcement, POS, traffic injury rate), (police enforcement, POS, traffic fatality rate), (WHO, MAY, World Bank), (World Bank, MAY, WHO)]', '[(Trauma, POS, Patient), (Trauma, POS, Therapy), (Trauma, POS, Coagulation), (Trauma, POS, Injury), (Trauma, POS, Treatment), (Trauma, POS, Medicine), (Trauma, POS, Blood), (Trauma, POS, Pressure), (Trauma, POS, Care), (Trauma, POS, Health), (Trauma, POS, Risk), (Trauma, POS, Management), \\n (Anticoagulation, NEG, Patient), (Anticoagulation, NEG, Therapy), (Anticoagulation, NEG, Coagulation), (Anticoagulation, NEG, Injury), (Anticoagulation, NEG, Treatment), (Anticoagulation, NEG, Medicine), (Anticoagulation, NEG, Blood), (Anticoagulation, NEG, Pressure), (Anticoagulation, NEG, Care), (Anticoagulation, NEG, Health), (Anticoagulation, NEG, Risk), (Anticoagulation, NEG, Management),\\n (Patient, POS, Therapy), (Patient, POS, Coagulation), (Patient, POS, Injury), (Patient, POS, Treatment), (Patient, POS, Medicine), (Patient, POS, Blood), (Patient, POS, Pressure), (Patient, POS, Care), (Patient, POS, Health), (Patient, POS, Risk), (Patient, POS, Management),\\n (Therapy, NEG, Coagulation), (Therapy, NEG, Injury), (Therapy, NEG, Treatment), (Therapy, NEG, Medicine), (Therapy, NEG, Blood), (Therapy, NEG, Pressure), (Therapy, NEG, Care), (Therapy, NEG, Health), (Therapy, NEG, Risk), (Therapy, NEG, Management),\\n (Coagulation, POS, Injury), (Coagulation, POS, Treatment), (Coagulation, POS, Medicine), (Coagulation, POS, Blood), (Coagulation, POS, Pressure), (Coagulation, POS, Care), (Coagulation, POS, Health), (Coagulation, POS, Risk), (Coagulation, POS, Management),\\n (Injury, POS, Treatment), (Injury, POS, Medicine), (Injury, POS, Blood), (Injury, POS, Pressure), (Injury, POS, Care), (Injury, POS, Health), (Injury, POS, Risk), (Injury, POS, Management),\\n (Treatment, NEG, Medicine), (Treatment, NEG, Blood), (Treatment, NEG, Pressure), (Treatment, NEG, Care), (Treatment, NEG, Health), (Treatment, NEG, Risk), (Treatment, NEG, Management),\\n (Medicine, NEG, Blood), (Medicine, NEG, Pressure), (Medicine, NEG, Care), (Medicine, NEG, Health), (Medicine, NEG, Risk), (Medicine, NEG, Management),\\n (Blood, NEG, Pressure), (Blood, NEG, Care), (Blood, NEG, Health), (Blood, NEG, Risk), (Blood, NEG, Management),\\n (Pressure, NEG, Care), (Pressure, NEG, Health), (Pressure, NEG, Risk), (Pressure, NEG, Management),\\n (Care, NEG, Health), (Care, NEG, Risk), (Care, NEG, Management),\\n (Health, NEG, Risk), (Health, NEG, Management)]', '[(Steatohepatitis, POS, Nonalcoholicsteatohepatitis), \\n (Steatohepatitis, POS, Alcoholicsteatohepatitis), \\n (Steatohepatitis, POS, Steatosis), \\n (Steatohepatitis, POS, Fattyliverdisease), \\n (Nonalcoholicsteatohepatitis, MAY, Liverdisease), \\n (Alcoholicsteatohepatitis, MAY, Liverdisease), \\n (Laboratorymarkers, POS, Routinelaboratorytests), \\n (ASH, POS, Steatohepatitis), \\n (ASH, POS, Nonalcoholicsteatohepatitis), \\n (ASH, POS, Alcoholicsteatohepatitis), \\n (Differentiation, NEG, ASH), \\n (Liverdisease, MAY, Hepatitis), \\n (Nonalcoholicliverdisease, MAY, Liverdisease), \\n (Alcoholicliverdisease, MAY, Liverdisease), \\n (Steatosis, POS, Fattyliverdisease)]', '[(Primarycareproviders, POS, Patientrisk), \\n (Primarycareproviders, POS, Familyhistory), \\n (Primarycareproviders, POS, Increasedpatientrisk), \\n (Primarycareproviders, POS, Primarycare), \\n (Primarycareproviders, POS, Patient), \\n (Primarycareproviders, POS, Risk), \\n (Familyhistory, POS, Primarycareprovider), \\n (Familyhistory, POS, Patient), \\n (Familyhistory, POS, Familyhistory), \\n (Radiologists, MAY, Medicaldevice), \\n (Coolertemperatures, NEG, Temperatures)]', '[(Emergencyultrasound, POS, Ultrasoundfellowship), \\n (Ultrasoundfellowship, POS, Emergencyultrasound), \\n (Emergencymedicine, POS, Ultrasoundeducation), \\n (Ultrasoundeducation, POS, Emergencymedicine), \\n (Fellowshipprogram, POS, Emergencyultrasound), \\n (Emergencyultrasound, POS, Fellowshipprogram), \\n (Emergencyultrasound, POS, Emergencymedicineresident), \\n (Emergencymedicineresident, POS, Emergencyultrasound), \\n (Ultrasoundtraining, POS, Ultrasoundeducation), \\n (Ultrasoundeducation, POS, Ultrasoundtraining), \\n (Medicaldevice, NEG, Bloodpressure), \\n (Bloodpressure, NEG, Medicaldevice), \\n (Radiologists, NEG, Cooler), \\n (Cooler, NEG, Radiologists)]']\n"
     ]
    }
   ],
   "source": [
    "kg = []\n",
    "for idx in range(len(conclusions)):\n",
    "    #Use query defined above to extract entities from conclusion\n",
    "    sentence_output = llm.invoke(entities_query(titles[idx])).content.replace(\"'\", \"\")\n",
    "    #Regex in place of strict relation types\n",
    "    entities = [re.sub(r'[^a-zA-Z0-9]', '', re.sub(r'^\\d+\\.\\s*', '', item)) for item in sentence_output.split(\"\\n\")]\n",
    "    #Create kg using those entities and query defined above\n",
    "    kg.append(llm.invoke(kg_query(entities, conclusions[idx])).content)\n",
    "\n",
    "#Fix formatting of list (function defined above)\n",
    "print(kg)\n",
    "knowledge_graph = convert_to_tuples(kg)"
   ]
  },
  {
   "cell_type": "markdown",
   "metadata": {},
   "source": [
    "## Neo4j setup"
   ]
  },
  {
   "cell_type": "code",
   "execution_count": 12,
   "metadata": {},
   "outputs": [],
   "source": [
    "uri = \"bolt://localhost:7687\"\n",
    "username = \"neo4j\"\n",
    "password = \"neo4j_password\" "
   ]
  },
  {
   "cell_type": "markdown",
   "metadata": {},
   "source": [
    "### Neo4j Knowledge Graph Creation"
   ]
  },
  {
   "cell_type": "code",
   "execution_count": 55,
   "metadata": {},
   "outputs": [],
   "source": [
    "driver = GraphDatabase.driver(uri, auth=(username, password))\n",
    "\n",
    "### Knowledge Graph Creation\n",
    "\n",
    "def create_knowledge_graph(data):\n",
    "    with driver.session() as session:\n",
    "        for node1, relation, node2 in data:\n",
    "            session.execute_write(create_relationship, node1.capitalize(), relation, node2.capitalize())\n",
    "\n",
    "\n",
    "def create_relationship(tx, node1, relation, node2):\n",
    "    relation_map = {\n",
    "        \"POS\": \"positively_related_to\",\n",
    "        \"NEG\": \"negatively_related_to\",\n",
    "        \"MAY\": \"may_be_related_to\"\n",
    "    }\n",
    "    \n",
    "    relationship = relation_map.get(relation, \"related_to\") \n",
    "\n",
    "    query = (\n",
    "        \"MERGE (a:Entity {name: $node1}) \"\n",
    "        \"MERGE (b:Entity {name: $node2}) \"\n",
    "        \"MERGE (a)-[r:\" + relationship + \"]->(b)\"\n",
    "    )\n",
    "    tx.run(query, node1=node1, relation=relationship, node2=node2)\n",
    "\n",
    "create_knowledge_graph(knowledge_graph)\n",
    "\n",
    "# Close the driver connection after use\n"
   ]
  },
  {
   "cell_type": "markdown",
   "metadata": {},
   "source": [
    "#### Take a peek in the knowledge graph"
   ]
  },
  {
   "cell_type": "code",
   "execution_count": 56,
   "metadata": {},
   "outputs": [
    {
     "data": {
      "text/plain": [
       "'\\ndef query_graph():\\n    # Open a session with the Neo4j database\\n    with driver.session() as session:\\n        # Run the query to get the first 25 nodes and their relationships\\n        result = session.run(\"\"\"\\n            MATCH (n)-[r]->(m) \\n            RETURN n, r, m \\n            LIMIT 25\\n        \"\"\")\\n\\n        # Iterate through the result and print the nodes and relationships\\n        for record in result:\\n            node1 = record[\\'n\\']\\n            relation = record[\\'r\\']\\n            node2 = record[\\'m\\']\\n\\n            print({\\n                \\'Node1\\': node1[\\'name\\'],  # Assuming \\'name\\' is a property\\n                \\'Relation\\': type(relation).__name__,  # Type of the relationship\\n                \\'Node2\\': node2[\\'name\\']  # Assuming \\'name\\' is a property\\n            })\\n    session.close()\\n\\nquery_graph()\\n\\n'"
      ]
     },
     "execution_count": 56,
     "metadata": {},
     "output_type": "execute_result"
    }
   ],
   "source": [
    "\n",
    "'''\n",
    "def query_graph():\n",
    "    # Open a session with the Neo4j database\n",
    "    with driver.session() as session:\n",
    "        # Run the query to get the first 25 nodes and their relationships\n",
    "        result = session.run(\"\"\"\n",
    "            MATCH (n)-[r]->(m) \n",
    "            RETURN n, r, m \n",
    "            LIMIT 25\n",
    "        \"\"\")\n",
    "        \n",
    "        # Iterate through the result and print the nodes and relationships\n",
    "        for record in result:\n",
    "            node1 = record['n']\n",
    "            relation = record['r']\n",
    "            node2 = record['m']\n",
    "            \n",
    "            print({\n",
    "                'Node1': node1['name'],  # Assuming 'name' is a property\n",
    "                'Relation': type(relation).__name__,  # Type of the relationship\n",
    "                'Node2': node2['name']  # Assuming 'name' is a property\n",
    "            })\n",
    "    session.close()\n",
    "\n",
    "query_graph()\n",
    "\n",
    "'''\n"
   ]
  },
  {
   "cell_type": "markdown",
   "metadata": {},
   "source": [
    "### Question evaluation (will change with relation type)"
   ]
  },
  {
   "cell_type": "code",
   "execution_count": null,
   "metadata": {},
   "outputs": [
    {
     "name": "stdout",
     "output_type": "stream",
     "text": [
      "Question nodes: ['Mitochondria', 'Remodelling', 'Laceplant', 'Programmedcelldeath', 'Celldeath', 'Plantleaves', 'Death', 'Remodelling']\n",
      "0\n",
      "Question: Do mitochondria play a role in remodelling lace plant leaves during programmed cell death? \n",
      "Response: maybe \n",
      "Ground Truth: yes \n",
      "\n",
      "\n",
      "Question nodes: ['Strabismus', 'Amblyopia', 'Acuity', 'LandoltC', 'SnellenE', 'Eye', 'Vision', 'Blurredvision', 'Visualimpairment', 'Eyecondition', 'Strabismicamblyopia', 'Binocularvision']\n",
      "1\n",
      "Question: Landolt C and snellen e acuity: differences in strabismus amblyopia? \n",
      "Response: yes \n",
      "Ground Truth: no \n",
      "\n",
      "\n",
      "Question nodes: ['Syncope', 'Urticaria', 'Waterinducedurticaria', 'Pediatricform', 'Infants', 'Bathing', 'Water', 'Medicalcondition', 'Syndrome', 'Reaction', 'Infantileform', 'Pediatric']\n",
      "2\n",
      "Question: Syncope during bathing in infants, a pediatric form of water-induced urticaria? \n",
      "Response: no answer found \n",
      "Ground Truth: yes \n",
      "\n",
      "\n",
      "Question nodes: ['Transanal', 'Transabdominal', 'Pullthrough', 'Longterm', 'Results', 'Transanalpullthrough', 'Transabdominalpullthrough', 'Transanal', 'Transabdominal']\n",
      "3\n",
      "Question: Are the long-term results of the transanal pull-through equal to those of the transabdominal pull-through? \n",
      "Response: maybe \n",
      "Ground Truth: no \n",
      "\n",
      "\n",
      "Question nodes: ['Mammography', 'Interventions', 'Tailoredinterventions', 'HMO', 'Women', 'Mammographyuse', 'Intervention', 'Use', 'Mammogram', 'Breastcancerscreening', 'Screening', 'Healthmaintenanceorganization', 'Healthcare']\n",
      "4\n",
      "Question: Can tailored interventions increase mammography use among HMO women? \n",
      "Response: no \n",
      "Ground Truth: yes \n",
      "\n",
      "\n",
      "Question nodes: ['Doubleballoonenteroscopy', 'Efficacy', 'Safety', 'Communitysetting', 'Enteroscopy', 'Balloon', 'Efficacious', 'Safe', 'Medicaldevice', 'Bloodpressure', 'Patient', 'Radiologists', 'Temperatures']\n",
      "5\n",
      "Question: Double balloon enteroscopy: is it efficacious and safe in a community setting? \n",
      "Response: maybe \n",
      "Ground Truth: yes \n",
      "\n",
      "\n",
      "Question nodes: ['Emergencygeneralsurgery', 'Laparotomy', 'Mortalityrate', 'Generalsurgery', 'Surgery', 'Emergencycare', 'Generalsurgery', '30Daymortality', '1yearmortality', 'Surgicaloutcomes', 'Surgicalmortality', 'Generalsurgerylaparotomies', 'Laparotomycomplications', 'Mortalityinsurgery', 'Emergencygeneralsurgery']\n",
      "6\n",
      "Question: 30-Day and 1-year mortality in emergency general surgery laparotomies: an area of concern and need for improvement? \n",
      "Response: maybe \n",
      "Ground Truth: maybe \n",
      "\n",
      "\n",
      "Question nodes: ['Sleepdisorders', 'Adjustment', 'Reporting', 'Heterogeneity', 'Sleep', 'Disorders', 'Adjustment', 'Reporting', 'Heterogeneity', 'Sleep', 'Disorders', 'Adjustment', 'Reporting', 'Heterogeneity', 'Sleep', 'Disorders', 'Necessary', 'Adjustment', 'Reporting', 'Heterogeneity']\n",
      "7\n",
      "Question: Is adjustment for reporting heterogeneity necessary in sleep disorders? \n",
      "Response: no \n",
      "Ground Truth: no \n",
      "\n",
      "\n",
      "Question nodes: ['Mutations', 'Carotidintimamediathickness', 'LowHDLC', 'Increasedcarotidintimamediathickness', 'HDLC', 'Thickness', 'MutationscausinglowHDLC', 'Carotidintimamediathicknessincrease']\n",
      "8\n",
      "Question: Do mutations causing low HDL-C promote increased carotid intima-media thickness? \n",
      "Response: maybe \n",
      "Ground Truth: no \n",
      "\n",
      "\n",
      "Question nodes: ['Shortstay', '23hourward', 'Generalhospital', 'Academichospital', 'Childrenshospital', 'Ward', 'Effectivetreatment', 'Medicaldevice', 'Bloodpressure', 'Patientcare', 'Radiologists', 'Coolertemperatures']\n",
      "9\n",
      "Question: A short stay or 23-hour ward in a general and academic children's hospital: are they effective? \n",
      "Response: yes \n",
      "Ground Truth: yes \n",
      "\n",
      "\n",
      "Question nodes: ['trafficlawtrafficlawreformpoliceenforcement']\n",
      "10\n",
      "Question: Did Chile's traffic law reform push police enforcement? \n",
      "Response: no answer found \n",
      "Ground Truth: yes \n",
      "\n",
      "\n",
      "Question nodes: ['Trauma', 'Anticoagulation', 'Patient', 'Safety', 'Therapy', 'Coagulation', 'Injury', 'Treatment', 'Medicine', 'Blood', 'Pressure', 'Care', 'Health', 'Risk', 'Management']\n",
      "11\n",
      "Question: Therapeutic anticoagulation in the trauma patient: is it safe? \n",
      "Response: no \n",
      "Ground Truth: no \n",
      "\n",
      "\n",
      "Question nodes: ['Steatohepatitis', 'Nonalcoholicsteatohepatitis', 'Alcoholicsteatohepatitis', 'Laboratorymarkers', 'Routinelaboratorytests', 'Differentiation', 'Hepatitis', 'Liverdisease', 'Nonalcoholicliverdisease', 'Alcoholicliverdisease', 'Steatosis', 'Fattyliverdisease']\n",
      "12\n",
      "Question: Differentiation of nonalcoholic from alcoholic steatohepatitis: are routine laboratory markers useful? \n",
      "Response: yes \n",
      "Ground Truth: yes \n",
      "\n",
      "\n",
      "Question nodes: ['Primarycareproviders', 'Patientrisk', 'Familyhistory', 'Increasedpatientrisk', 'Primarycare', 'Patient', 'Risk', 'Familyhistory', 'Primarycareprovider', 'Patientrisk', 'Familyhistory', 'Medicaldevice', 'Bloodpressure', 'Temperature', 'Radiologists', 'Coolertemperatures', 'Temperatures']\n",
      "13\n",
      "Question: Prompting Primary Care Providers about Increased Patient Risk As a Result of Family History: Does It Work? \n",
      "Response: no \n",
      "Ground Truth: no \n",
      "\n",
      "\n",
      "Question nodes: ['Emergencyultrasound', 'Ultrasoundfellowship', 'Emergencymedicine', 'Ultrasoundeducation', 'Fellowshipprogram', 'Emergencymedicineresident', 'Ultrasoundtraining', 'Medicaldevice', 'Bloodpressure', 'Temperature', 'Radiologists', 'Cooler']\n",
      "14\n",
      "Question: Do emergency ultrasound fellowship programs impact emergency medicine residents' ultrasound education? \n",
      "Response: no \n",
      "Ground Truth: yes \n",
      "\n",
      "\n",
      "Accuracy: 0.4\n",
      "Not found rate: 0.13333333333333333\n"
     ]
    }
   ],
   "source": [
    "with driver.session() as session:\n",
    "    truth_index = -1\n",
    "    numerator = 0\n",
    "    not_found = 0\n",
    "    for question in questions:\n",
    "        truth_index = truth_index + 1\n",
    "        response = \"no answer found\"\n",
    "        question_output = llm.invoke(entities_query(question)).content.replace(\"'\", \"\")\n",
    "        nodes = [re.sub(r'[^a-zA-Z0-9]', '', re.sub(r'^\\d+\\.\\s*', '', item)) for item in question_output.split(\"\\n\")]\n",
    "        print(\"Question nodes:\", nodes)\n",
    "        for i in range(len(nodes)):\n",
    "            for j in range(i+1, len(nodes)): \n",
    "                cypher_query = f\"\"\"\n",
    "                            MATCH (n {{name: '{nodes[i].capitalize()}'}})-[r]->(m {{name: '{nodes[j].capitalize()}'}})\n",
    "                            RETURN n, r, m\n",
    "                        \"\"\"\n",
    "                result = session.run(cypher_query)\n",
    "                \n",
    "                if result.peek():\n",
    "                    # Logic based on current relation types\n",
    "                    for record in result:\n",
    "                        if record['r'].type == 'negatively_related_to':\n",
    "                            response = 'no'\n",
    "                        elif record['r'].type == 'positively_related_to':\n",
    "                            response = 'yes'\n",
    "                        else: \n",
    "                            response = 'maybe'                        \n",
    "                    break \n",
    "        print(truth_index)\n",
    "        print('Question:', question, '\\nResponse:', response, '\\nGround Truth:', ground_truth[truth_index], '\\n\\n')\n",
    "        if response == ground_truth[truth_index]:\n",
    "            numerator += 1\n",
    "        if response == \"no answer found\":\n",
    "            not_found += 1\n",
    "    print('Accuracy:', numerator / len(questions))\n",
    "    print('Not found rate:', not_found / len(questions))\n",
    "driver.close()"
   ]
  }
 ],
 "metadata": {
  "kernelspec": {
   "display_name": "kg",
   "language": "python",
   "name": "python3"
  },
  "language_info": {
   "codemirror_mode": {
    "name": "ipython",
    "version": 3
   },
   "file_extension": ".py",
   "mimetype": "text/x-python",
   "name": "python",
   "nbconvert_exporter": "python",
   "pygments_lexer": "ipython3",
   "version": "3.10.16"
  }
 },
 "nbformat": 4,
 "nbformat_minor": 2
}
