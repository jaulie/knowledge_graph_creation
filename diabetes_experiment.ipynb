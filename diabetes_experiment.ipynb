{
 "cells": [
  {
   "cell_type": "code",
   "execution_count": 158,
   "id": "cea5fd1c",
   "metadata": {},
   "outputs": [],
   "source": [
    "import os\n",
    "import json\n",
    "import ast\n",
    "import re\n",
    "from langchain_neo4j import Neo4jGraph, GraphCypherQAChain\n",
    "from langchain_ollama import ChatOllama\n",
    "from langchain_experimental.graph_transformers import LLMGraphTransformer\n",
    "from langchain_community.graphs.graph_document import GraphDocument, Node, Relationship\n",
    "from langchain_core.documents import Document\n",
    "from langchain.chains import LLMChain\n",
    "from langchain.prompts import PromptTemplate"
   ]
  },
  {
   "cell_type": "code",
   "execution_count": 15,
   "id": "034c7b39",
   "metadata": {},
   "outputs": [],
   "source": [
    "uri = \"bolt://localhost:7687\"\n",
    "user = \"neo4j\"\n",
    "password = \"neo4j_password\" \n",
    "graph = Neo4jGraph(url=uri, username=user, password=password)"
   ]
  },
  {
   "cell_type": "code",
   "execution_count": 135,
   "id": "2ae8baa1",
   "metadata": {},
   "outputs": [],
   "source": [
    "# Set LLM\n",
    "llm = ChatOllama(model=\"llama3.2\", temperature=0)\n",
    "relation_llm = llm.with_structured_output(schema=GraphDocument)"
   ]
  },
  {
   "cell_type": "code",
   "execution_count": 50,
   "id": "9b05a450",
   "metadata": {},
   "outputs": [],
   "source": [
    "# Load data\n",
    "with open(\"data/diabetes_subset.json\", \"r\") as f:\n",
    "    json_data = json.load(f)\n",
    "\n",
    "questions = [entry.get(\"QUESTION\", \"N/A\") for entry in json_data.values()]\n",
    "contexts = [entry.get(\"CONTEXTS\", \"N/A\") for entry in json_data.values()]\n",
    "conclusions = [entry.get(\"LONG_ANSWER\", \"N/A\") for entry in json_data.values()]\n",
    "ground_truth = [entry.get(\"final_decision\", \"N/A\") for entry in json_data.values()]\n"
   ]
  },
  {
   "cell_type": "code",
   "execution_count": 51,
   "id": "f352e896",
   "metadata": {},
   "outputs": [],
   "source": [
    "# Convert abstract to a list of Documents\n",
    "documents = []\n",
    "for i in range(len(questions)):\n",
    "    # Builds the abstract text from context and conclusion\n",
    "    abstract = \" \".join(contexts[i]) + conclusions[i]\n",
    "    \n",
    "    # Create a LangChain Document\n",
    "    doc = Document(page_content=abstract)\n",
    "    # Append to documents list\n",
    "    documents.append(doc)"
   ]
  },
  {
   "cell_type": "markdown",
   "id": "d3b8c72a",
   "metadata": {},
   "source": [
    "### Use LLMGraphTransformer to create a preliminary KG ###"
   ]
  },
  {
   "cell_type": "code",
   "execution_count": null,
   "id": "866e33bb",
   "metadata": {},
   "outputs": [
    {
     "name": "stdout",
     "output_type": "stream",
     "text": [
      "[Relationship(source=Node(id='Positron Emission Tomography', type='Concept', properties={}), target=Node(id='Cervical Cancer', type='Concept', properties={}), type='ASSESSES', properties={}), Relationship(source=Node(id='Computed Tomography', type='Concept', properties={}), target=Node(id='Cervical Cancer', type='Concept', properties={}), type='COMPARES_TO', properties={}), Relationship(source=Node(id='Magnetic Resonance Imaging', type='Concept', properties={}), target=Node(id='Cervical Cancer', type='Concept', properties={}), type='COMPARES_TO', properties={}), Relationship(source=Node(id='Diabetes Mellitus', type='Concept', properties={}), target=Node(id='Fdg-Pet', type='Concept', properties={}), type='INFLUENCES', properties={}), Relationship(source=Node(id='Fdg-Pet', type='Concept', properties={}), target=Node(id='Hyperglycaemic Dm', type='Concept', properties={}), type='USED_FOR', properties={}), Relationship(source=Node(id='Mri/Ct Scans', type='Concept', properties={}), target=Node(id='Hyperglycaemic Dm', type='Concept', properties={}), type='COMPARED_TO', properties={})]\n",
      "[Relationship(source=Node(id='Trialnet', type='Organization', properties={}), target=Node(id='Ecl', type='Concept', properties={}), type='DEVELOPED', properties={}), Relationship(source=Node(id='Autoantibody', type='Concept', properties={}), target=Node(id='Trialnet', type='Organization', properties={}), type='POSITIVE', properties={}), Relationship(source=Node(id='Ecl-Insulin Autoantibody', type='Concept', properties={}), target=Node(id='Autoantibody', type='Concept', properties={}), type='ASSOCIATED', properties={}), Relationship(source=Node(id='Hla Dr3/4-Dq8 Genotype', type='Concept', properties={}), target=Node(id='Trialnet', type='Organization', properties={}), type='PRESENT', properties={}), Relationship(source=Node(id='Hba1C', type='Concept', properties={}), target=Node(id='Trialnet', type='Organization', properties={}), type='ASSOCIATED', properties={}), Relationship(source=Node(id='Oral Glucose Tolerance Test', type='Concept', properties={}), target=Node(id='Trialnet', type='Organization', properties={}), type='PERFORMED', properties={}), Relationship(source=Node(id='C-Peptide', type='Concept', properties={}), target=Node(id='Trialnet', type='Organization', properties={}), type='MEASURED', properties={}), Relationship(source=Node(id='Diabetes Prevention Trial Risk Score', type='Concept', properties={}), target=Node(id='Trialnet', type='Organization', properties={}), type='USED', properties={})]\n",
      "[Relationship(source=Node(id='Hyperglycemia', type='Concept', properties={}), target=Node(id='Cardiovascular Disease', type='Concept', properties={}), type='ASSOCIATION', properties={}), Relationship(source=Node(id='Hyperglycemia', type='Concept', properties={}), target=Node(id='Mortality', type='Concept', properties={}), type='ASSOCIATION', properties={}), Relationship(source=Node(id='Glucose-Lowering Treatment', type='Concept', properties={}), target=Node(id='Hyperglycemia', type='Concept', properties={}), type='CAUSE', properties={}), Relationship(source=Node(id='Insulin Resistance', type='Concept', properties={}), target=Node(id='Cardiovascular Disease', type='Concept', properties={}), type='ASSOCIATION', properties={}), Relationship(source=Node(id='Diabetes', type='Concept', properties={}), target=Node(id='Hyperglycemia', type='Concept', properties={}), type='CAUSE', properties={}), Relationship(source=Node(id='Fasting Plasma Glucose', type='Measure', properties={}), target=Node(id='Framingham Risk Score', type='Concept', properties={}), type='ASSOCIATION', properties={}), Relationship(source=Node(id='2-Hour Post Oral Glucose Tolerance Test Plasma Glucose', type='Measure', properties={}), target=Node(id='Framingham Risk Score', type='Concept', properties={}), type='ASSOCIATION', properties={}), Relationship(source=Node(id='Insulin Sensitivity', type='Measure', properties={}), target=Node(id='Framingham Risk Score', type='Concept', properties={}), type='ASSOCIATION', properties={}), Relationship(source=Node(id='Body Fat Percentage', type='Measure', properties={}), target=Node(id='Framingham Risk Score', type='Concept', properties={}), type='NON-ASSOCIATION', properties={})]\n",
      "[Relationship(source=Node(id='Achilles Tendon', type='Structure', properties={}), target=Node(id='Tendons', type='Structure', properties={}), type='PART-OF', properties={}), Relationship(source=Node(id='Type 1 Diabetes Mellitus', type='Disease', properties={}), target=Node(id='Hyperglycaemia', type='Condition', properties={}), type='CAUSE', properties={}), Relationship(source=Node(id='Hyperglycaemia', type='Condition', properties={}), target=Node(id='Collagen Cross-Linking', type='Process', properties={}), type='RESULT', properties={}), Relationship(source=Node(id='Achilles Tendon Load-Response', type='Phenomenon', properties={}), target=Node(id='Tendon Structural Integrity', type='Property', properties={}), type='RELATED-TO', properties={}), Relationship(source=Node(id='Echo-Type I', type='Classification', properties={}), target=Node(id='Collagen Fibrils', type='Component', properties={}), type='PART-OF', properties={}), Relationship(source=Node(id='Tendon Structural Integrity', type='Property', properties={}), target=Node(id='Echo-Type I', type='Classification', properties={}), type='RELATED-TO', properties={}), Relationship(source=Node(id='Achilles Tendon Load-Response', type='Phenomenon', properties={}), target=Node(id='Tendon Structural Integrity', type='Property', properties={}), type='RELATED-TO', properties={}), Relationship(source=Node(id='Visa-A Scores', type='Measure', properties={}), target=Node(id='Tendon Function', type='Property', properties={}), type='RELATED-TO', properties={}), Relationship(source=Node(id='Hba1C', type='Measure', properties={}), target=Node(id='Diabetic Complications', type='Condition', properties={}), type='RELATED-TO', properties={})]\n",
      "[Relationship(source=Node(id='Insulin Dose Advisor', type='Device', properties={}), target=Node(id='G3 Group', type='Group', properties={}), type='WITH', properties={}), Relationship(source=Node(id='Insulin Dose Advisor', type='Device', properties={}), target=Node(id='G2 Group', type='Group', properties={}), type='WITHOUT', properties={}), Relationship(source=Node(id='Telemonitoring', type='Function', properties={}), target=Node(id='Hba1C', type='Measure', properties={}), type='IMPACT_ON', properties={}), Relationship(source=Node(id='Teleconsultation', type='Function', properties={}), target=Node(id='Hba1C', type='Measure', properties={}), type='IMPACT_ON', properties={}), Relationship(source=Node(id='Insulin Dose Advisor', type='Device', properties={}), target=Node(id='Diabeo System', type='System', properties={}), type='IMPROVED_BY', properties={})]\n",
      "[Relationship(source=Node(id='Insulin', type='Substance', properties={}), target=Node(id='Atherosclerosis', type='Disease', properties={}), type='RISK_FACTOR', properties={}), Relationship(source=Node(id='Insulin', type='Substance', properties={}), target=Node(id='Carotid Intima-Media Thickness', type='Measure', properties={}), type='RELATION', properties={}), Relationship(source=Node(id='Insulin', type='Substance', properties={}), target=Node(id='Regular Insulin', type='Medication', properties={}), type='EQUIVALENT_TO', properties={}), Relationship(source=Node(id='Insulin', type='Substance', properties={}), target=Node(id='Intermediate-Acting Insulin', type='Medication', properties={}), type='EQUIVALENT_TO', properties={})]\n",
      "[Relationship(source=Node(id='Neuromedin U', type='Neuropeptide', properties={}), target=Node(id='Nmur1', type='Receptor subtype', properties={}), type='CONFER_EFFECTS', properties={}), Relationship(source=Node(id='Neuromedin U', type='Neuropeptide', properties={}), target=Node(id='Nmur2', type='Receptor subtype', properties={}), type='CONFER_EFFECTS', properties={}), Relationship(source=Node(id='Neuromedin U', type='Neuropeptide', properties={}), target=Node(id='Insulin', type='Hormone', properties={}), type='REDUCE_SECRETION', properties={}), Relationship(source=Node(id='Neuromedin U', type='Neuropeptide', properties={}), target=Node(id='Somatostatin', type='Neuropeptide', properties={}), type='STIMULATE_SECRETION', properties={}), Relationship(source=Node(id='Nmur1', type='Receptor subtype', properties={}), target=Node(id='Endocrine Pancreas', type='Organ', properties={}), type='EXPRESSED_IN', properties={}), Relationship(source=Node(id='Nmur2', type='Receptor subtype', properties={}), target=Node(id='Endocrine Pancreas', type='Organ', properties={}), type='NOT_EXPRESSED_IN', properties={}), Relationship(source=Node(id='Neuromedin U', type='Neuropeptide', properties={}), target=Node(id='Insulin', type='Hormone', properties={}), type='STIMULATE_SECRETION', properties={}), Relationship(source=Node(id='Neuromedin U', type='Neuropeptide', properties={}), target=Node(id='Somatostatin', type='Neuropeptide', properties={}), type='STIMULATE_SECRETION', properties={}), Relationship(source=Node(id='Cyclosomatostatin', type='Antagonist', properties={}), target=Node(id='Insulin', type='Hormone', properties={}), type='INCREASE_SECRETION', properties={}), Relationship(source=Node(id='Cyclosomatostatin', type='Antagonist', properties={}), target=Node(id='Nmu-Induced Inhibition Of Insulin Secretion', type='Effect', properties={}), type='REDUCE', properties={})]\n",
      "[Relationship(source=Node(id='Insulin', type='Drug', properties={}), target=Node(id='Isophane', type='Drug', properties={}), type='USED_TOGETHER', properties={}), Relationship(source=Node(id='Sulfonylurea', type='Drug', properties={}), target=Node(id='Metformin', type='Drug', properties={}), type='USED_TOGETHER', properties={}), Relationship(source=Node(id='Insulin-Naive', type='Patient characteristic', properties={}), target=Node(id='Maximal Feasible Dosages', type='Dosage', properties={}), type='CHARACTERISTIC_OF', properties={}), Relationship(source=Node(id='Glycosylated Hemoglobin', type='Lab test', properties={}), target=Node(id='Hba1C', type='Lab test', properties={}), type='MEASURED_BY', properties={}), Relationship(source=Node(id='Insulin Monotherapy', type='Treatment', properties={}), target=Node(id='Fasting Glucose', type='Lab test', properties={}), type='GOAL_OF', properties={}), Relationship(source=Node(id='Insulin In Addition To Unchanged Oral Hypoglycemic Medication', type='Treatment', properties={}), target=Node(id='Postprandial Glucose', type='Lab test', properties={}), type='GOAL_OF', properties={}), Relationship(source=Node(id='Fasting Glucose', type='Lab test', properties={}), target=Node(id='Weight', type='Outcome measure', properties={}), type='RELATED_TO', properties={}), Relationship(source=Node(id='Postprandial Glucose', type='Lab test', properties={}), target=Node(id='Weight', type='Outcome measure', properties={}), type='RELATED_TO', properties={}), Relationship(source=Node(id='Fasting Glucose', type='Lab test', properties={}), target=Node(id='Hypoglycemic Events', type='Outcome measure', properties={}), type='RELATED_TO', properties={}), Relationship(source=Node(id='Postprandial Glucose', type='Lab test', properties={}), target=Node(id='Hypoglycemic Events', type='Outcome measure', properties={}), type='RELATED_TO', properties={}), Relationship(source=Node(id='Weight', type='Outcome measure', properties={}), target=Node(id='Satisfaction With Treatment', type='Outcome measure', properties={}), type='RELATED_TO', properties={}), Relationship(source=Node(id='Hypoglycemic Events', type='Outcome measure', properties={}), target=Node(id='General Well-Being', type='Outcome measure', properties={}), type='RELATED_TO', properties={}), Relationship(source=Node(id='Satisfaction With Treatment', type='Outcome measure', properties={}), target=Node(id='Fear Of Injecting Insulin And Testing', type='Outcome measure', properties={}), type='RELATED_TO', properties={})]\n",
      "[Relationship(source=Node(id='Coronary Risk Factor', type='Concept', properties={}), target=Node(id='Mortality Data', type='Concept', properties={}), type='BASED_ON', properties={}), Relationship(source=Node(id='Myocardial Infarction', type='Disease', properties={}), target=Node(id='Coronary Death', type='Disease', properties={}), type='RELATED_TO', properties={}), Relationship(source=Node(id='Serum Cholesterol', type='Chemical', properties={}), target=Node(id='Myocardial Infarction', type='Disease', properties={}), type='RISK_FACTOR_FOR', properties={}), Relationship(source=Node(id='Systolic Blood Pressure', type='Physical quantity', properties={}), target=Node(id='Myocardial Infarction', type='Disease', properties={}), type='RISK_FACTOR_FOR', properties={}), Relationship(source=Node(id='Ecg Confirmed Left Ventricular Hypertrophy', type='Disease', properties={}), target=Node(id='Myocardial Infarction', type='Disease', properties={}), type='RISK_FACTOR_FOR', properties={}), Relationship(source=Node(id='Fasting Blood Glucose', type='Chemical', properties={}), target=Node(id='Myocardial Infarction', type='Disease', properties={}), type='RISK_FACTOR_FOR', properties={}), Relationship(source=Node(id='Triglyceride', type='Chemical', properties={}), target=Node(id='Myocardial Infarction', type='Disease', properties={}), type='RISK_FACTOR_FOR', properties={}), Relationship(source=Node(id='Smoking', type='Behavior', properties={}), target=Node(id='Myocardial Infarction', type='Disease', properties={}), type='INCREASES_RISK_OF', properties={}), Relationship(source=Node(id='Diabetes', type='Disease', properties={}), target=Node(id='Myocardial Infarction', type='Disease', properties={}), type='RISK_FACTOR_FOR', properties={})]\n",
      "[Relationship(source=Node(id='Type1 Diabetes', type='Disease', properties={}), target=Node(id='Cardiovascular Disease', type='Disease', properties={}), type='RISK', properties={}), Relationship(source=Node(id='Atherogenic Diet', type='Diet', properties={}), target=Node(id='Type1 Diabetes', type='Disease', properties={}), type='CONSUMPTION', properties={}), Relationship(source=Node(id='Nutrient Intake', type='Concept', properties={}), target=Node(id='Eurodiab Prospective Complications Study', type='Study', properties={}), type='FOCUS', properties={}), Relationship(source=Node(id='European Nutritional Recommendations', type='Recommendation', properties={}), target=Node(id='Eurodiab Prospective Complications Study', type='Study', properties={}), type='GUIDELINE', properties={})]\n",
      "[Relationship(source=Node(id='Tumoral Somatostatin Receptor Subtype 2A', type='Concept', properties={}), target=Node(id='Sst2A Immunohistochemistry', type='Concept', properties={}), type='HAS', properties={}), Relationship(source=Node(id='Somatostatin Receptor Scintigraphy', type='Concept', properties={}), target=Node(id='Sst2A Immunohistochemistry', type='Concept', properties={}), type='USED_IN', properties={}), Relationship(source=Node(id='Peptide Receptor Radiotherapy', type='Concept', properties={}), target=Node(id='Tumoral Somatostatin Receptor Subtype 2A', type='Concept', properties={}), type='TREATED_WITH', properties={}), Relationship(source=Node(id='Gastroenteropancreatic Neuroendocrine Tumors', type='Concept', properties={}), target=Node(id='Sst2A Immunohistochemistry', type='Concept', properties={}), type='AFFECTED_BY', properties={})]\n",
      "[Relationship(source=Node(id='International Association Of The Diabetes And Pregnancy Study Groups', type='Organization', properties={}), target=Node(id='Iadpsg', type='Organization', properties={}), type='AFFILIATION', properties={}), Relationship(source=Node(id='Gestational Diabetes Mellitus', type='Disease', properties={}), target=Node(id='Diabetes', type='Disease', properties={}), type='CAUSE', properties={}), Relationship(source=Node(id='Iadpsg', type='Organization', properties={}), target=Node(id='Gestational Diabetes Mellitus', type='Disease', properties={}), type='RECOMMENDATION', properties={}), Relationship(source=Node(id='Diabetes', type='Disease', properties={}), target=Node(id='Pregnancy', type='Condition', properties={}), type='COMPLICATION', properties={}), Relationship(source=Node(id='Iadpsg', type='Organization', properties={}), target=Node(id='Preeclampsia', type='Condition', properties={}), type='RECOMMENDATION', properties={}), Relationship(source=Node(id='Shoulder Dystocia', type='Condition', properties={}), target=Node(id='Birth Injury', type='Condition', properties={}), type='COMPLICATION', properties={}), Relationship(source=Node(id='Iadpsg', type='Organization', properties={}), target=Node(id='Glucose Challenge Test', type='Test', properties={}), type='RECOMMENDATION', properties={}), Relationship(source=Node(id='Glucose Tolerance Test', type='Test', properties={}), target=Node(id='Iadpsg', type='Organization', properties={}), type='RECOMMENDATION', properties={}), Relationship(source=Node(id='Postdelivery Counseling', type='Treatment', properties={}), target=Node(id='Diabetes', type='Disease', properties={}), type='PREVENTION', properties={}), Relationship(source=Node(id='Behavior Modification', type='Treatment', properties={}), target=Node(id='Diabetes', type='Disease', properties={}), type='PREVENTION', properties={})]\n",
      "[Relationship(source=Node(id='Angiotensin-Converting Enzyme', type='Enzyme', properties={}), target=Node(id='Hypoglycaemia', type='Condition', properties={}), type='ASSOCIATION', properties={}), Relationship(source=Node(id='Renin-Angiotensin System', type='System', properties={}), target=Node(id='Hypoglycaemia', type='Condition', properties={}), type='BLOCKING', properties={})]\n",
      "[Relationship(source=Node(id='Type 2 Diabetes', type='Disease', properties={}), target=Node(id='Diabetic Complications', type='Condition', properties={}), type='CAUSES', properties={}), Relationship(source=Node(id='Glycemic Control', type='Treatment approach', properties={}), target=Node(id='Type 2 Diabetes', type='Disease', properties={}), type='PREVENTS', properties={}), Relationship(source=Node(id='Clinical Outcomes', type='Concept', properties={}), target=Node(id='Retinopathy', type='Condition', properties={}), type='RELATED_TO', properties={}), Relationship(source=Node(id='Clinical Outcomes', type='Concept', properties={}), target=Node(id='Erectile Dysfunction', type='Condition', properties={}), type='RELATED_TO', properties={}), Relationship(source=Node(id='Hba(1C)', type='Measure', properties={}), target=Node(id='Type 2 Diabetes', type='Disease', properties={}), type='MEASURED_FOR', properties={}), Relationship(source=Node(id='Vibration Sensory Threshold', type='Measure', properties={}), target=Node(id='Type 2 Diabetes', type='Disease', properties={}), type='MEASURED_FOR', properties={}), Relationship(source=Node(id='Microalbuminuria', type='Condition', properties={}), target=Node(id='Type 2 Diabetes', type='Disease', properties={}), type='RELATED_TO', properties={}), Relationship(source=Node(id='Myocardial Infarction', type='Condition', properties={}), target=Node(id='Type 2 Diabetes', type='Disease', properties={}), type='RELATED_TO', properties={}), Relationship(source=Node(id='Stroke', type='Condition', properties={}), target=Node(id='Type 2 Diabetes', type='Disease', properties={}), type='RELATED_TO', properties={})]\n",
      "[Relationship(source=Node(id='Diabetes Mellitus', type='Disease', properties={}), target=Node(id='Coronary Atherosclerotic Burden', type='Condition', properties={}), type='HAS_CONDITION', properties={}), Relationship(source=Node(id='Death', type='Outcome', properties={}), target=Node(id='Diabetes Mellitus', type='Disease', properties={}), type='IS_OUTCOME_OF', properties={}), Relationship(source=Node(id='Myocardial Infarction', type='Outcome', properties={}), target=Node(id='Diabetes Mellitus', type='Disease', properties={}), type='IS_OUTCOME_OF', properties={}), Relationship(source=Node(id='Complex Coronary Lesions', type='Lesion type', properties={}), target=Node(id='Bifurcation Lesion', type='Lesion type', properties={}), type='IS_A_TYPE_OF', properties={}), Relationship(source=Node(id='Complex Coronary Lesions', type='Lesion type', properties={}), target=Node(id='Ostial Lesion', type='Lesion type', properties={}), type='IS_A_TYPE_OF', properties={}), Relationship(source=Node(id='Diabetes Mellitus', type='Disease', properties={}), target=Node(id='Hypertension', type='Condition', properties={}), type='HAS_CONDITION', properties={}), Relationship(source=Node(id='Diabetes Mellitus', type='Disease', properties={}), target=Node(id='Hyperlipidemia', type='Condition', properties={}), type='HAS_CONDITION', properties={}), Relationship(source=Node(id='Diabetes Mellitus', type='Disease', properties={}), target=Node(id='Smoking', type='Behavior', properties={}), type='HAS_BEHAVIOR', properties={}), Relationship(source=Node(id='Bifurcation Lesion', type='Lesion type', properties={}), target=Node(id='Diabetes Mellitus', type='Disease', properties={}), type='IS_A_TYPE_OF', properties={}), Relationship(source=Node(id='Ostial Lesion', type='Lesion type', properties={}), target=Node(id='Diabetes Mellitus', type='Disease', properties={}), type='IS_A_TYPE_OF', properties={}), Relationship(source=Node(id='Bifurcation Lesion', type='Lesion type', properties={}), target=Node(id='Hypertension', type='Condition', properties={}), type='HAS_CONDITION', properties={}), Relationship(source=Node(id='Ostial Lesion', type='Lesion type', properties={}), target=Node(id='Hyperlipidemia', type='Condition', properties={}), type='HAS_CONDITION', properties={}), Relationship(source=Node(id='Bifurcation Lesion', type='Lesion type', properties={}), target=Node(id='Smoking', type='Behavior', properties={}), type='HAS_BEHAVIOR', properties={}), Relationship(source=Node(id='Ostial Lesion', type='Lesion type', properties={}), target=Node(id='Smoking', type='Behavior', properties={}), type='HAS_BEHAVIOR', properties={})]\n",
      "[Relationship(source=Node(id='T2Dm', type='Disease', properties={}), target=Node(id=\"Cushing'S Syndrome\", type='Condition', properties={}), type='RELATED_TO', properties={}), Relationship(source=Node(id='Obesity', type='Condition', properties={}), target=Node(id='Cortisol', type='Hormone', properties={}), type='AFFECTS', properties={}), Relationship(source=Node(id='Bmi', type='Measure', properties={}), target=Node(id='T2Dm', type='Disease', properties={}), type='RELATED_TO', properties={}), Relationship(source=Node(id='Ufc', type='Test', properties={}), target=Node(id=\"Cushing'S Syndrome\", type='Condition', properties={}), type='DIAGNOSES', properties={}), Relationship(source=Node(id='Dst', type='Test', properties={}), target=Node(id=\"Cushing'S Syndrome\", type='Condition', properties={}), type='DIAGNOSES', properties={})]\n",
      "[Relationship(source=Node(id='Registered Dietitian', type='Person', properties={}), target=Node(id='Carbohydrates', type='Dietary component', properties={}), type='RECOMMENDATION', properties={}), Relationship(source=Node(id='Registered Nurse', type='Person', properties={}), target=Node(id='Carbohydrates', type='Dietary component', properties={}), type='RECOMMENDATION', properties={}), Relationship(source=Node(id='Diabetes Educator', type='Person', properties={}), target=Node(id='Fiber', type='Dietary component', properties={}), type='RECOMMENDATION', properties={}), Relationship(source=Node(id='Registered Dietitian', type='Person', properties={}), target=Node(id='Glycemic Index', type='Dietary component', properties={}), type='RECOMMENDATION', properties={}), Relationship(source=Node(id='Registered Nurse', type='Person', properties={}), target=Node(id='Glycemic Index', type='Dietary component', properties={}), type='RECOMMENDATION', properties={}), Relationship(source=Node(id='Diabetes Educator', type='Person', properties={}), target=Node(id='Hypoglycemia', type='Medical condition', properties={}), type='RECOMMENDATION', properties={}), Relationship(source=Node(id='Registered Nurse', type='Person', properties={}), target=Node(id='Hypoglycemia', type='Medical condition', properties={}), type='RECOMMENDATION', properties={})]\n",
      "[Relationship(source=Node(id='Parity', type='Number', properties={}), target=Node(id='Insulin Sensitivity Index Ogtt', type='Number', properties={}), type='DECREASED_BY', properties={}), Relationship(source=Node(id='Parity', type='Number', properties={}), target=Node(id='C Peptide', type='Chemical', properties={}), type='INCREASED_BY', properties={}), Relationship(source=Node(id='Parity', type='Number', properties={}), target=Node(id='Gestational Diabetes Mellitus', type='Disease', properties={}), type='RELATED_TO', properties={}), Relationship(source=Node(id='Age', type='Number', properties={}), target=Node(id='Gestational Diabetes Mellitus', type='Disease', properties={}), type='STRONGLY_RELATED_TO', properties={}), Relationship(source=Node(id='Body Mass Index', type='Number', properties={}), target=Node(id='Gestational Diabetes Mellitus', type='Disease', properties={}), type='RELATED_TO', properties={}), Relationship(source=Node(id='Weight Gain', type='Number', properties={}), target=Node(id='Insulin Sensitivity Index Ogtt', type='Number', properties={}), type='DECREASED_BY', properties={})]\n",
      "[Relationship(source=Node(id='Twenty-Seven', type='Number', properties={}), target=Node(id='Healthy', type='Adjective', properties={}), type='HAS', properties={}), Relationship(source=Node(id='Healthy', type='Adjective', properties={}), target=Node(id='Normal', type='Adjective', properties={}), type='IS_SIMILAR_TO', properties={}), Relationship(source=Node(id='Normal', type='Adjective', properties={}), target=Node(id='Glucose-Tolerant', type='Adjective', properties={}), type='HAS', properties={}), Relationship(source=Node(id='Glucose-Tolerant', type='Adjective', properties={}), target=Node(id='Gestational Diabetes', type='Disease', properties={}), type='IS_SIMILAR_TO', properties={}), Relationship(source=Node(id='Gestational Diabetes', type='Disease', properties={}), target=Node(id='Type 2 Diabetes', type='Disease', properties={}), type='IS_SIMILAR_TO', properties={}), Relationship(source=Node(id='Type 2 Diabetes', type='Disease', properties={}), target=Node(id='Adults', type='Noun', properties={}), type='HAS', properties={}), Relationship(source=Node(id='Adults', type='Noun', properties={}), target=Node(id='History', type='Noun', properties={}), type='IS_SIMILAR_TO', properties={}), Relationship(source=Node(id='History', type='Noun', properties={}), target=Node(id='Diabetes', type='Disease', properties={}), type='HAS', properties={}), Relationship(source=Node(id='Diabetes', type='Disease', properties={}), target=Node(id='Exercise Test', type='Noun', properties={}), type='IS_SIMILAR_TO', properties={}), Relationship(source=Node(id='Exercise Test', type='Noun', properties={}), target=Node(id='Exhaustion', type='Noun', properties={}), type='HAS', properties={}), Relationship(source=Node(id='Exhaustion', type='Noun', properties={}), target=Node(id='Skin Microvascular Function', type='Noun', properties={}), type='IS_SIMILAR_TO', properties={}), Relationship(source=Node(id='Skin Microvascular Function', type='Noun', properties={}), target=Node(id='Laser Doppler Techniques', type='Noun', properties={}), type='HAS', properties={}), Relationship(source=Node(id='Laser Doppler Techniques', type='Noun', properties={}), target=Node(id='Maximum Skin Hyperaemic Response', type='Noun', properties={}), type='IS_SIMILAR_TO', properties={}), Relationship(source=Node(id='Maximum Skin Hyperaemic Response', type='Noun', properties={}), target=Node(id='Thermal Stimulus', type='Noun', properties={}), type='HAS', properties={}), Relationship(source=Node(id='Thermal Stimulus', type='Noun', properties={}), target=Node(id='Iontophoretic Application', type='Noun', properties={}), type='IS_SIMILAR_TO', properties={}), Relationship(source=Node(id='Iontophoretic Application', type='Noun', properties={}), target=Node(id='Acetylcholine', type='Chemical', properties={}), type='HAS', properties={}), Relationship(source=Node(id='Acetylcholine', type='Chemical', properties={}), target=Node(id='Sodium Nitroprusside', type='Chemical', properties={}), type='IS_SIMILAR_TO', properties={}), Relationship(source=Node(id='Sodium Nitroprusside', type='Chemical', properties={}), target=Node(id='Maximal Oxygen Uptake', type='Noun', properties={}), type='HAS', properties={}), Relationship(source=Node(id='Maximal Oxygen Uptake', type='Noun', properties={}), target=Node(id='Healthy Controls', type='Noun', properties={}), type='IS_SIMILAR_TO', properties={}), Relationship(source=Node(id='Healthy Controls', type='Noun', properties={}), target=Node(id='At-Risk Group', type='Noun', properties={}), type='HAS', properties={})]\n",
      "[Relationship(source=Node(id='Telmisartan', type='Drug', properties={}), target=Node(id='Diabetes', type='Disease', properties={}), type='TREATMENT', properties={}), Relationship(source=Node(id='Tgf-Beta', type='Protein', properties={}), target=Node(id='Hepatic Stellate Cells', type='Cell type', properties={}), type='REGULATION', properties={}), Relationship(source=Node(id='Alloxan', type='Chemical', properties={}), target=Node(id='Rat', type='Animal', properties={}), type='INDUCTION', properties={})]\n",
      "[Relationship(source=Node(id='Angiotensin-Converting Enzyme', type='Gene', properties={}), target=Node(id='Coronary Heart Disease', type='Disease', properties={}), type='ASSOCIATED_WITH', properties={}), Relationship(source=Node(id='Dd Genotype', type='Genotype', properties={}), target=Node(id='Non-Insulin-Dependent Diabetic', type='Condition', properties={}), type='HAS', properties={}), Relationship(source=Node(id='Dd Genotype', type='Genotype', properties={}), target=Node(id='Nondiabetic', type='Condition', properties={}), type='HAS', properties={}), Relationship(source=Node(id='Ii Genotype', type='Genotype', properties={}), target=Node(id='Non-Insulin-Dependent Diabetic', type='Condition', properties={}), type='HAS', properties={}), Relationship(source=Node(id='Dd Genotype', type='Genotype', properties={}), target=Node(id='Insulin-Like Molecule', type='Molecule', properties={}), type='RELATED_TO', properties={}), Relationship(source=Node(id='Dd Genotype', type='Genotype', properties={}), target=Node(id='Plasminogen Activator Inhibitor-1', type='Protein', properties={}), type='RELATED_TO', properties={})]\n",
      "[Relationship(source=Node(id='Glass Workers', type='Occupation', properties={}), target=Node(id='Diabetes Mellitus', type='Disease', properties={}), type='EXPOSURE', properties={}), Relationship(source=Node(id='Glassblowers', type='Occupation', properties={}), target=Node(id='Diabetes Mellitus', type='Disease', properties={}), type='EXPOSURE', properties={}), Relationship(source=Node(id='Foundry Workers', type='Occupation', properties={}), target=Node(id='Diabetes Mellitus', type='Disease', properties={}), type='EXPOSURE', properties={}), Relationship(source=Node(id='Unspecified Workers', type='Occupation', properties={}), target=Node(id='Diabetes Mellitus', type='Disease', properties={}), type='EXPOSURE', properties={}), Relationship(source=Node(id='Glass Workers', type='Occupation', properties={}), target=Node(id='Cardiovascular Disease', type='Disease', properties={}), type='CO-EXPOSURE', properties={}), Relationship(source=Node(id='Glassblowers', type='Occupation', properties={}), target=Node(id='Cardiovascular Disease', type='Disease', properties={}), type='CO-EXPOSURE', properties={}), Relationship(source=Node(id='Foundry Workers', type='Occupation', properties={}), target=Node(id='Cardiovascular Disease', type='Disease', properties={}), type='CO-EXPOSURE', properties={}), Relationship(source=Node(id='Unspecified Workers', type='Occupation', properties={}), target=Node(id='Cardiovascular Disease', type='Disease', properties={}), type='CO-EXPOSURE', properties={})]\n",
      "[Relationship(source=Node(id='Pancreatic_Transplantation', type='Concept', properties={}), target=Node(id='Gastric_Bypass', type='Concept', properties={}), type='TREATMENT_OPTION', properties={}), Relationship(source=Node(id='Diabetes_Type_1', type='Concept', properties={}), target=Node(id='Gastric_Bypass', type='Concept', properties={}), type='POTENTIAL_TARGET', properties={}), Relationship(source=Node(id='Diabetes_Type_2', type='Concept', properties={}), target=Node(id='Gastric_Bypass', type='Concept', properties={}), type='TREATMENT_OPTION', properties={})]\n",
      "Nodes:[Node(id='Positron Emission Tomography', type='Concept', properties={}), Node(id='Computed Tomography', type='Concept', properties={}), Node(id='Magnetic Resonance Imaging', type='Concept', properties={}), Node(id='Cervical Cancer', type='Concept', properties={}), Node(id='Diabetes Mellitus', type='Concept', properties={}), Node(id='Fdg-Pet', type='Concept', properties={}), Node(id='Mri/Ct Scans', type='Concept', properties={}), Node(id='Hyperglycaemic Dm', type='Concept', properties={}), Node(id='Euglycaemic Dm', type='Concept', properties={}), Node(id='Non-Dm', type='Concept', properties={})]\n",
      "Relationships:[Relationship(source=Node(id='Positron Emission Tomography', type='Concept', properties={}), target=Node(id='Cervical Cancer', type='Concept', properties={}), type='ASSESSES', properties={}), Relationship(source=Node(id='Computed Tomography', type='Concept', properties={}), target=Node(id='Cervical Cancer', type='Concept', properties={}), type='COMPARES_TO', properties={}), Relationship(source=Node(id='Magnetic Resonance Imaging', type='Concept', properties={}), target=Node(id='Cervical Cancer', type='Concept', properties={}), type='COMPARES_TO', properties={}), Relationship(source=Node(id='Diabetes Mellitus', type='Concept', properties={}), target=Node(id='Fdg-Pet', type='Concept', properties={}), type='INFLUENCES', properties={}), Relationship(source=Node(id='Fdg-Pet', type='Concept', properties={}), target=Node(id='Hyperglycaemic Dm', type='Concept', properties={}), type='USED_FOR', properties={}), Relationship(source=Node(id='Mri/Ct Scans', type='Concept', properties={}), target=Node(id='Hyperglycaemic Dm', type='Concept', properties={}), type='COMPARED_TO', properties={})]\n"
     ]
    }
   ],
   "source": [
    "# Use LLMGraphTransformer\n",
    "llm_transformer = LLMGraphTransformer(llm=llm, additional_instructions=\"Remove all special characters such as parentheses or apostrophes from entities.\")\n",
    "\n",
    "graph_documents = []\n",
    "for doc in documents:\n",
    "    graph_doc = llm_transformer.process_response(doc)\n",
    "    graph_documents.append(graph_doc)\n",
    "\n",
    "print(f\"Nodes:{graph_documents[0].nodes}\")\n",
    "print(f\"Relationships:{graph_documents[0].relationships}\")"
   ]
  },
  {
   "cell_type": "code",
   "execution_count": 104,
   "id": "643929f4",
   "metadata": {},
   "outputs": [
    {
     "name": "stdout",
     "output_type": "stream",
     "text": [
      "Unique Relations:\n",
      "AFFECTED_BY\n",
      "POSITIVE\n",
      "ASSOCIATION\n",
      "CAUSE\n",
      "CONFER_EFFECTS\n",
      "INCREASED_BY\n",
      "EXPRESSED_IN\n",
      "COMPARES_TO\n",
      "IS_A_TYPE_OF\n",
      "EQUIVALENT_TO\n",
      "DECREASED_BY\n",
      "USED_FOR\n",
      "REDUCE\n",
      "PRESENT\n",
      "MEASURED\n",
      "STIMULATE_SECRETION\n",
      "HAS_CONDITION\n",
      "STRONGLY_RELATED_TO\n",
      "RELATION\n",
      "WITH\n",
      "TREATED_WITH\n",
      "USED_TOGETHER\n",
      "POTENTIAL_TARGET\n",
      "IMPACT_ON\n",
      "INCREASES_RISK_OF\n",
      "IS_SIMILAR_TO\n",
      "FOCUS\n",
      "TREATMENT_OPTION\n",
      "ASSESSES\n",
      "WITHOUT\n",
      "RISK_FACTOR_FOR\n",
      "INFLUENCES\n",
      "NOT_EXPRESSED_IN\n",
      "GOAL_OF\n",
      "HAS\n",
      "ASSOCIATED_WITH\n",
      "BLOCKING\n",
      "PREVENTS\n",
      "COMPARED_TO\n",
      "IS_OUTCOME_OF\n",
      "RISK_FACTOR\n",
      "INCREASE_SECRETION\n",
      "REGULATION\n",
      "CO_EXPOSURE\n",
      "PREVENTION\n",
      "EXPOSURE\n",
      "IMPROVED_BY\n",
      "COMPLICATION\n",
      "INDUCTION\n",
      "DEVELOPED\n",
      "NON_ASSOCIATION\n",
      "PART_OF\n",
      "HAS_BEHAVIOR\n",
      "AFFECTS\n",
      "GUIDELINE\n",
      "TREATMENT\n",
      "RECOMMENDATION\n",
      "PERFORMED\n",
      "AFFILIATION\n",
      "MEASURED_FOR\n",
      "USED_IN\n",
      "REDUCE_SECRETION\n",
      "MEASURED_BY\n",
      "CHARACTERISTIC_OF\n",
      "RESULT\n",
      "CAUSES\n",
      "CONSUMPTION\n",
      "USED\n",
      "DIAGNOSES\n",
      "ASSOCIATED\n",
      "RELATED_TO\n",
      "BASED_ON\n",
      "RISK\n",
      "Total:  73\n"
     ]
    }
   ],
   "source": [
    "# Print all the unique relations\n",
    "unique_relations = set()\n",
    "\n",
    "# Iterate over all GraphDocuments and collect unique relationships\n",
    "for graph_doc in graph_documents:\n",
    "    for relation in graph_doc.relationships:\n",
    "        relation.type = relation.type.replace(\"-\", \"_\")\n",
    "        # Add the relation (the relation is typically a tuple like (subject, relation, object))\n",
    "        unique_relations.add(relation.type)  # We are interested in the relationship (second element)\n",
    "\n",
    "# Print unique relations\n",
    "print(\"Unique Relations:\")\n",
    "for relation in unique_relations:\n",
    "    print(relation)\n",
    "print(\"Total: \", len(unique_relations))"
   ]
  },
  {
   "cell_type": "code",
   "execution_count": 146,
   "id": "9727e83a",
   "metadata": {},
   "outputs": [],
   "source": [
    "# Simplify relations\n",
    "simplify_prompt = PromptTemplate(\n",
    "    input_variables=[\"relations\"],\n",
    "    template=\"\"\"\n",
    "You are cleaning up a knowledge graph. Given this list of relationship types:\n",
    "\n",
    "{relations}\n",
    "\n",
    "Group similar or redundant ones and propose standardized names for them. \n",
    "Output only a mapping in JSON format where each original relation is mapped to a simplified version of that relation.\n",
    "IMPORTANT NOTES:\\n\n",
    "        - Don't add any explanation and text.\n",
    "\"\"\",\n",
    ")\n",
    "\n",
    "simplify_chain = simplify_prompt | llm"
   ]
  },
  {
   "cell_type": "code",
   "execution_count": 160,
   "id": "f34924f9",
   "metadata": {},
   "outputs": [],
   "source": [
    "simplified_relations = simplify_chain.invoke({\"relations\": unique_relations})"
   ]
  },
  {
   "cell_type": "code",
   "execution_count": 161,
   "id": "e4826742",
   "metadata": {},
   "outputs": [],
   "source": [
    "# Update the relations in the graph_documents\n",
    "relation_mapping = ast.literal_eval(simplified_relations.content)\n",
    "updated_graph_documents = []\n",
    "\n",
    "for doc in graph_documents:\n",
    "    updated_relationships = []\n",
    "    for rel in doc.relationships:\n",
    "        original_type = rel.type\n",
    "        new_type = relation_mapping.get(original_type, original_type)  # fallback to original\n",
    "        if new_type != original_type:\n",
    "            # Create a new relationship object with updated type\n",
    "            rel.type = new_type\n",
    "        updated_relationships.append(rel)\n",
    "\n",
    "    doc.relationships = updated_relationships\n",
    "    updated_graph_documents.append(doc)"
   ]
  },
  {
   "cell_type": "code",
   "execution_count": 162,
   "id": "72a96fef",
   "metadata": {},
   "outputs": [],
   "source": [
    "# Add to graph\n",
    "graph.add_graph_documents(updated_graph_documents, baseEntityLabel=True)"
   ]
  },
  {
   "cell_type": "markdown",
   "id": "2e86b624",
   "metadata": {},
   "source": [
    "### Extract as many relations as possible ###\n",
    "Extract more relations based on the existing nodes in the KG to improve density."
   ]
  },
  {
   "cell_type": "code",
   "execution_count": null,
   "id": "4112a79c",
   "metadata": {},
   "outputs": [],
   "source": [
    "# Prompts model to extract as many entities as possible\n",
    "entity_prompt = PromptTemplate(\n",
    "    input_variables=[\"question\"],\n",
    "    template=\"\"\"\n",
    "        Attempt to extract as many entities as you can. Maintain\n",
    "        Entity Consistency: When extracting entities, it's vital to ensure\n",
    "        consistency. If an entity, such as \"John Doe\", is mentioned multiple\n",
    "        times in the text but is referred to by different names or pronouns\n",
    "        (e.g., \"Joe\", \"he\"), always use the most complete identifier for\n",
    "        that entity. The knowledge graph should be coherent and easily\n",
    "        understandable, so maintaining consistency in entity references is\n",
    "        crucial.\n",
    "        IMPORTANT NOTES:\\n\n",
    "        - Don't add any explanation and text.\n",
    "        - Exclude special characters like parentheses or apostrophes.\n",
    "Question: \"{question}\"\n",
    "Entities (comma-separated):\"\"\"\n",
    ")\n",
    "\n",
    "entity_chain = entity_prompt | llm"
   ]
  },
  {
   "cell_type": "code",
   "execution_count": null,
   "id": "e4687b48",
   "metadata": {},
   "outputs": [],
   "source": [
    "# Prompts model to extract as many relations as possible between given entities\n",
    "relation_prompt = PromptTemplate(\n",
    "    input_variables = [\"abstract\", \"entities\"],\n",
    "    template=\"\"\"\n",
    "        You are a top-tier algorithm designed for extracting information in \n",
    "        structured formats to build a knowledge graph. You must generate the \n",
    "        output as GraphDocument objects. Each object contains Relationships, which\n",
    "        should have a source, target, and type key. The source and target keys are nodes from the following list: {entities}.\n",
    "        The type key must contain the directional relationship between the source\n",
    "        and target nodes. The type key is a relationship that can be found in the \n",
    "        the following text: {abstract}. Keep relationship types as succinct and simple as possible.\n",
    "        IMPORTANT NOTES:\\n- Don't add any explanation and text.\"\"\"\n",
    ")\n",
    "\n",
    "relation_chain = relation_prompt | relation_llm"
   ]
  },
  {
   "cell_type": "code",
   "execution_count": null,
   "id": "1bf08428",
   "metadata": {},
   "outputs": [
    {
     "name": "stdout",
     "output_type": "stream",
     "text": [
      "['Positron Emission Tomography', 'Computed Tomography', 'Magnetic Resonance Imaging', 'Cervical Cancer', 'Diabetes Mellitus', 'Fdg-Pet', 'Mri/Ct Scans', 'Hyperglycaemic Dm', 'Euglycaemic Dm', 'Non-Dm']\n"
     ]
    }
   ],
   "source": [
    "# Extract additional relations for the nodes already in the graph by prompting with those nodes and the abstracts again\n",
    "# The graph needs to be more dense\n",
    "abstract = documents[0]\n",
    "#entity_response = entity_chain.invoke(abstract.page_content)\n",
    "#entities = [e.strip() for e in entity_response.content.split(\",\") if e.strip()]\n",
    "entities = [node.id for node in graph_documents[0].nodes]\n",
    "print(entities)\n",
    "response = relation_chain.invoke({\"abstract\": abstract.page_content, \"entities\": entities}) # BUG HERE: extracts the same relation multiple times?"
   ]
  },
  {
   "cell_type": "code",
   "execution_count": 175,
   "id": "b3e312f3",
   "metadata": {},
   "outputs": [
    {
     "name": "stdout",
     "output_type": "stream",
     "text": [
      "may have additional value in the assessment of primary and recurrent cervical cancer\n",
      "degree of tumour uptake is sometimes influenced by\n",
      "in the assessment of primary and recurrent cervical cancer\n",
      "were performed within 2 weeks\n",
      "diagnostic ability in patients with cervical cancer complicated by DM\n",
      "influence on the degree of tumour uptake\n",
      "were performed within 2 weeks\n",
      "diagnostic ability in patients with cervical cancer complicated by DM\n",
      "influence on the degree of tumour uptake\n",
      "were performed within 2 weeks\n",
      "diagnostic ability in patients with cervical cancer complicated by DM\n",
      "influence on the degree of tumour uptake\n",
      "were performed within 2 weeks\n"
     ]
    }
   ],
   "source": [
    "for relation in response.relationships:\n",
    "    print(relation.type)"
   ]
  },
  {
   "cell_type": "markdown",
   "id": "680a63ea",
   "metadata": {},
   "source": [
    "### Querying ###\n",
    "Now that we have a dense graph, we can query it by passing the possible relations to our querying model, llama-3.3."
   ]
  },
  {
   "cell_type": "code",
   "execution_count": null,
   "id": "e92d1286",
   "metadata": {},
   "outputs": [],
   "source": []
  }
 ],
 "metadata": {
  "kernelspec": {
   "display_name": "kg",
   "language": "python",
   "name": "python3"
  },
  "language_info": {
   "codemirror_mode": {
    "name": "ipython",
    "version": 3
   },
   "file_extension": ".py",
   "mimetype": "text/x-python",
   "name": "python",
   "nbconvert_exporter": "python",
   "pygments_lexer": "ipython3",
   "version": "3.10.16"
  }
 },
 "nbformat": 4,
 "nbformat_minor": 5
}
