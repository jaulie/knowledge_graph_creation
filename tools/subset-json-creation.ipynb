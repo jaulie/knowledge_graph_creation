{
 "cells": [
  {
   "cell_type": "code",
   "execution_count": 8,
   "metadata": {},
   "outputs": [
    {
     "name": "stdout",
     "output_type": "stream",
     "text": [
      "/Users/rebeccaglick/Desktop/pubmedqa/data\n"
     ]
    }
   ],
   "source": [
    "%cd \"/Users/rebeccaglick/Desktop/pubmedqa/data\"\n",
    "\n",
    "import json\n",
    "\n",
    "# Load data\n",
    "with open('ori_pqal.json', 'r') as f:\n",
    "    data = json.load(f)\n",
    "\n",
    "# List of diabetes/endocrine-related IDs\n",
    "diabetes_ids = [\n",
    "    '15703931', '27456836', '22720085', '26556589', '24139705', '15939071', '18948835',\n",
    "    '15125825', '12006913', '23224030', '26536001', '22266735', '17894828', '12145243',\n",
    "    '16971978', '22522271', '15095519', '16241924', '15787677', '19406119', '8521557',\n",
    "    '8738894', '20011163'\n",
    "]\n",
    "\n",
    "# Filter to subset\n",
    "diabetes_subset = {id_: data[id_] for id_ in diabetes_ids if id_ in data}\n",
    "\n",
    "# Define path\n",
    "output_path = \"/Users/rebeccaglick/Desktop/SPRING 2025/NLU/Project/knowledge_graph_creation/data/diabetes_subset.json\"\n",
    "\n",
    "# Save to JSON file in specified directory\n",
    "with open(output_path, \"w\") as f:\n",
    "    json.dump(diabetes_subset, f, indent=2)\n"
   ]
  },
  {
   "cell_type": "code",
   "execution_count": 9,
   "metadata": {},
   "outputs": [],
   "source": [
    "import json\n",
    "\n",
    "# Load full dataset\n",
    "with open(\"ori_pqal.json\", \"r\") as f:\n",
    "    data = json.load(f)\n",
    "\n",
    "# Prostate cancer related IDs\n",
    "prostate_ids = [\n",
    "    '23806388', '14697414', '17008699', '19836806', '12947068', '25787073', '18399830',\n",
    "    '14713788', '18472368', '15466981', '23792130', '23453079', '27909738', '24318956',\n",
    "    '18568239', '25735444', '15708048'\n",
    "]\n",
    "\n",
    "# Filter to subset\n",
    "prostate_subset = {id_: data[id_] for id_ in prostate_ids if id_ in data}\n",
    "\n",
    "# Define path\n",
    "output_path = \"/Users/rebeccaglick/Desktop/SPRING 2025/NLU/Project/knowledge_graph_creation/data/prostate_cancer_subset.json\"\n",
    "\n",
    "# Save to JSON file in specified directory\n",
    "with open(output_path, \"w\") as f:\n",
    "    json.dump(prostate_subset, f, indent=2)"
   ]
  },
  {
   "cell_type": "code",
   "execution_count": null,
   "metadata": {},
   "outputs": [],
   "source": []
  }
 ],
 "metadata": {
  "kernelspec": {
   "display_name": "Python 3.13.0 64-bit",
   "language": "python",
   "name": "python3"
  },
  "language_info": {
   "codemirror_mode": {
    "name": "ipython",
    "version": 3
   },
   "file_extension": ".py",
   "mimetype": "text/x-python",
   "name": "python",
   "nbconvert_exporter": "python",
   "pygments_lexer": "ipython3",
   "version": "3.13.0"
  },
  "orig_nbformat": 4,
  "vscode": {
   "interpreter": {
    "hash": "8221805af4e5bdefcc7d69093bd904cba19642372787acfe1a34390f0b03678f"
   }
  }
 },
 "nbformat": 4,
 "nbformat_minor": 2
}
