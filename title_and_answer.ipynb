{
 "cells": [
  {
   "cell_type": "code",
   "execution_count": 1,
   "metadata": {},
   "outputs": [],
   "source": [
    "import json\n",
    "import pandas as pd\n",
    "\n",
    "file_name = \"/Users/brianmann/Downloads/ori_pqal.json\"\n",
    "\n",
    "# Load the JSON file\n",
    "with open(file_name, 'r', encoding='utf-8') as f:\n",
    "    data = json.load(f)\n",
    "\n",
    "abstracts_dict = {}\n",
    "\n",
    "# Extract question and long answer\n",
    "for entry_id, entry in data.items():\n",
    "    question = entry.get(\"QUESTION\", \"\")\n",
    "    long_answer = entry.get(\"LONG_ANSWER\", \"\")\n",
    "\n",
    "    abstracts_dict[entry_id] = {\"title\": question, \"answer\": long_answer}\n",
    "    \n",
    "\n",
    "abstracts = pd.DataFrame.from_dict(abstracts_dict, orient='index')"
   ]
  },
  {
   "cell_type": "code",
   "execution_count": 2,
   "metadata": {},
   "outputs": [],
   "source": [
    "import os\n",
    "# from langchain_neo4j import Neo4jGraph, GraphCypherQAChain\n",
    "from langchain_ollama import ChatOllama\n",
    "# from langchain_experimental.graph_transformers import LLMGraphTransformer\n",
    "# from langchain_core.documents import Document\n",
    "\n",
    "import xml.etree.ElementTree as ET\n",
    "# from langchain.schema import Document\n",
    "\n",
    "import re\n",
    "# from langchain_ollama import ChatOllama\n",
    "# from langchain_core.prompts import PromptTemplate"
   ]
  },
  {
   "cell_type": "code",
   "execution_count": 3,
   "metadata": {},
   "outputs": [],
   "source": [
    "def create_query(title: str, answer: str):\n",
    "    query = f'''\n",
    "    Capture relationships that answer the given medical question.\n",
    "    Abstract Question: {title}\\n Answer: {answer}\n",
    "    Extract medical relationships that provide answers to the question as structured triples (Entity1, Relationship, Entity2). Put all elements of a tuple on the same line\n",
    "    in the format (\"entity1\", \"relationship\", \"entity2\") . The relationship should not incluede the entities.\n",
    "    '''\n",
    "    return query"
   ]
  },
  {
   "cell_type": "code",
   "execution_count": 4,
   "metadata": {},
   "outputs": [],
   "source": [
    "llm = ChatOllama(model=\"llama3.2\", temperature=0, max_tokens=2048) "
   ]
  },
  {
   "cell_type": "code",
   "execution_count": 5,
   "metadata": {},
   "outputs": [
    {
     "name": "stdout",
     "output_type": "stream",
     "text": [
      "content='Here are the extracted medical relationships:\\n\\nMitochondria and chloroplasts moving on transvacuolar strands to form a ring structure surrounding the nucleus during developmental PCD, Mitochondria play a critical role in developmentally regulated PCD in the lace plant, CsA is used in whole plant system.\\n\\n(\"Mitochondria\", \"moving on transvacuolar strands\", \"chloroplasts\")\\n(\"Mitochondria\", \"play a critical role\", \"developmentally regulated PCD\")\\n(\"CsA\", \"is used\", \"whole plant system\")' additional_kwargs={} response_metadata={'model': 'llama3.2', 'created_at': '2025-04-02T17:22:48.762896Z', 'done': True, 'done_reason': 'stop', 'total_duration': 6544310458, 'load_duration': 835756583, 'prompt_eval_count': 242, 'prompt_eval_duration': 3866000000, 'eval_count': 112, 'eval_duration': 1838000000, 'message': Message(role='assistant', content='', images=None, tool_calls=None)} id='run-40cb35a7-d0bf-424c-8f99-9416906336a7-0' usage_metadata={'input_tokens': 242, 'output_tokens': 112, 'total_tokens': 354}\n",
      "content='Here are the extracted medical relationships that provide answers to the question:\\n\\nLandolt C and Snellen E acuity: differences in strabismus amblyopia.\\n\\n(\"Snellen E\", \"has similar visual acuity\", \"Landolt C\")\\n(\"Strabismus Amblyopia\", \"is associated with\", \"Visual Acuity\")\\n(\"Landolt C\", \"has better visual acuity than\", \"Snellen E\")\\n(\"Visual Acuity\", \"differs slightly between\", \"Snellen E and Landolt C\")\\n\\nNote: The relationships are based on the provided abstract question and may not be an exhaustive list of all medical relationships related to this topic.' additional_kwargs={} response_metadata={'model': 'llama3.2', 'created_at': '2025-04-02T17:22:51.188317Z', 'done': True, 'done_reason': 'stop', 'total_duration': 2415298542, 'load_duration': 11906375, 'prompt_eval_count': 171, 'prompt_eval_duration': 236000000, 'eval_count': 133, 'eval_duration': 2165000000, 'message': Message(role='assistant', content='', images=None, tool_calls=None)} id='run-71e7f009-1bb4-4f1f-937c-4d72371e3e8b-0' usage_metadata={'input_tokens': 171, 'output_tokens': 133, 'total_tokens': 304}\n",
      "content='Here are the extracted medical relationships that provide answers to the question:\\n\\nAquagenic urticaria, causes syncope during bathing in infants, is a pediatric form of water-induced urticaria.\\n\\n(\"Aquagenic Urticaria\", \"causes\", \"Syncope During Bathing in Infants\")\\n(\"Aquagenic Urticaria\", \"is a pediatric form of\", \"Water-Induced Uricaria\")\\n\\nNote: Aquagenic maladies is not a specific medical term, but rather a general term that could encompass various conditions. The above relationships are based on the assumption that aquagenic urticaria is one such condition.\\n\\nAlso, it\\'s worth noting that syncope during bathing in infants can be caused by other factors as well, and this relationship is just one possible explanation.' additional_kwargs={} response_metadata={'model': 'llama3.2', 'created_at': '2025-04-02T17:22:54.049479Z', 'done': True, 'done_reason': 'stop', 'total_duration': 2859760333, 'load_duration': 11109125, 'prompt_eval_count': 138, 'prompt_eval_duration': 192000000, 'eval_count': 164, 'eval_duration': 2655000000, 'message': Message(role='assistant', content='', images=None, tool_calls=None)} id='run-261e6ccf-4fdb-428d-a85a-98c0fb543584-0' usage_metadata={'input_tokens': 138, 'output_tokens': 164, 'total_tokens': 302}\n",
      "content='Here are the extracted medical relationships:\\n\\n(\"Transanal pull-through\", \"has worse results than\", \"Abdominal approach\")\\n(\"Continence score\", \"is better for\", \"Abdominal approach\")\\n(\"Stool pattern\", \"is somewhat better for\", \"TERPT group\")\\n(\"Enterocolitis scores\", \"are somewhat better for\", \"TERPT group\")\\n(\"Transanal pull-through\", \"has similar results to\", \"TERPT group\")\\n(\"HD (Hirschsprung\\'s disease)\", \"requires different surgical management than\", \"Abdominal approach\")' additional_kwargs={} response_metadata={'model': 'llama3.2', 'created_at': '2025-04-02T17:22:56.186932Z', 'done': True, 'done_reason': 'stop', 'total_duration': 2131402542, 'load_duration': 11152917, 'prompt_eval_count': 200, 'prompt_eval_duration': 275000000, 'eval_count': 115, 'eval_duration': 1844000000, 'message': Message(role='assistant', content='', images=None, tool_calls=None)} id='run-6ef6ba77-ac80-4475-a3c4-40a088850db6-0' usage_metadata={'input_tokens': 200, 'output_tokens': 115, 'total_tokens': 315}\n",
      "content='Here are the extracted medical relationships:\\n\\n(\"Tailored print communications\", \"was\", \"not more powerful\")\\n(\"Telephone counseling\", \"seemed\", \"particularly effective\")\\n(\"Nonadherent women\", \"for whom\", \"the intervention was developed\")\\n(\"Mammography screening\", \"is\", \"the target of the interventions\")\\n(\"Usual care\", \"compared to\", \"telephone counseling\")\\n(\"Barriers\", \"are\", \"addressed by the interventions\")' additional_kwargs={} response_metadata={'model': 'llama3.2', 'created_at': '2025-04-02T17:22:58.042079Z', 'done': True, 'done_reason': 'stop', 'total_duration': 1850384667, 'load_duration': 11721917, 'prompt_eval_count': 244, 'prompt_eval_duration': 319000000, 'eval_count': 94, 'eval_duration': 1518000000, 'message': Message(role='assistant', content='', images=None, tool_calls=None)} id='run-b066006d-5d9b-4d58-af81-eb25f29fb798-0' usage_metadata={'input_tokens': 244, 'output_tokens': 94, 'total_tokens': 338}\n",
      "Complete\n"
     ]
    }
   ],
   "source": [
    "combined_formatted_graph = []\n",
    "bad_abstracts = []\n",
    "\n",
    "for i, (entry_id, row) in enumerate(abstracts.iterrows()):\n",
    "    if i >= 5:\n",
    "        break\n",
    "\n",
    "\n",
    "    structured_text = create_query(row[\"title\"], row[\"answer\"])\n",
    "    response = llm.invoke(structured_text)\n",
    "    print(response)\n",
    "    # Extract the actual text from the LLM response\n",
    "    raw_output = response.content\n",
    "\n",
    "    # Print the cleaned raw output (for debugging)\n",
    "    # print(\"Cleaned Raw LLM Output:\\n\", raw_output)\n",
    "\n",
    "    # Extract (Entity1, Relationship, Entity2) triples using regex\n",
    "    # matches = re.findall(r'\"(.*?)\" , \"(.*?)\" , \"(.*?)\"', raw_output)\n",
    "    matches = re.findall(r'\\(\"([^\"]+)\",\\s*\"([^\"]+)\",\\s*\"([^\"]+)\"\\)', raw_output)\n",
    "\n",
    "    # print(f\"matches:\\n{matches}\")\n",
    "\n",
    "    # Convert extracted triples into nodes and relationships\n",
    "    nodes = set()\n",
    "    relationships = []\n",
    "\n",
    "    for entity1, relation, entity2 in matches:\n",
    "        nodes.add(entity1)\n",
    "        nodes.add(entity2)\n",
    "        relationships.append((entity1, relation, entity2))\n",
    "\n",
    "    # Convert to Full Node-Relationship-Node Format\n",
    "    formatted_graph = [f\"({e1}) -[:{r.replace(' ', '_').upper()}]-> ({e2})\" for e1, r, e2 in relationships]\n",
    "    if len(formatted_graph) == 0:\n",
    "        print(f\"Error no nodes found for: {entry_id}\")\n",
    "        bad_abstracts.append(entry_id)\n",
    "\n",
    "    combined_formatted_graph.extend(formatted_graph)\n",
    "    # print(len(combined_formatted_graph))\n",
    "    # print()\n",
    "    # print(formatted_graph)\n",
    "print(\"Complete\")"
   ]
  },
  {
   "cell_type": "code",
   "execution_count": 6,
   "metadata": {},
   "outputs": [
    {
     "data": {
      "text/html": [
       "<div>\n",
       "<style scoped>\n",
       "    .dataframe tbody tr th:only-of-type {\n",
       "        vertical-align: middle;\n",
       "    }\n",
       "\n",
       "    .dataframe tbody tr th {\n",
       "        vertical-align: top;\n",
       "    }\n",
       "\n",
       "    .dataframe thead th {\n",
       "        text-align: right;\n",
       "    }\n",
       "</style>\n",
       "<table border=\"1\" class=\"dataframe\">\n",
       "  <thead>\n",
       "    <tr style=\"text-align: right;\">\n",
       "      <th></th>\n",
       "      <th>title</th>\n",
       "      <th>answer</th>\n",
       "    </tr>\n",
       "  </thead>\n",
       "  <tbody>\n",
       "    <tr>\n",
       "      <th>21645374</th>\n",
       "      <td>Do mitochondria play a role in remodelling lac...</td>\n",
       "      <td>Results depicted mitochondrial dynamics in viv...</td>\n",
       "    </tr>\n",
       "    <tr>\n",
       "      <th>16418930</th>\n",
       "      <td>Landolt C and snellen e acuity: differences in...</td>\n",
       "      <td>Using the charts described, there was only a s...</td>\n",
       "    </tr>\n",
       "    <tr>\n",
       "      <th>9488747</th>\n",
       "      <td>Syncope during bathing in infants, a pediatric...</td>\n",
       "      <td>\"Aquagenic maladies\" could be a pediatric form...</td>\n",
       "    </tr>\n",
       "    <tr>\n",
       "      <th>17208539</th>\n",
       "      <td>Are the long-term results of the transanal pul...</td>\n",
       "      <td>Our long-term study showed significantly bette...</td>\n",
       "    </tr>\n",
       "    <tr>\n",
       "      <th>10808977</th>\n",
       "      <td>Can tailored interventions increase mammograph...</td>\n",
       "      <td>The effects of the intervention were most pron...</td>\n",
       "    </tr>\n",
       "  </tbody>\n",
       "</table>\n",
       "</div>"
      ],
      "text/plain": [
       "                                                      title  \\\n",
       "21645374  Do mitochondria play a role in remodelling lac...   \n",
       "16418930  Landolt C and snellen e acuity: differences in...   \n",
       "9488747   Syncope during bathing in infants, a pediatric...   \n",
       "17208539  Are the long-term results of the transanal pul...   \n",
       "10808977  Can tailored interventions increase mammograph...   \n",
       "\n",
       "                                                     answer  \n",
       "21645374  Results depicted mitochondrial dynamics in viv...  \n",
       "16418930  Using the charts described, there was only a s...  \n",
       "9488747   \"Aquagenic maladies\" could be a pediatric form...  \n",
       "17208539  Our long-term study showed significantly bette...  \n",
       "10808977  The effects of the intervention were most pron...  "
      ]
     },
     "execution_count": 6,
     "metadata": {},
     "output_type": "execute_result"
    }
   ],
   "source": [
    "abstracts.head()"
   ]
  },
  {
   "cell_type": "code",
   "execution_count": 7,
   "metadata": {},
   "outputs": [
    {
     "data": {
      "text/plain": [
       "['(Mitochondria) -[:MOVING_ON_TRANSVACUOLAR_STRANDS]-> (chloroplasts)',\n",
       " '(Mitochondria) -[:PLAY_A_CRITICAL_ROLE]-> (developmentally regulated PCD)',\n",
       " '(CsA) -[:IS_USED]-> (whole plant system)',\n",
       " '(Snellen E) -[:HAS_SIMILAR_VISUAL_ACUITY]-> (Landolt C)',\n",
       " '(Strabismus Amblyopia) -[:IS_ASSOCIATED_WITH]-> (Visual Acuity)',\n",
       " '(Landolt C) -[:HAS_BETTER_VISUAL_ACUITY_THAN]-> (Snellen E)',\n",
       " '(Visual Acuity) -[:DIFFERS_SLIGHTLY_BETWEEN]-> (Snellen E and Landolt C)',\n",
       " '(Aquagenic Urticaria) -[:CAUSES]-> (Syncope During Bathing in Infants)',\n",
       " '(Aquagenic Urticaria) -[:IS_A_PEDIATRIC_FORM_OF]-> (Water-Induced Uricaria)',\n",
       " '(Transanal pull-through) -[:HAS_WORSE_RESULTS_THAN]-> (Abdominal approach)',\n",
       " '(Continence score) -[:IS_BETTER_FOR]-> (Abdominal approach)',\n",
       " '(Stool pattern) -[:IS_SOMEWHAT_BETTER_FOR]-> (TERPT group)',\n",
       " '(Enterocolitis scores) -[:ARE_SOMEWHAT_BETTER_FOR]-> (TERPT group)',\n",
       " '(Transanal pull-through) -[:HAS_SIMILAR_RESULTS_TO]-> (TERPT group)',\n",
       " \"(HD (Hirschsprung's disease)) -[:REQUIRES_DIFFERENT_SURGICAL_MANAGEMENT_THAN]-> (Abdominal approach)\",\n",
       " '(Tailored print communications) -[:WAS]-> (not more powerful)',\n",
       " '(Telephone counseling) -[:SEEMED]-> (particularly effective)',\n",
       " '(Nonadherent women) -[:FOR_WHOM]-> (the intervention was developed)',\n",
       " '(Mammography screening) -[:IS]-> (the target of the interventions)',\n",
       " '(Usual care) -[:COMPARED_TO]-> (telephone counseling)',\n",
       " '(Barriers) -[:ARE]-> (addressed by the interventions)']"
      ]
     },
     "execution_count": 7,
     "metadata": {},
     "output_type": "execute_result"
    }
   ],
   "source": [
    "combined_formatted_graph"
   ]
  },
  {
   "cell_type": "code",
   "execution_count": 8,
   "metadata": {},
   "outputs": [
    {
     "data": {
      "text/plain": [
       "[]"
      ]
     },
     "execution_count": 8,
     "metadata": {},
     "output_type": "execute_result"
    }
   ],
   "source": [
    "bad_abstracts"
   ]
  },
  {
   "cell_type": "code",
   "execution_count": 12,
   "metadata": {},
   "outputs": [
    {
     "name": "stdout",
     "output_type": "stream",
     "text": [
      "/Users/brianmann/git/knowledge_graph_creation\n"
     ]
    }
   ],
   "source": [
    "import os\n",
    "\n",
    "# Replace this path with the one you want to use\n",
    "os.chdir('/Users/brianmann/git/knowledge_graph_creation')\n",
    "# /Users/brianmann/git/knowledge_graph_creation/knowledge_graph.ipynb\n",
    "# Confirm the change\n",
    "print(os.getcwd())"
   ]
  },
  {
   "cell_type": "markdown",
   "metadata": {},
   "source": []
  },
  {
   "cell_type": "code",
   "execution_count": 14,
   "metadata": {},
   "outputs": [],
   "source": [
    "with open('graph_output2.txt', 'w') as f:\n",
    "    for item in combined_formatted_graph:\n",
    "        f.write(f\"{item}\\n\")"
   ]
  },
  {
   "cell_type": "code",
   "execution_count": 13,
   "metadata": {},
   "outputs": [
    {
     "name": "stdout",
     "output_type": "stream",
     "text": [
      "/Users/brianmann/git/knowledge_graph_creation\n"
     ]
    }
   ],
   "source": [
    "! pwd"
   ]
  }
 ],
 "metadata": {
  "kernelspec": {
   "display_name": "base",
   "language": "python",
   "name": "python3"
  },
  "language_info": {
   "codemirror_mode": {
    "name": "ipython",
    "version": 3
   },
   "file_extension": ".py",
   "mimetype": "text/x-python",
   "name": "python",
   "nbconvert_exporter": "python",
   "pygments_lexer": "ipython3",
   "version": "3.10.14"
  }
 },
 "nbformat": 4,
 "nbformat_minor": 2
}
