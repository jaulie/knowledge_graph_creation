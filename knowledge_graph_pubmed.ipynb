{
 "cells": [
  {
   "cell_type": "code",
   "execution_count": 2,
   "metadata": {},
   "outputs": [],
   "source": [
    "import os\n",
    "from langchain_neo4j import Neo4jGraph, GraphCypherQAChain\n",
    "from langchain_ollama import ChatOllama\n",
    "from langchain_experimental.graph_transformers import LLMGraphTransformer\n",
    "from langchain_core.documents import Document\n",
    "\n",
    "import xml.etree.ElementTree as ET\n",
    "from langchain.schema import Document\n",
    "\n",
    "import re\n",
    "from langchain_ollama import ChatOllama\n",
    "from langchain_core.prompts import PromptTemplate\n"
   ]
  },
  {
   "cell_type": "code",
   "execution_count": 3,
   "metadata": {},
   "outputs": [],
   "source": [
    "# Set LLM\n",
    "# llama3.3 has 70B params (see:https://github.com/ollama/ollama?tab=readme-ov-file)\n",
    "# llama3.2 has \n",
    "# llm = ChatOllama(model=\"llama3.1\", temperature=0)\n",
    "# llm = ChatOllama(model=\"llama3.2\", temperature=0)\n",
    "llm = ChatOllama(model=\"llama3.2\", temperature=0, max_tokens=2048) \n",
    "\n",
    "\n"
   ]
  },
  {
   "cell_type": "code",
   "execution_count": 4,
   "metadata": {},
   "outputs": [
    {
     "name": "stdout",
     "output_type": "stream",
     "text": [
      "Number of chunks: 1546\n",
      "First chunk: ['<AbstractText>(--)-alpha-Bisabolol has a primary antipeptic action depending on dosage, which is not caused by an alteration of the pH-value. The proteolytic activity of pepsin is reduced by 50 percent through addition of bisabolol in the ratio of 1/0.5. The antipeptic action of bisabolol only occurs in case of direct contact. In case of a previous contact with the substrate, the inhibiting effect is lost.</AbstractText>', '<AbstractText>A report is given on the recent discovery of outstanding immunological properties in BA 1 [N-(2-cyanoethylene)-urea] having a (low) molecular mass M = 111.104. Experiments in 214 DS carcinosarcoma bearing Wistar rats have shown that BA 1, at a dosage of only about 12 percent LD50 (150 mg kg) and negligible lethality (1.7 percent), results in a recovery rate of 40 percent without hyperglycemia and, in one test, of 80 percent with hyperglycemia. Under otherwise unchanged conditions the reference substance ifosfamide (IF) -- a further development of cyclophosphamide -- applied without hyperglycemia in its most efficient dosage of 47 percent LD50 (150 mg kg) brought about a recovery rate of 25 percent at a lethality of 18 percent. (Contrary to BA 1, 250-min hyperglycemia caused no further improvement of the recovery rate.) However this comparison is characterized by the fact that both substances exhibit two quite different (complementary) mechanisms of action. Leucocyte counts made after application of the said cancerostatics and dosages have shown a pronounced stimulation with BA 1 and with ifosfamide, the known suppression in the post-therapeutic interval usually found with standard cancerostatics. In combination with the cited plaque test for BA 1, blood pictures then allow conclusions on the immunity status. Since IF can be taken as one of the most efficient cancerostatics--there is no other chemotherapeutic known up to now that has a more significant effect on the DS carcinosarcoma in rats -- these findings are of special importance. Finally, the total amount of leucocytes and lymphocytes as well as their time behaviour was determined from the blood picture of tumour-free rats after i.v. application of BA 1. The thus obtained numerical values clearly show that further research work on the prophylactic use of this substance seems to be necessary and very promising.</AbstractText>', '<AbstractText>The virostatic compound N,N-diethyl-4-[2-(2-oxo-3-tetradecyl-1-imidazolidinyl)-ethyl]-1-piperazinecarboxamide-hydrochloride (5531) was analyzed as to its effect on the induction of tryptophan-pyrrolase and tyrosineaminotransferase in rat liver. 1. The basic activity of the enzymes was not influenced by the substance either in normal or in adrenalectomized animals. 2. The induction of the enzymes by cortisone increased in the presence of the compound whereas the substrate induction remained unchanged. 3. The induction of tyrosine-aminotransferase by dexamethasonephosphate in tissue culture is inhibited if the dose of compound 5531 is higher than 5 mug/ml.</AbstractText>', '<AbstractText>The distribution of blood flow to the subendocardial, medium and subepicardial layers of the left ventricular free wall was studied in anaesthetized dogs under normoxic (A), hypoxic (B) conditions and under pharmacologically induced (etafenone) coronary vasodilation (C). Regional myocardial blood flow was determined by means of the particle distribution method. In normoxia a transmural gradient of flow was observed, with the subendocardial layers receiving a significantly higher flow rate compared with the subepicardial layers. In hypoxia induced vasodilation this transmural gradient of flow was persistent. In contrast a marked redistribution of regional flow was observed under pharmacologically induced vasodilation. The transmural gradient decreased. In contrast to some findings these experiments demonstrate that a considerable vasodilatory capacity exists in all layers of the myocardium and can be utilized by drugs. The differences observed for the intramural distribution pattern of flow under hypoxia and drug induced vasodilation support the hypothesis that this pattern reflects corresponding gradients of regional myocardial metabolism.</AbstractText>', \"<AbstractText>RMI 61 140, RMI 61 144 and RMI 61 280 are newly synthetized N-[8-R-dibenzo(b,f)oxepin-10-yl]-N'-methyl-piperazine-maleates which show interesting psychopharmacologic effects. This work contains the results of a study performed with these three compounds, in order to demonstrate their neuropsycholeptic activity in comparison with chloropromazine (CPZ) and chlordiazepoxide (CPD). The inhibition of motility observed in mice shows that the compounds reduce the normal spontaneous motility as well as the muscle tone. The central-depressant activity is evidenced by increased barbiturate-induced sleep and a remarkable eyelid ptosis can also be observed. Our compounds do not show any activity on electroshock just as do CPZ and CPD. As to the antipsychotic outline, our compounds show strong reduction of lethality due to amphetamine in grouped mice and a strong antiapomorphine activity. They show also an antiaggressive effect and an inhibitory activity on avoidance behaviour much stronger than CPZ. We have also found extrapyramidal effects, as catalepsy, common to many tranquillizers of the kind of the standards used by us. As for vegetative phenomena, the compounds show hypotensive dose related action ranging from moderate to strong, probably due to an a-receptor inhibition. Adrenolytic activity against lethal doses of adrenaline, antiserotonin and antihistaminic effects, as well as other actions (hypothermia, analgesia, etc.) confirm that RMI 61 140, RMI 61 144 and RMI 61 280 are endowed with pharmacologic properties similar and more potent than those of CPZ. Studies on the metabolism of brain catecholamines show that they are similar to CPZ, although with less effect on dopamine level.</AbstractText>\", '<AbstractText>A double-blind study with intra-individual comparisons was carried out to investigate the effects of 15 mg of (8r)-3alpha-hydroxy-8-isopropyl-1alphaH-tropanium bromide(+/-)-tropate (Sch 1000), 15 mg Sch 1000 + 10 mg oxazepam, 10 mg oxazepam and placebo with oral administration in randomized sequence on gastric juice volume, amount of acid, concentration and pH values in 12 healthy volunteers. The secretion parameters were measured during a 1-h basal period and a 2-h stimulation period. The gastric juice was obtained in 15 min portions via stomach tube. Stimulation was effected by 1 mug/kg/h pentagastrin via drip infusion. The Friedman test was used for the comparative statistical evaluation, and individual comparisons were carried out by means of the Wilcoxon test (pair-differences rank). The results show that Sch 1000 and Sch 1000 + oxazepam were equal in effect on basal and stimulated secretion volume. As compared with placebo, it was not possible to establish an effect on secretion volume for oxazepam alone. Sch 1000 and Sch 1000 + oxazepam were found to be equipotent in reducing the amount of basal acid, while oxazepam reduced this quantity only during the first 30 min of basal secretion. None of the three active preparations was capable of inhibiting the stimulated acid, although both Sch 1000 preparations produced a clear trend towards lowered mean values. During the basal secretion period, all three test preparations had an inhibiting action on acid concentration, but none of them had a significant effect during the stimulation period. The pH value was savely increased only by Sch 1000 and Sch 1000 + oxazepam, and this even only during the basal period. The results are discussed.</AbstractText>', \"<AbstractText>Seven distinct glycosidases (EC 3.2) have been characterized in guinea-pig epidermis. Their properties indicate them to be of lysosomal origin. The 'profile' of the epidermal glycosidases is significantly different from that reported for whole skin, the activities of beta-galactosidase and beta-acetylglucosaminidase being very high and those of the remaining enzymes relatively low in epidermis.</AbstractText>\", '<AbstractText>Five distinct ester hydrolases (EC 3-1) have been characterized in guinea-pig epidermis. These are carboxylic esterase, acid phosphatase, pyrophosphatase, and arylsulphatase A and B. Their properties are consistent with those of lysosomal enzymes.</AbstractText>', '<AbstractText>A serum agglutinin reactive with red cells in the presence of polycarboxyl groups is reported. It is likely that this represents an additional example of the type of agglutinin previously described as agglutinating red cells in the absence of ionized calcium. Experimental evidence is presented indicating that it is free polycarboxyl groups that potentiate agglutination and that any metal ion, such as calcium, capable of chelating with these groups will prove to be inhibitory.</AbstractText>', '<AbstractText>Stroma from either normal or PNH-like red cells is capable of inhibiting, to some extent, lysis in the sucrose test and enhancing lysis in the acidified-serum test. The same opposing effects are displayed by the exclusion peaks from Sephadex G-200 obtained from each stroma preparation, suggesting that the same factor could be responsible for both activities. Stromata and peaks also induce lysis of PNH-like cells in unacidified serum, indicating activation of complement through the alternate pathway. This is confirmed by immunoelectrophoretic observation. When serum previously activated through the alternate pathway is used in the sucrose test the amount of lysis is markedly reduced. This would indicate that the classical pathway activation can be controlled by the alternate pathway. The possible clinical significance of these factors in determining the haemolytic crisis in PNH patients is discussed.</AbstractText>']\n"
     ]
    }
   ],
   "source": [
    "def read_file_in_chunks(filename, chunk_size=10):\n",
    "    result = []\n",
    "    current_chunk = []\n",
    "    \n",
    "    with open(filename, 'r') as file:\n",
    "        for line in file:\n",
    "            current_chunk.append(line.strip())\n",
    "            \n",
    "            if len(current_chunk) == chunk_size:\n",
    "                result.append(current_chunk)\n",
    "                current_chunk = []\n",
    "    \n",
    "    # Don't forget to add the last chunk if it's not empty\n",
    "    if current_chunk:\n",
    "        result.append(current_chunk)\n",
    "    \n",
    "    return result\n",
    "\n",
    "# Example usage\n",
    "file_path = \"/Users/brianmann/Downloads/test/test_file1.txt\"\n",
    "chunks = read_file_in_chunks(file_path)\n",
    "print(f\"Number of chunks: {len(chunks)}\")\n",
    "print(f\"First chunk: {chunks[0]}\")\n",
    "\n",
    "# Example usage\n",
    "# file_path = \"/Users/brianmann/Downloads/test/test_file1.txt\"\n",
    "# process_file_in_chunks(file_path)\n"
   ]
  },
  {
   "cell_type": "code",
   "execution_count": 9,
   "metadata": {},
   "outputs": [
    {
     "name": "stdout",
     "output_type": "stream",
     "text": [
      "12\n",
      "24\n",
      "Error no nodes found\n",
      "24\n",
      "Error no nodes found\n",
      "24\n",
      "Error no nodes found\n",
      "24\n"
     ]
    },
    {
     "ename": "KeyboardInterrupt",
     "evalue": "",
     "output_type": "error",
     "traceback": [
      "\u001b[0;31m---------------------------------------------------------------------------\u001b[0m",
      "\u001b[0;31mKeyboardInterrupt\u001b[0m                         Traceback (most recent call last)",
      "Cell \u001b[0;32mIn[9], line 8\u001b[0m\n\u001b[1;32m      4\u001b[0m \u001b[38;5;28;01mfor\u001b[39;00m batch \u001b[38;5;129;01min\u001b[39;00m chunks:\n\u001b[1;32m      5\u001b[0m     structured_text \u001b[38;5;241m=\u001b[39m \u001b[38;5;124mf\u001b[39m\u001b[38;5;124m'''\u001b[39m\u001b[38;5;124mAbstract: \u001b[39m\u001b[38;5;132;01m{\u001b[39;00mbatch\u001b[38;5;132;01m}\u001b[39;00m\u001b[38;5;130;01m\\n\u001b[39;00m\u001b[38;5;124mExtract medical relationships as structured triples (Entity1, Relationship, Entity2). Put all elements of a tuple on the same line\u001b[39m\n\u001b[1;32m      6\u001b[0m \u001b[38;5;124min the format (\u001b[39m\u001b[38;5;124m\"\u001b[39m\u001b[38;5;124mentity1\u001b[39m\u001b[38;5;124m\"\u001b[39m\u001b[38;5;124m, \u001b[39m\u001b[38;5;124m\"\u001b[39m\u001b[38;5;124mrelationship\u001b[39m\u001b[38;5;124m\"\u001b[39m\u001b[38;5;124m, \u001b[39m\u001b[38;5;124m\"\u001b[39m\u001b[38;5;124mentity2\u001b[39m\u001b[38;5;124m\"\u001b[39m\u001b[38;5;124m) . There must be two entities and a relationship and the relationship should not incluee the entities. Please at least 1 example for every line in the format specified\u001b[39m\u001b[38;5;124m'''\u001b[39m\n\u001b[0;32m----> 8\u001b[0m     response \u001b[38;5;241m=\u001b[39m \u001b[43mllm\u001b[49m\u001b[38;5;241;43m.\u001b[39;49m\u001b[43minvoke\u001b[49m\u001b[43m(\u001b[49m\u001b[43mstructured_text\u001b[49m\u001b[43m)\u001b[49m\n\u001b[1;32m      9\u001b[0m     \u001b[38;5;66;03m# Extract the actual text from the LLM response\u001b[39;00m\n\u001b[1;32m     10\u001b[0m     raw_output \u001b[38;5;241m=\u001b[39m response\u001b[38;5;241m.\u001b[39mcontent\n",
      "File \u001b[0;32m/opt/anaconda3/lib/python3.10/site-packages/langchain_core/language_models/chat_models.py:284\u001b[0m, in \u001b[0;36mBaseChatModel.invoke\u001b[0;34m(self, input, config, stop, **kwargs)\u001b[0m\n\u001b[1;32m    273\u001b[0m \u001b[38;5;28;01mdef\u001b[39;00m \u001b[38;5;21minvoke\u001b[39m(\n\u001b[1;32m    274\u001b[0m     \u001b[38;5;28mself\u001b[39m,\n\u001b[1;32m    275\u001b[0m     \u001b[38;5;28minput\u001b[39m: LanguageModelInput,\n\u001b[0;32m   (...)\u001b[0m\n\u001b[1;32m    279\u001b[0m     \u001b[38;5;241m*\u001b[39m\u001b[38;5;241m*\u001b[39mkwargs: Any,\n\u001b[1;32m    280\u001b[0m ) \u001b[38;5;241m-\u001b[39m\u001b[38;5;241m>\u001b[39m BaseMessage:\n\u001b[1;32m    281\u001b[0m     config \u001b[38;5;241m=\u001b[39m ensure_config(config)\n\u001b[1;32m    282\u001b[0m     \u001b[38;5;28;01mreturn\u001b[39;00m cast(\n\u001b[1;32m    283\u001b[0m         ChatGeneration,\n\u001b[0;32m--> 284\u001b[0m         \u001b[38;5;28;43mself\u001b[39;49m\u001b[38;5;241;43m.\u001b[39;49m\u001b[43mgenerate_prompt\u001b[49m\u001b[43m(\u001b[49m\n\u001b[1;32m    285\u001b[0m \u001b[43m            \u001b[49m\u001b[43m[\u001b[49m\u001b[38;5;28;43mself\u001b[39;49m\u001b[38;5;241;43m.\u001b[39;49m\u001b[43m_convert_input\u001b[49m\u001b[43m(\u001b[49m\u001b[38;5;28;43minput\u001b[39;49m\u001b[43m)\u001b[49m\u001b[43m]\u001b[49m\u001b[43m,\u001b[49m\n\u001b[1;32m    286\u001b[0m \u001b[43m            \u001b[49m\u001b[43mstop\u001b[49m\u001b[38;5;241;43m=\u001b[39;49m\u001b[43mstop\u001b[49m\u001b[43m,\u001b[49m\n\u001b[1;32m    287\u001b[0m \u001b[43m            \u001b[49m\u001b[43mcallbacks\u001b[49m\u001b[38;5;241;43m=\u001b[39;49m\u001b[43mconfig\u001b[49m\u001b[38;5;241;43m.\u001b[39;49m\u001b[43mget\u001b[49m\u001b[43m(\u001b[49m\u001b[38;5;124;43m\"\u001b[39;49m\u001b[38;5;124;43mcallbacks\u001b[39;49m\u001b[38;5;124;43m\"\u001b[39;49m\u001b[43m)\u001b[49m\u001b[43m,\u001b[49m\n\u001b[1;32m    288\u001b[0m \u001b[43m            \u001b[49m\u001b[43mtags\u001b[49m\u001b[38;5;241;43m=\u001b[39;49m\u001b[43mconfig\u001b[49m\u001b[38;5;241;43m.\u001b[39;49m\u001b[43mget\u001b[49m\u001b[43m(\u001b[49m\u001b[38;5;124;43m\"\u001b[39;49m\u001b[38;5;124;43mtags\u001b[39;49m\u001b[38;5;124;43m\"\u001b[39;49m\u001b[43m)\u001b[49m\u001b[43m,\u001b[49m\n\u001b[1;32m    289\u001b[0m \u001b[43m            \u001b[49m\u001b[43mmetadata\u001b[49m\u001b[38;5;241;43m=\u001b[39;49m\u001b[43mconfig\u001b[49m\u001b[38;5;241;43m.\u001b[39;49m\u001b[43mget\u001b[49m\u001b[43m(\u001b[49m\u001b[38;5;124;43m\"\u001b[39;49m\u001b[38;5;124;43mmetadata\u001b[39;49m\u001b[38;5;124;43m\"\u001b[39;49m\u001b[43m)\u001b[49m\u001b[43m,\u001b[49m\n\u001b[1;32m    290\u001b[0m \u001b[43m            \u001b[49m\u001b[43mrun_name\u001b[49m\u001b[38;5;241;43m=\u001b[39;49m\u001b[43mconfig\u001b[49m\u001b[38;5;241;43m.\u001b[39;49m\u001b[43mget\u001b[49m\u001b[43m(\u001b[49m\u001b[38;5;124;43m\"\u001b[39;49m\u001b[38;5;124;43mrun_name\u001b[39;49m\u001b[38;5;124;43m\"\u001b[39;49m\u001b[43m)\u001b[49m\u001b[43m,\u001b[49m\n\u001b[1;32m    291\u001b[0m \u001b[43m            \u001b[49m\u001b[43mrun_id\u001b[49m\u001b[38;5;241;43m=\u001b[39;49m\u001b[43mconfig\u001b[49m\u001b[38;5;241;43m.\u001b[39;49m\u001b[43mpop\u001b[49m\u001b[43m(\u001b[49m\u001b[38;5;124;43m\"\u001b[39;49m\u001b[38;5;124;43mrun_id\u001b[39;49m\u001b[38;5;124;43m\"\u001b[39;49m\u001b[43m,\u001b[49m\u001b[43m \u001b[49m\u001b[38;5;28;43;01mNone\u001b[39;49;00m\u001b[43m)\u001b[49m\u001b[43m,\u001b[49m\n\u001b[1;32m    292\u001b[0m \u001b[43m            \u001b[49m\u001b[38;5;241;43m*\u001b[39;49m\u001b[38;5;241;43m*\u001b[39;49m\u001b[43mkwargs\u001b[49m\u001b[43m,\u001b[49m\n\u001b[1;32m    293\u001b[0m \u001b[43m        \u001b[49m\u001b[43m)\u001b[49m\u001b[38;5;241m.\u001b[39mgenerations[\u001b[38;5;241m0\u001b[39m][\u001b[38;5;241m0\u001b[39m],\n\u001b[1;32m    294\u001b[0m     )\u001b[38;5;241m.\u001b[39mmessage\n",
      "File \u001b[0;32m/opt/anaconda3/lib/python3.10/site-packages/langchain_core/language_models/chat_models.py:860\u001b[0m, in \u001b[0;36mBaseChatModel.generate_prompt\u001b[0;34m(self, prompts, stop, callbacks, **kwargs)\u001b[0m\n\u001b[1;32m    852\u001b[0m \u001b[38;5;28;01mdef\u001b[39;00m \u001b[38;5;21mgenerate_prompt\u001b[39m(\n\u001b[1;32m    853\u001b[0m     \u001b[38;5;28mself\u001b[39m,\n\u001b[1;32m    854\u001b[0m     prompts: \u001b[38;5;28mlist\u001b[39m[PromptValue],\n\u001b[0;32m   (...)\u001b[0m\n\u001b[1;32m    857\u001b[0m     \u001b[38;5;241m*\u001b[39m\u001b[38;5;241m*\u001b[39mkwargs: Any,\n\u001b[1;32m    858\u001b[0m ) \u001b[38;5;241m-\u001b[39m\u001b[38;5;241m>\u001b[39m LLMResult:\n\u001b[1;32m    859\u001b[0m     prompt_messages \u001b[38;5;241m=\u001b[39m [p\u001b[38;5;241m.\u001b[39mto_messages() \u001b[38;5;28;01mfor\u001b[39;00m p \u001b[38;5;129;01min\u001b[39;00m prompts]\n\u001b[0;32m--> 860\u001b[0m     \u001b[38;5;28;01mreturn\u001b[39;00m \u001b[38;5;28;43mself\u001b[39;49m\u001b[38;5;241;43m.\u001b[39;49m\u001b[43mgenerate\u001b[49m\u001b[43m(\u001b[49m\u001b[43mprompt_messages\u001b[49m\u001b[43m,\u001b[49m\u001b[43m \u001b[49m\u001b[43mstop\u001b[49m\u001b[38;5;241;43m=\u001b[39;49m\u001b[43mstop\u001b[49m\u001b[43m,\u001b[49m\u001b[43m \u001b[49m\u001b[43mcallbacks\u001b[49m\u001b[38;5;241;43m=\u001b[39;49m\u001b[43mcallbacks\u001b[49m\u001b[43m,\u001b[49m\u001b[43m \u001b[49m\u001b[38;5;241;43m*\u001b[39;49m\u001b[38;5;241;43m*\u001b[39;49m\u001b[43mkwargs\u001b[49m\u001b[43m)\u001b[49m\n",
      "File \u001b[0;32m/opt/anaconda3/lib/python3.10/site-packages/langchain_core/language_models/chat_models.py:690\u001b[0m, in \u001b[0;36mBaseChatModel.generate\u001b[0;34m(self, messages, stop, callbacks, tags, metadata, run_name, run_id, **kwargs)\u001b[0m\n\u001b[1;32m    687\u001b[0m \u001b[38;5;28;01mfor\u001b[39;00m i, m \u001b[38;5;129;01min\u001b[39;00m \u001b[38;5;28menumerate\u001b[39m(messages):\n\u001b[1;32m    688\u001b[0m     \u001b[38;5;28;01mtry\u001b[39;00m:\n\u001b[1;32m    689\u001b[0m         results\u001b[38;5;241m.\u001b[39mappend(\n\u001b[0;32m--> 690\u001b[0m             \u001b[38;5;28;43mself\u001b[39;49m\u001b[38;5;241;43m.\u001b[39;49m\u001b[43m_generate_with_cache\u001b[49m\u001b[43m(\u001b[49m\n\u001b[1;32m    691\u001b[0m \u001b[43m                \u001b[49m\u001b[43mm\u001b[49m\u001b[43m,\u001b[49m\n\u001b[1;32m    692\u001b[0m \u001b[43m                \u001b[49m\u001b[43mstop\u001b[49m\u001b[38;5;241;43m=\u001b[39;49m\u001b[43mstop\u001b[49m\u001b[43m,\u001b[49m\n\u001b[1;32m    693\u001b[0m \u001b[43m                \u001b[49m\u001b[43mrun_manager\u001b[49m\u001b[38;5;241;43m=\u001b[39;49m\u001b[43mrun_managers\u001b[49m\u001b[43m[\u001b[49m\u001b[43mi\u001b[49m\u001b[43m]\u001b[49m\u001b[43m \u001b[49m\u001b[38;5;28;43;01mif\u001b[39;49;00m\u001b[43m \u001b[49m\u001b[43mrun_managers\u001b[49m\u001b[43m \u001b[49m\u001b[38;5;28;43;01melse\u001b[39;49;00m\u001b[43m \u001b[49m\u001b[38;5;28;43;01mNone\u001b[39;49;00m\u001b[43m,\u001b[49m\n\u001b[1;32m    694\u001b[0m \u001b[43m                \u001b[49m\u001b[38;5;241;43m*\u001b[39;49m\u001b[38;5;241;43m*\u001b[39;49m\u001b[43mkwargs\u001b[49m\u001b[43m,\u001b[49m\n\u001b[1;32m    695\u001b[0m \u001b[43m            \u001b[49m\u001b[43m)\u001b[49m\n\u001b[1;32m    696\u001b[0m         )\n\u001b[1;32m    697\u001b[0m     \u001b[38;5;28;01mexcept\u001b[39;00m \u001b[38;5;167;01mBaseException\u001b[39;00m \u001b[38;5;28;01mas\u001b[39;00m e:\n\u001b[1;32m    698\u001b[0m         \u001b[38;5;28;01mif\u001b[39;00m run_managers:\n",
      "File \u001b[0;32m/opt/anaconda3/lib/python3.10/site-packages/langchain_core/language_models/chat_models.py:925\u001b[0m, in \u001b[0;36mBaseChatModel._generate_with_cache\u001b[0;34m(self, messages, stop, run_manager, **kwargs)\u001b[0m\n\u001b[1;32m    923\u001b[0m \u001b[38;5;28;01melse\u001b[39;00m:\n\u001b[1;32m    924\u001b[0m     \u001b[38;5;28;01mif\u001b[39;00m inspect\u001b[38;5;241m.\u001b[39msignature(\u001b[38;5;28mself\u001b[39m\u001b[38;5;241m.\u001b[39m_generate)\u001b[38;5;241m.\u001b[39mparameters\u001b[38;5;241m.\u001b[39mget(\u001b[38;5;124m\"\u001b[39m\u001b[38;5;124mrun_manager\u001b[39m\u001b[38;5;124m\"\u001b[39m):\n\u001b[0;32m--> 925\u001b[0m         result \u001b[38;5;241m=\u001b[39m \u001b[38;5;28;43mself\u001b[39;49m\u001b[38;5;241;43m.\u001b[39;49m\u001b[43m_generate\u001b[49m\u001b[43m(\u001b[49m\n\u001b[1;32m    926\u001b[0m \u001b[43m            \u001b[49m\u001b[43mmessages\u001b[49m\u001b[43m,\u001b[49m\u001b[43m \u001b[49m\u001b[43mstop\u001b[49m\u001b[38;5;241;43m=\u001b[39;49m\u001b[43mstop\u001b[49m\u001b[43m,\u001b[49m\u001b[43m \u001b[49m\u001b[43mrun_manager\u001b[49m\u001b[38;5;241;43m=\u001b[39;49m\u001b[43mrun_manager\u001b[49m\u001b[43m,\u001b[49m\u001b[43m \u001b[49m\u001b[38;5;241;43m*\u001b[39;49m\u001b[38;5;241;43m*\u001b[39;49m\u001b[43mkwargs\u001b[49m\n\u001b[1;32m    927\u001b[0m \u001b[43m        \u001b[49m\u001b[43m)\u001b[49m\n\u001b[1;32m    928\u001b[0m     \u001b[38;5;28;01melse\u001b[39;00m:\n\u001b[1;32m    929\u001b[0m         result \u001b[38;5;241m=\u001b[39m \u001b[38;5;28mself\u001b[39m\u001b[38;5;241m.\u001b[39m_generate(messages, stop\u001b[38;5;241m=\u001b[39mstop, \u001b[38;5;241m*\u001b[39m\u001b[38;5;241m*\u001b[39mkwargs)\n",
      "File \u001b[0;32m/opt/anaconda3/lib/python3.10/site-packages/langchain_ollama/chat_models.py:701\u001b[0m, in \u001b[0;36mChatOllama._generate\u001b[0;34m(self, messages, stop, run_manager, **kwargs)\u001b[0m\n\u001b[1;32m    694\u001b[0m \u001b[38;5;28;01mdef\u001b[39;00m \u001b[38;5;21m_generate\u001b[39m(\n\u001b[1;32m    695\u001b[0m     \u001b[38;5;28mself\u001b[39m,\n\u001b[1;32m    696\u001b[0m     messages: List[BaseMessage],\n\u001b[0;32m   (...)\u001b[0m\n\u001b[1;32m    699\u001b[0m     \u001b[38;5;241m*\u001b[39m\u001b[38;5;241m*\u001b[39mkwargs: Any,\n\u001b[1;32m    700\u001b[0m ) \u001b[38;5;241m-\u001b[39m\u001b[38;5;241m>\u001b[39m ChatResult:\n\u001b[0;32m--> 701\u001b[0m     final_chunk \u001b[38;5;241m=\u001b[39m \u001b[38;5;28;43mself\u001b[39;49m\u001b[38;5;241;43m.\u001b[39;49m\u001b[43m_chat_stream_with_aggregation\u001b[49m\u001b[43m(\u001b[49m\n\u001b[1;32m    702\u001b[0m \u001b[43m        \u001b[49m\u001b[43mmessages\u001b[49m\u001b[43m,\u001b[49m\u001b[43m \u001b[49m\u001b[43mstop\u001b[49m\u001b[43m,\u001b[49m\u001b[43m \u001b[49m\u001b[43mrun_manager\u001b[49m\u001b[43m,\u001b[49m\u001b[43m \u001b[49m\u001b[43mverbose\u001b[49m\u001b[38;5;241;43m=\u001b[39;49m\u001b[38;5;28;43mself\u001b[39;49m\u001b[38;5;241;43m.\u001b[39;49m\u001b[43mverbose\u001b[49m\u001b[43m,\u001b[49m\u001b[43m \u001b[49m\u001b[38;5;241;43m*\u001b[39;49m\u001b[38;5;241;43m*\u001b[39;49m\u001b[43mkwargs\u001b[49m\n\u001b[1;32m    703\u001b[0m \u001b[43m    \u001b[49m\u001b[43m)\u001b[49m\n\u001b[1;32m    704\u001b[0m     generation_info \u001b[38;5;241m=\u001b[39m final_chunk\u001b[38;5;241m.\u001b[39mgeneration_info\n\u001b[1;32m    705\u001b[0m     chat_generation \u001b[38;5;241m=\u001b[39m ChatGeneration(\n\u001b[1;32m    706\u001b[0m         message\u001b[38;5;241m=\u001b[39mAIMessage(\n\u001b[1;32m    707\u001b[0m             content\u001b[38;5;241m=\u001b[39mfinal_chunk\u001b[38;5;241m.\u001b[39mtext,\n\u001b[0;32m   (...)\u001b[0m\n\u001b[1;32m    711\u001b[0m         generation_info\u001b[38;5;241m=\u001b[39mgeneration_info,\n\u001b[1;32m    712\u001b[0m     )\n",
      "File \u001b[0;32m/opt/anaconda3/lib/python3.10/site-packages/langchain_ollama/chat_models.py:602\u001b[0m, in \u001b[0;36mChatOllama._chat_stream_with_aggregation\u001b[0;34m(self, messages, stop, run_manager, verbose, **kwargs)\u001b[0m\n\u001b[1;32m    593\u001b[0m \u001b[38;5;28;01mdef\u001b[39;00m \u001b[38;5;21m_chat_stream_with_aggregation\u001b[39m(\n\u001b[1;32m    594\u001b[0m     \u001b[38;5;28mself\u001b[39m,\n\u001b[1;32m    595\u001b[0m     messages: List[BaseMessage],\n\u001b[0;32m   (...)\u001b[0m\n\u001b[1;32m    599\u001b[0m     \u001b[38;5;241m*\u001b[39m\u001b[38;5;241m*\u001b[39mkwargs: Any,\n\u001b[1;32m    600\u001b[0m ) \u001b[38;5;241m-\u001b[39m\u001b[38;5;241m>\u001b[39m ChatGenerationChunk:\n\u001b[1;32m    601\u001b[0m     final_chunk \u001b[38;5;241m=\u001b[39m \u001b[38;5;28;01mNone\u001b[39;00m\n\u001b[0;32m--> 602\u001b[0m     \u001b[38;5;28;01mfor\u001b[39;00m stream_resp \u001b[38;5;129;01min\u001b[39;00m \u001b[38;5;28mself\u001b[39m\u001b[38;5;241m.\u001b[39m_create_chat_stream(messages, stop, \u001b[38;5;241m*\u001b[39m\u001b[38;5;241m*\u001b[39mkwargs):\n\u001b[1;32m    603\u001b[0m         \u001b[38;5;28;01mif\u001b[39;00m \u001b[38;5;129;01mnot\u001b[39;00m \u001b[38;5;28misinstance\u001b[39m(stream_resp, \u001b[38;5;28mstr\u001b[39m):\n\u001b[1;32m    604\u001b[0m             chunk \u001b[38;5;241m=\u001b[39m ChatGenerationChunk(\n\u001b[1;32m    605\u001b[0m                 message\u001b[38;5;241m=\u001b[39mAIMessageChunk(\n\u001b[1;32m    606\u001b[0m                     content\u001b[38;5;241m=\u001b[39m(\n\u001b[0;32m   (...)\u001b[0m\n\u001b[1;32m    619\u001b[0m                 ),\n\u001b[1;32m    620\u001b[0m             )\n",
      "File \u001b[0;32m/opt/anaconda3/lib/python3.10/site-packages/langchain_ollama/chat_models.py:589\u001b[0m, in \u001b[0;36mChatOllama._create_chat_stream\u001b[0;34m(self, messages, stop, **kwargs)\u001b[0m\n\u001b[1;32m    586\u001b[0m chat_params \u001b[38;5;241m=\u001b[39m \u001b[38;5;28mself\u001b[39m\u001b[38;5;241m.\u001b[39m_chat_params(messages, stop, \u001b[38;5;241m*\u001b[39m\u001b[38;5;241m*\u001b[39mkwargs)\n\u001b[1;32m    588\u001b[0m \u001b[38;5;28;01mif\u001b[39;00m chat_params[\u001b[38;5;124m\"\u001b[39m\u001b[38;5;124mstream\u001b[39m\u001b[38;5;124m\"\u001b[39m]:\n\u001b[0;32m--> 589\u001b[0m     \u001b[38;5;28;01myield from\u001b[39;00m \u001b[38;5;28mself\u001b[39m\u001b[38;5;241m.\u001b[39m_client\u001b[38;5;241m.\u001b[39mchat(\u001b[38;5;241m*\u001b[39m\u001b[38;5;241m*\u001b[39mchat_params)\n\u001b[1;32m    590\u001b[0m \u001b[38;5;28;01melse\u001b[39;00m:\n\u001b[1;32m    591\u001b[0m     \u001b[38;5;28;01myield\u001b[39;00m \u001b[38;5;28mself\u001b[39m\u001b[38;5;241m.\u001b[39m_client\u001b[38;5;241m.\u001b[39mchat(\u001b[38;5;241m*\u001b[39m\u001b[38;5;241m*\u001b[39mchat_params)\n",
      "File \u001b[0;32m/opt/anaconda3/lib/python3.10/site-packages/ollama/_client.py:163\u001b[0m, in \u001b[0;36mClient._request.<locals>.inner\u001b[0;34m()\u001b[0m\n\u001b[1;32m    162\u001b[0m \u001b[38;5;28;01mdef\u001b[39;00m \u001b[38;5;21minner\u001b[39m():\n\u001b[0;32m--> 163\u001b[0m   \u001b[38;5;28;01mwith\u001b[39;00m \u001b[38;5;28mself\u001b[39m\u001b[38;5;241m.\u001b[39m_client\u001b[38;5;241m.\u001b[39mstream(\u001b[38;5;241m*\u001b[39margs, \u001b[38;5;241m*\u001b[39m\u001b[38;5;241m*\u001b[39mkwargs) \u001b[38;5;28;01mas\u001b[39;00m r:\n\u001b[1;32m    164\u001b[0m     \u001b[38;5;28;01mtry\u001b[39;00m:\n\u001b[1;32m    165\u001b[0m       r\u001b[38;5;241m.\u001b[39mraise_for_status()\n",
      "File \u001b[0;32m/opt/anaconda3/lib/python3.10/contextlib.py:135\u001b[0m, in \u001b[0;36m_GeneratorContextManager.__enter__\u001b[0;34m(self)\u001b[0m\n\u001b[1;32m    133\u001b[0m \u001b[38;5;28;01mdel\u001b[39;00m \u001b[38;5;28mself\u001b[39m\u001b[38;5;241m.\u001b[39margs, \u001b[38;5;28mself\u001b[39m\u001b[38;5;241m.\u001b[39mkwds, \u001b[38;5;28mself\u001b[39m\u001b[38;5;241m.\u001b[39mfunc\n\u001b[1;32m    134\u001b[0m \u001b[38;5;28;01mtry\u001b[39;00m:\n\u001b[0;32m--> 135\u001b[0m     \u001b[38;5;28;01mreturn\u001b[39;00m \u001b[38;5;28;43mnext\u001b[39;49m\u001b[43m(\u001b[49m\u001b[38;5;28;43mself\u001b[39;49m\u001b[38;5;241;43m.\u001b[39;49m\u001b[43mgen\u001b[49m\u001b[43m)\u001b[49m\n\u001b[1;32m    136\u001b[0m \u001b[38;5;28;01mexcept\u001b[39;00m \u001b[38;5;167;01mStopIteration\u001b[39;00m:\n\u001b[1;32m    137\u001b[0m     \u001b[38;5;28;01mraise\u001b[39;00m \u001b[38;5;167;01mRuntimeError\u001b[39;00m(\u001b[38;5;124m\"\u001b[39m\u001b[38;5;124mgenerator didn\u001b[39m\u001b[38;5;124m'\u001b[39m\u001b[38;5;124mt yield\u001b[39m\u001b[38;5;124m\"\u001b[39m) \u001b[38;5;28;01mfrom\u001b[39;00m \u001b[38;5;28;01mNone\u001b[39;00m\n",
      "File \u001b[0;32m/opt/anaconda3/lib/python3.10/site-packages/httpx/_client.py:870\u001b[0m, in \u001b[0;36mClient.stream\u001b[0;34m(self, method, url, content, data, files, json, params, headers, cookies, auth, follow_redirects, timeout, extensions)\u001b[0m\n\u001b[1;32m    847\u001b[0m \u001b[38;5;250m\u001b[39m\u001b[38;5;124;03m\"\"\"\u001b[39;00m\n\u001b[1;32m    848\u001b[0m \u001b[38;5;124;03mAlternative to `httpx.request()` that streams the response body\u001b[39;00m\n\u001b[1;32m    849\u001b[0m \u001b[38;5;124;03minstead of loading it into memory at once.\u001b[39;00m\n\u001b[0;32m   (...)\u001b[0m\n\u001b[1;32m    855\u001b[0m \u001b[38;5;124;03m[0]: /quickstart#streaming-responses\u001b[39;00m\n\u001b[1;32m    856\u001b[0m \u001b[38;5;124;03m\"\"\"\u001b[39;00m\n\u001b[1;32m    857\u001b[0m request \u001b[38;5;241m=\u001b[39m \u001b[38;5;28mself\u001b[39m\u001b[38;5;241m.\u001b[39mbuild_request(\n\u001b[1;32m    858\u001b[0m     method\u001b[38;5;241m=\u001b[39mmethod,\n\u001b[1;32m    859\u001b[0m     url\u001b[38;5;241m=\u001b[39murl,\n\u001b[0;32m   (...)\u001b[0m\n\u001b[1;32m    868\u001b[0m     extensions\u001b[38;5;241m=\u001b[39mextensions,\n\u001b[1;32m    869\u001b[0m )\n\u001b[0;32m--> 870\u001b[0m response \u001b[38;5;241m=\u001b[39m \u001b[38;5;28;43mself\u001b[39;49m\u001b[38;5;241;43m.\u001b[39;49m\u001b[43msend\u001b[49m\u001b[43m(\u001b[49m\n\u001b[1;32m    871\u001b[0m \u001b[43m    \u001b[49m\u001b[43mrequest\u001b[49m\u001b[38;5;241;43m=\u001b[39;49m\u001b[43mrequest\u001b[49m\u001b[43m,\u001b[49m\n\u001b[1;32m    872\u001b[0m \u001b[43m    \u001b[49m\u001b[43mauth\u001b[49m\u001b[38;5;241;43m=\u001b[39;49m\u001b[43mauth\u001b[49m\u001b[43m,\u001b[49m\n\u001b[1;32m    873\u001b[0m \u001b[43m    \u001b[49m\u001b[43mfollow_redirects\u001b[49m\u001b[38;5;241;43m=\u001b[39;49m\u001b[43mfollow_redirects\u001b[49m\u001b[43m,\u001b[49m\n\u001b[1;32m    874\u001b[0m \u001b[43m    \u001b[49m\u001b[43mstream\u001b[49m\u001b[38;5;241;43m=\u001b[39;49m\u001b[38;5;28;43;01mTrue\u001b[39;49;00m\u001b[43m,\u001b[49m\n\u001b[1;32m    875\u001b[0m \u001b[43m\u001b[49m\u001b[43m)\u001b[49m\n\u001b[1;32m    876\u001b[0m \u001b[38;5;28;01mtry\u001b[39;00m:\n\u001b[1;32m    877\u001b[0m     \u001b[38;5;28;01myield\u001b[39;00m response\n",
      "File \u001b[0;32m/opt/anaconda3/lib/python3.10/site-packages/httpx/_client.py:914\u001b[0m, in \u001b[0;36mClient.send\u001b[0;34m(self, request, stream, auth, follow_redirects)\u001b[0m\n\u001b[1;32m    906\u001b[0m follow_redirects \u001b[38;5;241m=\u001b[39m (\n\u001b[1;32m    907\u001b[0m     \u001b[38;5;28mself\u001b[39m\u001b[38;5;241m.\u001b[39mfollow_redirects\n\u001b[1;32m    908\u001b[0m     \u001b[38;5;28;01mif\u001b[39;00m \u001b[38;5;28misinstance\u001b[39m(follow_redirects, UseClientDefault)\n\u001b[1;32m    909\u001b[0m     \u001b[38;5;28;01melse\u001b[39;00m follow_redirects\n\u001b[1;32m    910\u001b[0m )\n\u001b[1;32m    912\u001b[0m auth \u001b[38;5;241m=\u001b[39m \u001b[38;5;28mself\u001b[39m\u001b[38;5;241m.\u001b[39m_build_request_auth(request, auth)\n\u001b[0;32m--> 914\u001b[0m response \u001b[38;5;241m=\u001b[39m \u001b[38;5;28;43mself\u001b[39;49m\u001b[38;5;241;43m.\u001b[39;49m\u001b[43m_send_handling_auth\u001b[49m\u001b[43m(\u001b[49m\n\u001b[1;32m    915\u001b[0m \u001b[43m    \u001b[49m\u001b[43mrequest\u001b[49m\u001b[43m,\u001b[49m\n\u001b[1;32m    916\u001b[0m \u001b[43m    \u001b[49m\u001b[43mauth\u001b[49m\u001b[38;5;241;43m=\u001b[39;49m\u001b[43mauth\u001b[49m\u001b[43m,\u001b[49m\n\u001b[1;32m    917\u001b[0m \u001b[43m    \u001b[49m\u001b[43mfollow_redirects\u001b[49m\u001b[38;5;241;43m=\u001b[39;49m\u001b[43mfollow_redirects\u001b[49m\u001b[43m,\u001b[49m\n\u001b[1;32m    918\u001b[0m \u001b[43m    \u001b[49m\u001b[43mhistory\u001b[49m\u001b[38;5;241;43m=\u001b[39;49m\u001b[43m[\u001b[49m\u001b[43m]\u001b[49m\u001b[43m,\u001b[49m\n\u001b[1;32m    919\u001b[0m \u001b[43m\u001b[49m\u001b[43m)\u001b[49m\n\u001b[1;32m    920\u001b[0m \u001b[38;5;28;01mtry\u001b[39;00m:\n\u001b[1;32m    921\u001b[0m     \u001b[38;5;28;01mif\u001b[39;00m \u001b[38;5;129;01mnot\u001b[39;00m stream:\n",
      "File \u001b[0;32m/opt/anaconda3/lib/python3.10/site-packages/httpx/_client.py:942\u001b[0m, in \u001b[0;36mClient._send_handling_auth\u001b[0;34m(self, request, auth, follow_redirects, history)\u001b[0m\n\u001b[1;32m    939\u001b[0m request \u001b[38;5;241m=\u001b[39m \u001b[38;5;28mnext\u001b[39m(auth_flow)\n\u001b[1;32m    941\u001b[0m \u001b[38;5;28;01mwhile\u001b[39;00m \u001b[38;5;28;01mTrue\u001b[39;00m:\n\u001b[0;32m--> 942\u001b[0m     response \u001b[38;5;241m=\u001b[39m \u001b[38;5;28;43mself\u001b[39;49m\u001b[38;5;241;43m.\u001b[39;49m\u001b[43m_send_handling_redirects\u001b[49m\u001b[43m(\u001b[49m\n\u001b[1;32m    943\u001b[0m \u001b[43m        \u001b[49m\u001b[43mrequest\u001b[49m\u001b[43m,\u001b[49m\n\u001b[1;32m    944\u001b[0m \u001b[43m        \u001b[49m\u001b[43mfollow_redirects\u001b[49m\u001b[38;5;241;43m=\u001b[39;49m\u001b[43mfollow_redirects\u001b[49m\u001b[43m,\u001b[49m\n\u001b[1;32m    945\u001b[0m \u001b[43m        \u001b[49m\u001b[43mhistory\u001b[49m\u001b[38;5;241;43m=\u001b[39;49m\u001b[43mhistory\u001b[49m\u001b[43m,\u001b[49m\n\u001b[1;32m    946\u001b[0m \u001b[43m    \u001b[49m\u001b[43m)\u001b[49m\n\u001b[1;32m    947\u001b[0m     \u001b[38;5;28;01mtry\u001b[39;00m:\n\u001b[1;32m    948\u001b[0m         \u001b[38;5;28;01mtry\u001b[39;00m:\n",
      "File \u001b[0;32m/opt/anaconda3/lib/python3.10/site-packages/httpx/_client.py:979\u001b[0m, in \u001b[0;36mClient._send_handling_redirects\u001b[0;34m(self, request, follow_redirects, history)\u001b[0m\n\u001b[1;32m    976\u001b[0m \u001b[38;5;28;01mfor\u001b[39;00m hook \u001b[38;5;129;01min\u001b[39;00m \u001b[38;5;28mself\u001b[39m\u001b[38;5;241m.\u001b[39m_event_hooks[\u001b[38;5;124m\"\u001b[39m\u001b[38;5;124mrequest\u001b[39m\u001b[38;5;124m\"\u001b[39m]:\n\u001b[1;32m    977\u001b[0m     hook(request)\n\u001b[0;32m--> 979\u001b[0m response \u001b[38;5;241m=\u001b[39m \u001b[38;5;28;43mself\u001b[39;49m\u001b[38;5;241;43m.\u001b[39;49m\u001b[43m_send_single_request\u001b[49m\u001b[43m(\u001b[49m\u001b[43mrequest\u001b[49m\u001b[43m)\u001b[49m\n\u001b[1;32m    980\u001b[0m \u001b[38;5;28;01mtry\u001b[39;00m:\n\u001b[1;32m    981\u001b[0m     \u001b[38;5;28;01mfor\u001b[39;00m hook \u001b[38;5;129;01min\u001b[39;00m \u001b[38;5;28mself\u001b[39m\u001b[38;5;241m.\u001b[39m_event_hooks[\u001b[38;5;124m\"\u001b[39m\u001b[38;5;124mresponse\u001b[39m\u001b[38;5;124m\"\u001b[39m]:\n",
      "File \u001b[0;32m/opt/anaconda3/lib/python3.10/site-packages/httpx/_client.py:1015\u001b[0m, in \u001b[0;36mClient._send_single_request\u001b[0;34m(self, request)\u001b[0m\n\u001b[1;32m   1010\u001b[0m     \u001b[38;5;28;01mraise\u001b[39;00m \u001b[38;5;167;01mRuntimeError\u001b[39;00m(\n\u001b[1;32m   1011\u001b[0m         \u001b[38;5;124m\"\u001b[39m\u001b[38;5;124mAttempted to send an async request with a sync Client instance.\u001b[39m\u001b[38;5;124m\"\u001b[39m\n\u001b[1;32m   1012\u001b[0m     )\n\u001b[1;32m   1014\u001b[0m \u001b[38;5;28;01mwith\u001b[39;00m request_context(request\u001b[38;5;241m=\u001b[39mrequest):\n\u001b[0;32m-> 1015\u001b[0m     response \u001b[38;5;241m=\u001b[39m \u001b[43mtransport\u001b[49m\u001b[38;5;241;43m.\u001b[39;49m\u001b[43mhandle_request\u001b[49m\u001b[43m(\u001b[49m\u001b[43mrequest\u001b[49m\u001b[43m)\u001b[49m\n\u001b[1;32m   1017\u001b[0m \u001b[38;5;28;01massert\u001b[39;00m \u001b[38;5;28misinstance\u001b[39m(response\u001b[38;5;241m.\u001b[39mstream, SyncByteStream)\n\u001b[1;32m   1019\u001b[0m response\u001b[38;5;241m.\u001b[39mrequest \u001b[38;5;241m=\u001b[39m request\n",
      "File \u001b[0;32m/opt/anaconda3/lib/python3.10/site-packages/httpx/_transports/default.py:233\u001b[0m, in \u001b[0;36mHTTPTransport.handle_request\u001b[0;34m(self, request)\u001b[0m\n\u001b[1;32m    220\u001b[0m req \u001b[38;5;241m=\u001b[39m httpcore\u001b[38;5;241m.\u001b[39mRequest(\n\u001b[1;32m    221\u001b[0m     method\u001b[38;5;241m=\u001b[39mrequest\u001b[38;5;241m.\u001b[39mmethod,\n\u001b[1;32m    222\u001b[0m     url\u001b[38;5;241m=\u001b[39mhttpcore\u001b[38;5;241m.\u001b[39mURL(\n\u001b[0;32m   (...)\u001b[0m\n\u001b[1;32m    230\u001b[0m     extensions\u001b[38;5;241m=\u001b[39mrequest\u001b[38;5;241m.\u001b[39mextensions,\n\u001b[1;32m    231\u001b[0m )\n\u001b[1;32m    232\u001b[0m \u001b[38;5;28;01mwith\u001b[39;00m map_httpcore_exceptions():\n\u001b[0;32m--> 233\u001b[0m     resp \u001b[38;5;241m=\u001b[39m \u001b[38;5;28;43mself\u001b[39;49m\u001b[38;5;241;43m.\u001b[39;49m\u001b[43m_pool\u001b[49m\u001b[38;5;241;43m.\u001b[39;49m\u001b[43mhandle_request\u001b[49m\u001b[43m(\u001b[49m\u001b[43mreq\u001b[49m\u001b[43m)\u001b[49m\n\u001b[1;32m    235\u001b[0m \u001b[38;5;28;01massert\u001b[39;00m \u001b[38;5;28misinstance\u001b[39m(resp\u001b[38;5;241m.\u001b[39mstream, typing\u001b[38;5;241m.\u001b[39mIterable)\n\u001b[1;32m    237\u001b[0m \u001b[38;5;28;01mreturn\u001b[39;00m Response(\n\u001b[1;32m    238\u001b[0m     status_code\u001b[38;5;241m=\u001b[39mresp\u001b[38;5;241m.\u001b[39mstatus,\n\u001b[1;32m    239\u001b[0m     headers\u001b[38;5;241m=\u001b[39mresp\u001b[38;5;241m.\u001b[39mheaders,\n\u001b[1;32m    240\u001b[0m     stream\u001b[38;5;241m=\u001b[39mResponseStream(resp\u001b[38;5;241m.\u001b[39mstream),\n\u001b[1;32m    241\u001b[0m     extensions\u001b[38;5;241m=\u001b[39mresp\u001b[38;5;241m.\u001b[39mextensions,\n\u001b[1;32m    242\u001b[0m )\n",
      "File \u001b[0;32m/opt/anaconda3/lib/python3.10/site-packages/httpcore/_sync/connection_pool.py:268\u001b[0m, in \u001b[0;36mConnectionPool.handle_request\u001b[0;34m(self, request)\u001b[0m\n\u001b[1;32m    266\u001b[0m     \u001b[38;5;28;01mwith\u001b[39;00m ShieldCancellation():\n\u001b[1;32m    267\u001b[0m         \u001b[38;5;28mself\u001b[39m\u001b[38;5;241m.\u001b[39mresponse_closed(status)\n\u001b[0;32m--> 268\u001b[0m     \u001b[38;5;28;01mraise\u001b[39;00m exc\n\u001b[1;32m    269\u001b[0m \u001b[38;5;28;01melse\u001b[39;00m:\n\u001b[1;32m    270\u001b[0m     \u001b[38;5;28;01mbreak\u001b[39;00m\n",
      "File \u001b[0;32m/opt/anaconda3/lib/python3.10/site-packages/httpcore/_sync/connection_pool.py:251\u001b[0m, in \u001b[0;36mConnectionPool.handle_request\u001b[0;34m(self, request)\u001b[0m\n\u001b[1;32m    248\u001b[0m         \u001b[38;5;28;01mraise\u001b[39;00m exc\n\u001b[1;32m    250\u001b[0m \u001b[38;5;28;01mtry\u001b[39;00m:\n\u001b[0;32m--> 251\u001b[0m     response \u001b[38;5;241m=\u001b[39m \u001b[43mconnection\u001b[49m\u001b[38;5;241;43m.\u001b[39;49m\u001b[43mhandle_request\u001b[49m\u001b[43m(\u001b[49m\u001b[43mrequest\u001b[49m\u001b[43m)\u001b[49m\n\u001b[1;32m    252\u001b[0m \u001b[38;5;28;01mexcept\u001b[39;00m ConnectionNotAvailable:\n\u001b[1;32m    253\u001b[0m     \u001b[38;5;66;03m# The ConnectionNotAvailable exception is a special case, that\u001b[39;00m\n\u001b[1;32m    254\u001b[0m     \u001b[38;5;66;03m# indicates we need to retry the request on a new connection.\u001b[39;00m\n\u001b[0;32m   (...)\u001b[0m\n\u001b[1;32m    258\u001b[0m     \u001b[38;5;66;03m# might end up as an HTTP/2 connection, but which actually ends\u001b[39;00m\n\u001b[1;32m    259\u001b[0m     \u001b[38;5;66;03m# up as HTTP/1.1.\u001b[39;00m\n\u001b[1;32m    260\u001b[0m     \u001b[38;5;28;01mwith\u001b[39;00m \u001b[38;5;28mself\u001b[39m\u001b[38;5;241m.\u001b[39m_pool_lock:\n\u001b[1;32m    261\u001b[0m         \u001b[38;5;66;03m# Maintain our position in the request queue, but reset the\u001b[39;00m\n\u001b[1;32m    262\u001b[0m         \u001b[38;5;66;03m# status so that the request becomes queued again.\u001b[39;00m\n",
      "File \u001b[0;32m/opt/anaconda3/lib/python3.10/site-packages/httpcore/_sync/connection.py:103\u001b[0m, in \u001b[0;36mHTTPConnection.handle_request\u001b[0;34m(self, request)\u001b[0m\n\u001b[1;32m    100\u001b[0m     \u001b[38;5;28;01melif\u001b[39;00m \u001b[38;5;129;01mnot\u001b[39;00m \u001b[38;5;28mself\u001b[39m\u001b[38;5;241m.\u001b[39m_connection\u001b[38;5;241m.\u001b[39mis_available():\n\u001b[1;32m    101\u001b[0m         \u001b[38;5;28;01mraise\u001b[39;00m ConnectionNotAvailable()\n\u001b[0;32m--> 103\u001b[0m \u001b[38;5;28;01mreturn\u001b[39;00m \u001b[38;5;28;43mself\u001b[39;49m\u001b[38;5;241;43m.\u001b[39;49m\u001b[43m_connection\u001b[49m\u001b[38;5;241;43m.\u001b[39;49m\u001b[43mhandle_request\u001b[49m\u001b[43m(\u001b[49m\u001b[43mrequest\u001b[49m\u001b[43m)\u001b[49m\n",
      "File \u001b[0;32m/opt/anaconda3/lib/python3.10/site-packages/httpcore/_sync/http11.py:133\u001b[0m, in \u001b[0;36mHTTP11Connection.handle_request\u001b[0;34m(self, request)\u001b[0m\n\u001b[1;32m    131\u001b[0m     \u001b[38;5;28;01mwith\u001b[39;00m Trace(\u001b[38;5;124m\"\u001b[39m\u001b[38;5;124mresponse_closed\u001b[39m\u001b[38;5;124m\"\u001b[39m, logger, request) \u001b[38;5;28;01mas\u001b[39;00m trace:\n\u001b[1;32m    132\u001b[0m         \u001b[38;5;28mself\u001b[39m\u001b[38;5;241m.\u001b[39m_response_closed()\n\u001b[0;32m--> 133\u001b[0m \u001b[38;5;28;01mraise\u001b[39;00m exc\n",
      "File \u001b[0;32m/opt/anaconda3/lib/python3.10/site-packages/httpcore/_sync/http11.py:111\u001b[0m, in \u001b[0;36mHTTP11Connection.handle_request\u001b[0;34m(self, request)\u001b[0m\n\u001b[1;32m    101\u001b[0m     \u001b[38;5;28;01mpass\u001b[39;00m\n\u001b[1;32m    103\u001b[0m \u001b[38;5;28;01mwith\u001b[39;00m Trace(\n\u001b[1;32m    104\u001b[0m     \u001b[38;5;124m\"\u001b[39m\u001b[38;5;124mreceive_response_headers\u001b[39m\u001b[38;5;124m\"\u001b[39m, logger, request, kwargs\n\u001b[1;32m    105\u001b[0m ) \u001b[38;5;28;01mas\u001b[39;00m trace:\n\u001b[1;32m    106\u001b[0m     (\n\u001b[1;32m    107\u001b[0m         http_version,\n\u001b[1;32m    108\u001b[0m         status,\n\u001b[1;32m    109\u001b[0m         reason_phrase,\n\u001b[1;32m    110\u001b[0m         headers,\n\u001b[0;32m--> 111\u001b[0m     ) \u001b[38;5;241m=\u001b[39m \u001b[38;5;28;43mself\u001b[39;49m\u001b[38;5;241;43m.\u001b[39;49m\u001b[43m_receive_response_headers\u001b[49m\u001b[43m(\u001b[49m\u001b[38;5;241;43m*\u001b[39;49m\u001b[38;5;241;43m*\u001b[39;49m\u001b[43mkwargs\u001b[49m\u001b[43m)\u001b[49m\n\u001b[1;32m    112\u001b[0m     trace\u001b[38;5;241m.\u001b[39mreturn_value \u001b[38;5;241m=\u001b[39m (\n\u001b[1;32m    113\u001b[0m         http_version,\n\u001b[1;32m    114\u001b[0m         status,\n\u001b[1;32m    115\u001b[0m         reason_phrase,\n\u001b[1;32m    116\u001b[0m         headers,\n\u001b[1;32m    117\u001b[0m     )\n\u001b[1;32m    119\u001b[0m \u001b[38;5;28;01mreturn\u001b[39;00m Response(\n\u001b[1;32m    120\u001b[0m     status\u001b[38;5;241m=\u001b[39mstatus,\n\u001b[1;32m    121\u001b[0m     headers\u001b[38;5;241m=\u001b[39mheaders,\n\u001b[0;32m   (...)\u001b[0m\n\u001b[1;32m    127\u001b[0m     },\n\u001b[1;32m    128\u001b[0m )\n",
      "File \u001b[0;32m/opt/anaconda3/lib/python3.10/site-packages/httpcore/_sync/http11.py:176\u001b[0m, in \u001b[0;36mHTTP11Connection._receive_response_headers\u001b[0;34m(self, request)\u001b[0m\n\u001b[1;32m    173\u001b[0m timeout \u001b[38;5;241m=\u001b[39m timeouts\u001b[38;5;241m.\u001b[39mget(\u001b[38;5;124m\"\u001b[39m\u001b[38;5;124mread\u001b[39m\u001b[38;5;124m\"\u001b[39m, \u001b[38;5;28;01mNone\u001b[39;00m)\n\u001b[1;32m    175\u001b[0m \u001b[38;5;28;01mwhile\u001b[39;00m \u001b[38;5;28;01mTrue\u001b[39;00m:\n\u001b[0;32m--> 176\u001b[0m     event \u001b[38;5;241m=\u001b[39m \u001b[38;5;28;43mself\u001b[39;49m\u001b[38;5;241;43m.\u001b[39;49m\u001b[43m_receive_event\u001b[49m\u001b[43m(\u001b[49m\u001b[43mtimeout\u001b[49m\u001b[38;5;241;43m=\u001b[39;49m\u001b[43mtimeout\u001b[49m\u001b[43m)\u001b[49m\n\u001b[1;32m    177\u001b[0m     \u001b[38;5;28;01mif\u001b[39;00m \u001b[38;5;28misinstance\u001b[39m(event, h11\u001b[38;5;241m.\u001b[39mResponse):\n\u001b[1;32m    178\u001b[0m         \u001b[38;5;28;01mbreak\u001b[39;00m\n",
      "File \u001b[0;32m/opt/anaconda3/lib/python3.10/site-packages/httpcore/_sync/http11.py:212\u001b[0m, in \u001b[0;36mHTTP11Connection._receive_event\u001b[0;34m(self, timeout)\u001b[0m\n\u001b[1;32m    209\u001b[0m     event \u001b[38;5;241m=\u001b[39m \u001b[38;5;28mself\u001b[39m\u001b[38;5;241m.\u001b[39m_h11_state\u001b[38;5;241m.\u001b[39mnext_event()\n\u001b[1;32m    211\u001b[0m \u001b[38;5;28;01mif\u001b[39;00m event \u001b[38;5;129;01mis\u001b[39;00m h11\u001b[38;5;241m.\u001b[39mNEED_DATA:\n\u001b[0;32m--> 212\u001b[0m     data \u001b[38;5;241m=\u001b[39m \u001b[38;5;28;43mself\u001b[39;49m\u001b[38;5;241;43m.\u001b[39;49m\u001b[43m_network_stream\u001b[49m\u001b[38;5;241;43m.\u001b[39;49m\u001b[43mread\u001b[49m\u001b[43m(\u001b[49m\n\u001b[1;32m    213\u001b[0m \u001b[43m        \u001b[49m\u001b[38;5;28;43mself\u001b[39;49m\u001b[38;5;241;43m.\u001b[39;49m\u001b[43mREAD_NUM_BYTES\u001b[49m\u001b[43m,\u001b[49m\u001b[43m \u001b[49m\u001b[43mtimeout\u001b[49m\u001b[38;5;241;43m=\u001b[39;49m\u001b[43mtimeout\u001b[49m\n\u001b[1;32m    214\u001b[0m \u001b[43m    \u001b[49m\u001b[43m)\u001b[49m\n\u001b[1;32m    216\u001b[0m     \u001b[38;5;66;03m# If we feed this case through h11 we'll raise an exception like:\u001b[39;00m\n\u001b[1;32m    217\u001b[0m     \u001b[38;5;66;03m#\u001b[39;00m\n\u001b[1;32m    218\u001b[0m     \u001b[38;5;66;03m#     httpcore.RemoteProtocolError: can't handle event type\u001b[39;00m\n\u001b[0;32m   (...)\u001b[0m\n\u001b[1;32m    222\u001b[0m     \u001b[38;5;66;03m# perspective. Instead we handle this case distinctly and treat\u001b[39;00m\n\u001b[1;32m    223\u001b[0m     \u001b[38;5;66;03m# it as a ConnectError.\u001b[39;00m\n\u001b[1;32m    224\u001b[0m     \u001b[38;5;28;01mif\u001b[39;00m data \u001b[38;5;241m==\u001b[39m \u001b[38;5;124mb\u001b[39m\u001b[38;5;124m\"\u001b[39m\u001b[38;5;124m\"\u001b[39m \u001b[38;5;129;01mand\u001b[39;00m \u001b[38;5;28mself\u001b[39m\u001b[38;5;241m.\u001b[39m_h11_state\u001b[38;5;241m.\u001b[39mtheir_state \u001b[38;5;241m==\u001b[39m h11\u001b[38;5;241m.\u001b[39mSEND_RESPONSE:\n",
      "File \u001b[0;32m/opt/anaconda3/lib/python3.10/site-packages/httpcore/_backends/sync.py:126\u001b[0m, in \u001b[0;36mSyncStream.read\u001b[0;34m(self, max_bytes, timeout)\u001b[0m\n\u001b[1;32m    124\u001b[0m \u001b[38;5;28;01mwith\u001b[39;00m map_exceptions(exc_map):\n\u001b[1;32m    125\u001b[0m     \u001b[38;5;28mself\u001b[39m\u001b[38;5;241m.\u001b[39m_sock\u001b[38;5;241m.\u001b[39msettimeout(timeout)\n\u001b[0;32m--> 126\u001b[0m     \u001b[38;5;28;01mreturn\u001b[39;00m \u001b[38;5;28;43mself\u001b[39;49m\u001b[38;5;241;43m.\u001b[39;49m\u001b[43m_sock\u001b[49m\u001b[38;5;241;43m.\u001b[39;49m\u001b[43mrecv\u001b[49m\u001b[43m(\u001b[49m\u001b[43mmax_bytes\u001b[49m\u001b[43m)\u001b[49m\n",
      "\u001b[0;31mKeyboardInterrupt\u001b[0m: "
     ]
    }
   ],
   "source": [
    "combined_formatted_graph = []\n",
    "bad_batch = []\n",
    "\n",
    "for batch in chunks:\n",
    "    structured_text = f'''Abstract: {batch}\\nExtract medical relationships as structured triples (Entity1, Relationship, Entity2). Put all elements of a tuple on the same line\n",
    "in the format (\"entity1\", \"relationship\", \"entity2\") . There must be two entities and a relationship and the relationship should not incluee the entities. Please at least 1 example for every line in the format specified'''\n",
    "\n",
    "    response = llm.invoke(structured_text)\n",
    "    # Extract the actual text from the LLM response\n",
    "    raw_output = response.content\n",
    "\n",
    "    # Print the cleaned raw output (for debugging)\n",
    "    # print(\"Cleaned Raw LLM Output:\\n\", raw_output)\n",
    "\n",
    "    # Extract (Entity1, Relationship, Entity2) triples using regex\n",
    "    # matches = re.findall(r'\"(.*?)\" , \"(.*?)\" , \"(.*?)\"', raw_output)\n",
    "    matches = re.findall(r'\\(\"([^\"]+)\",\\s*\"([^\"]+)\",\\s*\"([^\"]+)\"\\)', raw_output)\n",
    "\n",
    "    # print(f\"matches:\\n{matches}\")\n",
    "\n",
    "    # Convert extracted triples into nodes and relationships\n",
    "    nodes = set()\n",
    "    relationships = []\n",
    "\n",
    "    for entity1, relation, entity2 in matches:\n",
    "        nodes.add(entity1)\n",
    "        nodes.add(entity2)\n",
    "        relationships.append((entity1, relation, entity2))\n",
    "\n",
    "    # Convert to Full Node-Relationship-Node Format\n",
    "    formatted_graph = [f\"({e1}) -[:{r.replace(' ', '_').upper()}]-> ({e2})\" for e1, r, e2 in relationships]\n",
    "    if len(formatted_graph) == 0:\n",
    "        print(\"Error no nodes found\")\n",
    "        bad_batch.append(batch)\n",
    "\n",
    "    combined_formatted_graph.extend(formatted_graph)\n",
    "    print(len(combined_formatted_graph))\n",
    "    # print()\n",
    "    # print(formatted_graph)\n",
    "print(\"Complete\")"
   ]
  },
  {
   "cell_type": "code",
   "execution_count": 12,
   "metadata": {},
   "outputs": [
    {
     "data": {
      "text/plain": [
       "['<AbstractText>A purification procedure is reported for obtaining bovine liver dihydrofolate reductase in high yield and amounts of 100-200 mg. A key step in the procedure is the use of an affinity gel prepared by coupling pteroyl-L-lysine to Sepharose. The purified reductase has a specific activity of about 100 units/mg and is homogeneous as judged by analytical ultracentrifugation, polyacrylamide gel electrophoresis, and titration with methotrexate. The products of the first step of Edman degradation indicated a minimum purity of 79%. The reductase has a molecular weight of about 21500 on the basis of amino acid composition and 22100 +/- 300 from equilibrium sedimentation. It is not inhibited by antiserum to the Streptococcus faecium reductase (isoenzyme 2). Unlike the reductase of many other vertebrate tissues, the bovine enzyme is inhibited by mercurials rather than activated and it has a single pH optimum at both low and high ionic strength. However, the position of the pH optimum is shifted and the activity increased by increasing ionic strength. Automatic Edman degradation has been used to determine 34 of the amino-terminal 37 amino acid residues. Considerable homology exists between this region and the corresponding regions of the reductase from S. faecium and from Escherichia coli. This strengthens the idea that this region contributes to the structure of the binding site for dihydrofolate.</AbstractText>',\n",
       " '<AbstractText>Dihydrofolate reductase has been purified 40-fold to apparent homogeneity from a trimethoprim-resistant strain of Escherichia coli (RT 500) using a procedure that includes methotrexate affinity column chromatography. Determinations of the molecular weight of the enzyme based on its amino acid composition, sedimentation velocity, and sodium dodecyl sulfate gel electrophoresis gave values of 17680, 17470 and 18300, respectively. An aggregated form of the enzyme with a low specific activity can be separated from the monomer by gel filtration; treatment of the aggregate with mercaptoethanol or dithiothreitol results in an increase in enzymic activity and a regeneration of the monomer. Also, multiple molecular forms of the monomer have been detected by polyacrylamide gel electrophoresis. The unresolved enzyme exhibits two pH optima (pH 4.5 and pH 7.0) with dihydrofolate as a substrate. Highest activities are observed in buffers containing large organic cations. In 100 mM imidazolium chloride (pH 7), the specific activity is 47 mumol of dihydrofolate reduced per min per mg at 30 degrees. Folic acid also serves as a substrate with a single pH optimum of pH 4.5. At this pH the Km for folate is 16 muM, and the Vmax is 1/1000 of the rate observed with dihydrofolate as the substrate. Monovalent cations (Na+, K+, Rb+, and Cs+) inhibit dihydrofolate reductase; at a given ionic strength the degree of inhibition is a function of the ionic radius of the cation. Divalent cations are more potent inhibitors; the I50 of BaCl2 is 250 muM, as compared to 125 mM for KCl. Anions neither inhibit nor activate the enzyme.</AbstractText>',\n",
       " '<AbstractText>Ionization effects on the binding of the potential transition state analogues 2-phosphoglycolate and 2-phosphoglycolohydroxamate appear to be attributable to the changing state of ionization of the ligands themselves, therefore it is unnecessary to postulate the additional involvement of an ionizing residue at the active site of triosephosphate isomerase to explain the influence of changing pH on Ki in the neutral range. The binding of the competitive inhibitor inorganic sulfate is insensitive to changing pH in the neutral range. 3-Chloroacetol sulfate, synthesized as an active-site-specific reagent for triosephosphate isomerase, is used to provide an indication of the pKa of the essential carboxyl group of this enzyme. Previously described active-site-specific reagents for the isomerase were phosphate esters, and their changing state of ionization (accompanied by possible changes in their affinity for the active site) may have complicated earlier attempts to determine the pKa of the essential carboxyl group from the pH dependence of the rate of inactivation. Being a strong monoprotic acid, chloroacetol sulfate is better suited to the determination of the pKa of the carboxyl group. Chloroacetol sulfate inactivates triosephosphate isomerase by the selective esterification of the same carboxyl group as that which is esterified by the phosphate esters described earlier. From the pH dependence of the rate of inactivation of yeast triosephosphate isomerase, the apparent pKa of the active-site carboxyl group is estimated as 3.9 +/- 0.1.</AbstractText>',\n",
       " '<AbstractText>Kinetic analyses of monoanion inhibition and 15Cl nuclear magnetic resonance at 5.88 MHz were employed to study monoanion interactions with the zinc metalloenzyme, renal dipeptidase. The enzyme-catalyzed hydrolysis of glycyldehydrophenylalanine exhibited competitive inhibition when the reaction rate was determined in the presence of the monovalent anions fluoride, chloride, bromide, iodide, azide, nitrate, or thiocyanate or upon the addition of the divalent anion, sulfate. Competitive inhibition was produced by these anions. One anion was bound per enzyme molecule, and except in the case of fluoride all of the anions appeared to bind at the same site. Cyanide ion produced a much more effective inhibition of renal dipeptidase than the other monoanions, and it was shown that two cyanide ions were bound per enzyme molecule. An investigation of the effect of pH upon monoanion inhibition suggested that the anion inhibitors bind to the group with a pK of approximately 7.8. Complete dissociation of this group (approximately pH 8.4) eliminates the inhibitory effect of anions. The 35Cl line broadening produced by renal dipeptidase in 0.5 M NaCl solutions was 100 times more effective than that produced by equivalent concentrations of aquozinc(II). The line broadening was dependent upon the concentration of the metalloenzyme and independent of the frequency of the exciting radiation. When zinc ion was removed from the metalloenzyme by dialysis or when chloride was titrated from the metalloenzyme by cyanide, line broadening was decreased. Treatment of renal dipeptidase with saturating concentrations of the competitive inhibitor, guanosine triphosphate, in the presence of 0.5 M NaCl also produced a significant decrease in the 35Cl line width. The 35Cl line broadening produced by renal dipeptidase was shown to decrease with increasing pH through the range pH 5.8-10.8. This line-width variation with pH appeared to result from the titration of a site on the metalloprotein with an approximate pK of 7.4. Temperature studies of 35Cl line broadening by the metalloenzyme in the presence of chloride and cyanide inhibitors suggest that the fast exchange process pertains and that the dominant relaxation mechanism is quadrupolar in nature.</AbstractText>',\n",
       " \"<AbstractText>Bovine erythrocyte superoxide dismutase was slowly and irreversibly inactivated by hydrogen peroxide. The rate of this inactivation was directly dependent upon the concentrations of both H2O2 and of enzyme, and its second-order rate constant at pH 10.0 and 25 degrees was 6.7 M-1 sec-1. Inactivation was preceded by a bleaching due to rapid reduction of Cu2+ on the enzyme, and following this there was a gradual reappearance of a new absorption in the visible region, which was coincident with the loss of catalytic activity. Inactivation of the enzyme was pH-dependent and indicated an essential ionization whose pKa was approximately 10.2. Replacement of H2O by D2O raised this pKa but did not diminish the catalytic activity of superoxide dismutase, measured at pH 10.0. Several compounds, including xanthine, urate, formate, and azide, protected the enzyme against inactivation by H2O2. Alcohols and benzoate, which scavenge hydroxyl radical, did not protect. Compounds with special affinity for singlet oxygen were similarly ineffective. The data were interpreted in terms of the reduction of the enzyme-bound Cu2+ to Cu+, by H2O2, followed by a Fenton's type reaction of the Cu+ with additional H2O2. This would generate Cu2+-OH- or its ionized equivalent, Cu2+-O--, which could then oxidatively attack an adjacent histidine and thus inactivate the enzyme. Compounds which protected the enzyme could have done so by reacting with the bound oxidant, in competition with the adjacent histidine.</AbstractText>\",\n",
       " '<AbstractText>The near-ultraviolet circular dichroism (CD) of three homogeneous anti-type III pneumococcal antibodies in the absence and the presence of the specific hexasaccharide ligand was studied. In addition recombinations and hybridizations of H and L chains derived from two of these antibodies were carried out and the CD spectra of bound and free reconstituted IgG molecules were measured. The results indicate that the CD spectra of the native antibodies in the 260-310-nm range are very similar in shape and sign and exhibit a positive band at 285 nm. The homologous reconstituted antibody molecules exhibited CD spectra very similar in shape and sign to those of the native antibody molecules although recombinant molecules are no longer stabilized by interchain disulfide bonds. Upon addition of the hexasaccharide ligand, a significant decrease in amplitude of the CD spectra (18-21%) occurred in all three native antibodies and their Fab fragments as well as in the homologous recombinant molecules. No CD spectral changes could be detected upon interaction of the hapten ligand with the heterologous recombinants. All homogeneous antibodies studied exhibited fluorescence quenching upon oligosaccharide binding and a blue shift of the emission maximum. This property allowed the determination of the binding constant of one selected antibody to be made. Taken together, CD and fluorescence spectroscopic data suggest that oligosaccharide ligands induced detectable conformational changes in the Fab fragment of the antibody.</AbstractText>',\n",
       " \"<AbstractText>The circular polarization of luminescence (CPL) emitted by tryptophan residues was used as a sensitive probe for measuring ligand-induced structural changes in a homogeneous type III pneumococcal antibody. A series of oligosaccharide ligands of increasing size derived from type III polysaccharide by partial acid hydrolysis was assayed. Ligand-induced changes in the circular polarization of fluorescence of the antibody were observed for all antigens tested, including tetra-, hexa-, and octasaccharides and a 16-residue oligomer, the largest changes being recorded upon interaction with the intact soluble type III pneumococcal (SIII) polysaccharide. When Fab' or F(ab')2 fragments were used instead of the antibody IgG for binding of SIII polysaccharide, the extent of conformational changes was decreased. This suggests interactions between Fab and Fc portions in the IgG molecule and subsequent conformational changes in Fc part upon antigen binding. Reduction of interchain disulfide bonds abolished the additional spectral changes attributed to the Fc part but not the changes observed in the Fab part, thus suggesting that the presence of the interchain disulfide bond in the hinge region is required for maximal CPL changes to occur. Small monovalent ligands, i.e., the tetra-, hexa-, and octasaccharides, were capable of inducing CPL changes in the Fab part of the antibody molecule as well as CPL changes attributed to the Fc portion. A multivalent ligand containing about 16 sugar residues appears to be the minimal antigenic size required for triggering conformational changes attributed to the Fc part, similar to those seen in the interaction with the whole polysaccharide antigen.</AbstractText>\",\n",
       " '<AbstractText>The functional role of the Bacillus stearothermophilus 50S ribosomal protein B-L3 (probably homologous to the Escherichia coli protein L2) was examined by chemical modification. The complex [B-L3-23S RNA] was photooxidized in the presence of rose bengal and the modified protein incorporated by reconstitution into 50S ribosomal subunits containing all other unmodified components. Particles containing photooxidized B-L3 are defective in several functional assays, including (1) poly(U)-directed poly(Phe) synthesis, (2) peptidyltransferase activity, (3) ability to associate with a [30S-poly(U)-Phe-tRNA] complex, and (4) binding of elongation factor G and GTP. The rates of loss of the partial functional activities during photooxidation of B-L3 indicate that at least two independent inactivating events are occurring, a faster one, involving oxidation of one or more histidine residues, affecting peptidyltransferase and subunit association activities and a slower one affecting EF-G binding. Therefore the protein B-L3 has one or more histidine residues which are essential for peptidyltransferase and subunit association, and another residue which is essential for EF-G-GTP binding. B-L3 may be the ribosomal peptidyltransferase protein, or a part of the active site, and may contribute functional groups to the other active sites as well.</AbstractText>',\n",
       " '<AbstractText>The localization of the previously postulated interface recognition site (IRS) in porcine pancreatic phospholipase A2, required for a specific interaction between the enzyme and organized lipid-water interfaces, was investigated by ultraviolet difference spectroscopy, by measurements of the intrinsic fluorescence of the unique Trp residue, and by protection experiments against specific tryptic hydrolysis. Using the enzymically nondegradable substrate analogues: CnH(2n+1)(0-)OOCH2CH2N+(CH3)3-(H,OH), it is shown that the rather hydrophobic N-terminal sequence of the enzyme, viz., Ala-Leu-Trp-Gln-Phe-Arg, is directly involved in the interaction with the lipid-water interface. Besides hydrophobic probably also polar interactions contribute to the binding process. At neutral or acidic pH the presence of a salt bridge between the N-terminal alpha-NH3+ group and a negatively charged side chain stablizes the interface recognition site and allows the enzyme to penetrate micellar surfaces, even in the absence of metal ion. At alkaline pH, interaction of the enzyme with micellar interfaces requires the presence of Ca2+ (Ba2+) ions.</AbstractText>',\n",
       " '<AbstractText>The action of snake venom phospholipases A2 in intact human erythrocytes was investigated in detail. The basis phospholipase from Agkistrodon halys blomhifii was found to induce both hydrolysis of membrane phospholipids and total cell hemolysis under certain experimental conditions. The hydrolytic action of the basic enzyme was found to consist of two sequential events: (a) hydrolysis of 70% of the total cell ph osphatidylcholine without any evident hemolysis; and (b) complete hydrolysis of the remaining phosphatidylcholine, followed closely by extensive phosphatidylethanolamine hydrolysis and finally with onset of hemolysis, attack on the phosphatidylserine. At pH 7.4 and 10 mM Ca2+ only stage (a) occurred. However, a slight elevation of the pH of incubation to pH 8.0 and/or inclusion of 40 mM Ca2+ in the reaction mixture caused both events (a) and (b) to occur. The addition of glucose limited the action of the enzyme to stage (a) under any reaction conditions. An investigation showed that enzymically induced hemolysis occurred under conditions where the intracellular ATP levels were lowered. Data are presented which suggest that stage (b) is mediated by in influx of Ca2+ into the cell when the levels of ATP are low. Interestingly the phosphllipase from Naja naja venom (Pakistan) yielded results similar to those observed with the basic enzyme from Agkistrodon venom. However, the enzyme from Crotalus adamanteus and the acidic enzyme also present in the Agkistrodon venom produced only slight hydrolysis or hemolysis under any of the conditions studied. Other species of erythrocytes, e.g., guinea pig, monkey, pig, and rat, were tested but only those from guinea pig behaved similarly to the human cells. Pig, monkey, and rat erythrocytes underwent very limited hydrolysis and hemolysis. It is evident that the use of these phospholipases to probe the localization of phospholipds in erythrocyte membranes must be approached with caution. Certain facets of this problem are discussed.</AbstractText>']"
      ]
     },
     "execution_count": 12,
     "metadata": {},
     "output_type": "execute_result"
    }
   ],
   "source": [
    "bad_batch[0]\n",
    "# print(combined_formatted_graph)"
   ]
  },
  {
   "cell_type": "code",
   "execution_count": 7,
   "metadata": {},
   "outputs": [
    {
     "name": "stdout",
     "output_type": "stream",
     "text": [
      "Output written to graph_output.txt with 218 lines\n"
     ]
    }
   ],
   "source": [
    "# Create output of all relationships found\n",
    "with open('graph_output.txt', 'w') as output_file:\n",
    "    for line in combined_formatted_graph:\n",
    "        output_file.write(line + '\\n')\n",
    "\n",
    "print(f\"Output written to graph_output.txt with {len(combined_formatted_graph)} lines\")"
   ]
  },
  {
   "cell_type": "markdown",
   "metadata": {},
   "source": [
    "# More Experimentation"
   ]
  },
  {
   "cell_type": "code",
   "execution_count": 15,
   "metadata": {},
   "outputs": [
    {
     "name": "stdout",
     "output_type": "stream",
     "text": [
      "Cleaned Raw LLM Output:\n",
      " Here are the extracted medical relationships as structured triples:\n",
      "\n",
      "(\"Sch 1000\", \"was found to be equipotent with\", \"oxazepam\")\n",
      "(\"Sch 1000\", \"produced a clear trend towards lowered mean values of acid\", \"stimulated acid\")\n",
      "(\"Sch 1000\", \"increased pH value only during basal period\", \"pH value\")\n",
      "(\"Sch 1000 + oxazepam\", \"was found to be equipotent with\", \"basal acid\")\n",
      "(\"Oxazepam\", \"reduced amount of basal acid only during first 30 min\", \"basal acid\")\n",
      "(\"Stroma from normal red cells\", \"inhibited lysis in sucrose test\", \"lysis\")\n",
      "(\"Stroma from PNH-like red cells\", \"enhanced lysis in acidified-serum test\", \"lysis\")\n",
      "(\"Exclusion peak from Sephadex G-200\", \"induced lysis of PNH-like cells in unacidified serum\", \"lysis\")\n",
      "(\"Alternate pathway activation\", \"controlled classical pathway activation\", \"classical pathway activation\")\n",
      "(\"Stroma from normal red cells\", \"activated complement through alternate pathway\", \"complement\")\n",
      "(\"Stroma from PNH-like red cells\", \"induced lysis of PNH-like cells in unacidified serum\", \"lysis\")\n",
      "\n",
      "Note: I've only included examples for every line, but there may be more relationships that can be extracted from the text.\n",
      "\n",
      "['(Sch 1000) -[:WAS_FOUND_TO_BE_EQUIPOTENT_WITH]-> (oxazepam)', '(Sch 1000) -[:PRODUCED_A_CLEAR_TREND_TOWARDS_LOWERED_MEAN_VALUES_OF_ACID]-> (stimulated acid)', '(Sch 1000) -[:INCREASED_PH_VALUE_ONLY_DURING_BASAL_PERIOD]-> (pH value)', '(Sch 1000 + oxazepam) -[:WAS_FOUND_TO_BE_EQUIPOTENT_WITH]-> (basal acid)', '(Oxazepam) -[:REDUCED_AMOUNT_OF_BASAL_ACID_ONLY_DURING_FIRST_30_MIN]-> (basal acid)', '(Stroma from normal red cells) -[:INHIBITED_LYSIS_IN_SUCROSE_TEST]-> (lysis)', '(Stroma from PNH-like red cells) -[:ENHANCED_LYSIS_IN_ACIDIFIED-SERUM_TEST]-> (lysis)', '(Exclusion peak from Sephadex G-200) -[:INDUCED_LYSIS_OF_PNH-LIKE_CELLS_IN_UNACIDIFIED_SERUM]-> (lysis)', '(Alternate pathway activation) -[:CONTROLLED_CLASSICAL_PATHWAY_ACTIVATION]-> (classical pathway activation)', '(Stroma from normal red cells) -[:ACTIVATED_COMPLEMENT_THROUGH_ALTERNATE_PATHWAY]-> (complement)', '(Stroma from PNH-like red cells) -[:INDUCED_LYSIS_OF_PNH-LIKE_CELLS_IN_UNACIDIFIED_SERUM]-> (lysis)']\n"
     ]
    }
   ],
   "source": [
    "# Read the test file\n",
    "file_path = \"/Users/brianmann/Downloads/test/test_file.txt\"\n",
    "# file_path=\"/Users/brianmann/Downloads/test/pubmed25n0001.xml\"\n",
    "with open(file_path, \"r\", encoding=\"utf-8\") as file:\n",
    "    content = file.read()\n",
    "\n",
    "# Structure the text for better entity & relationship extraction\n",
    "\n",
    "# Bad Prompt\n",
    "# structured_text = f\"Abstract: {content}\\nExtract medical relationships as structured triples (Entity1, Relationship, Entity2). Please find 100 examples in this format and mention which line they come from\"\n",
    "    \n",
    "# Good Prompt\n",
    "structured_text = f'''Abstract: {content}\\nExtract medical relationships as structured triples (Entity1, Relationship, Entity2). Put all elements of a tuple on the same line\n",
    "in the format (\"entity1\", \"relationship\", \"entity2\") . There must be two entities and a relationship and the relationship should not incluee the entities. Please at least 1 example for every line in the format specified'''\n",
    "\n",
    "# structured_text = f\"\"\"Abstract: {content}\\nExtract all meaningful relationships from the following medical abstract. \n",
    "# Provide structured triples in this exact format:\n",
    "# (Entity1) - [Relationship] -> (Entity2).\"\"\"\n",
    "\n",
    "\n",
    "# Call Llama3.2 dynamically and extract the response text\n",
    "# This could be a real problem doesn't take very many tokens by default\n",
    "response = llm.invoke(structured_text)\n",
    "# raw_output = llm.invoke(structured_text, max_tokens=1024)\n",
    "\n",
    "# Extract the actual text from the LLM response\n",
    "raw_output = response.content\n",
    "\n",
    "# Print the cleaned raw output (for debugging)\n",
    "print(\"Cleaned Raw LLM Output:\\n\", raw_output)\n",
    "\n",
    "# Extract (Entity1, Relationship, Entity2) triples using regex\n",
    "# matches = re.findall(r'\"(.*?)\" , \"(.*?)\" , \"(.*?)\"', raw_output)\n",
    "matches = re.findall(r'\\(\"([^\"]+)\",\\s*\"([^\"]+)\",\\s*\"([^\"]+)\"\\)', raw_output)\n",
    "\n",
    "# print(f\"matches:\\n{matches}\")\n",
    "\n",
    "# Convert extracted triples into nodes and relationships\n",
    "nodes = set()\n",
    "relationships = []\n",
    "\n",
    "for entity1, relation, entity2 in matches:\n",
    "    nodes.add(entity1)\n",
    "    nodes.add(entity2)\n",
    "    relationships.append((entity1, relation, entity2))\n",
    "\n",
    "# Convert to Full Node-Relationship-Node Format\n",
    "formatted_graph = [f\"({e1}) -[:{r.replace(' ', '_').upper()}]-> ({e2})\" for e1, r, e2 in relationships]\n",
    "print()\n",
    "print(formatted_graph)\n",
    "# Print formatted output\n",
    "# print(\"Extracted Nodes:\", list(nodes))\n",
    "# print(\"Extracted Relationships:\", formatted_graph)\n"
   ]
  },
  {
   "cell_type": "code",
   "execution_count": 14,
   "metadata": {},
   "outputs": [
    {
     "data": {
      "text/plain": [
       "10"
      ]
     },
     "execution_count": 14,
     "metadata": {},
     "output_type": "execute_result"
    }
   ],
   "source": [
    "len(formatted_graph)"
   ]
  },
  {
   "cell_type": "code",
   "execution_count": 6,
   "metadata": {},
   "outputs": [
    {
     "name": "stdout",
     "output_type": "stream",
     "text": [
      "Extracted Nodes: []\n",
      "Extracted Relationships: []\n",
      "\n",
      "Full Node-Relationship-Node Format:\n",
      "\n"
     ]
    }
   ],
   "source": [
    "\n",
    "# Extract (Entity1, Relationship, Entity2) triples using regex\n",
    "matches = re.findall(r\"`(.*?)` - `(.*?)` - `(.*?)`\", raw_output)\n",
    "\n",
    "# Convert extracted triples into nodes and relationships\n",
    "nodes = set()\n",
    "relationships = []\n",
    "\n",
    "for entity1, relation, entity2 in matches:\n",
    "    nodes.add(entity1)\n",
    "    nodes.add(entity2)\n",
    "    relationships.append((entity1, relation, entity2))\n",
    "\n",
    "# Convert to Full Node-Relationship-Node Format\n",
    "formatted_graph = [f\"({e1}) -[:{r.replace(' ', '_').upper()}]-> ({e2})\" for e1, r, e2 in relationships]\n",
    "\n",
    "# Print formatted output\n",
    "print(\"Extracted Nodes:\", list(nodes))\n",
    "print(\"Extracted Relationships:\", formatted_graph)\n",
    "print()\n",
    "# Print formatted output\n",
    "print(\"Full Node-Relationship-Node Format:\\n\")\n",
    "for triple in formatted_graph:\n",
    "    print(triple)\n"
   ]
  },
  {
   "cell_type": "code",
   "execution_count": null,
   "metadata": {},
   "outputs": [],
   "source": []
  },
  {
   "cell_type": "markdown",
   "metadata": {},
   "source": [
    "# With Chunking"
   ]
  },
  {
   "cell_type": "code",
   "execution_count": 3,
   "metadata": {},
   "outputs": [
    {
     "name": "stdout",
     "output_type": "stream",
     "text": [
      "\n",
      "📌 Total Abstracts: 10\n",
      "\n",
      "📌 Processing Abstract 1/10\n",
      "\n",
      "📌 Processing Abstract 2/10\n",
      "\n",
      "📌 Processing Abstract 3/10\n",
      "\n",
      "📌 Processing Abstract 4/10\n",
      "\n",
      "📌 Processing Abstract 5/10\n",
      "\n",
      "📌 Processing Abstract 6/10\n",
      "\n",
      "📌 Processing Abstract 7/10\n",
      "\n",
      "📌 Processing Abstract 8/10\n",
      "\n",
      "📌 Processing Abstract 9/10\n",
      "\n",
      "📌 Processing Abstract 10/10\n"
     ]
    }
   ],
   "source": [
    "import re\n",
    "from langchain_ollama import ChatOllama\n",
    "from concurrent.futures import ThreadPoolExecutor\n",
    "\n",
    "# Initialize Llama3.2\n",
    "llm = ChatOllama(model=\"llama3.2\", temperature=0, max_tokens=2048)\n",
    "\n",
    "# Read test file (each line is a separate abstract)\n",
    "file_path = \"/Users/brianmann/Downloads/test/test_file_small.txt\"\n",
    "with open(file_path, \"r\", encoding=\"utf-8\") as file:\n",
    "    abstracts = file.readlines()  # Read each line as an abstract\n",
    "\n",
    "# Remove empty lines and strip whitespace\n",
    "abstracts = [line.strip() for line in abstracts if line.strip()]\n",
    "\n",
    "print(f\"\\n📌 Total Abstracts: {len(abstracts)}\")  # Debugging: See how many abstracts are created\n",
    "\n",
    "# Function to process each abstract (single line)\n",
    "def process_abstract(abstract, index):\n",
    "    print(f\"\\n📌 Processing Abstract {index+1}/{len(abstracts)}\")\n",
    "\n",
    "    structured_text = f\"Abstract: {abstract}\\nExtract medical relationships as structured triples (Entity1, Relationship, Entity2).\"\n",
    "\n",
    "    # Call Llama3.2\n",
    "    response = llm.invoke(structured_text)\n",
    "    raw_output = response[\"content\"] if isinstance(response, dict) and \"content\" in response else str(response)\n",
    "\n",
    "    # Extract relationships using regex\n",
    "    matches = re.findall(r\"`(.*?)` - `(.*?)` - `(.*?)`\", raw_output)\n",
    "    return matches\n",
    "\n",
    "# Process abstracts in parallel\n",
    "all_relationships = []\n",
    "with ThreadPoolExecutor() as executor:\n",
    "    results = executor.map(lambda pair: process_abstract(pair[1], pair[0]), enumerate(abstracts))\n",
    "    for result in results:\n",
    "        all_relationships.extend(result)\n",
    "\n",
    "# Extract nodes\n",
    "all_nodes = set()\n",
    "for entity1, relation, entity2 in all_relationships:\n",
    "    all_nodes.add(entity1)\n",
    "    all_nodes.add(entity2)\n",
    "\n",
    "# Convert to Full Node-Relationship-Node Format\n",
    "formatted_graph = [f\"({e1}) -[:{r.replace(' ', '_').upper()}]-> ({e2})\" for e1, r, e2 in all_relationships]\n",
    "\n",
    "# Print formatted results\n",
    "print(\"\\n✅ Extracted Nodes:\", list(all_nodes))\n",
    "print(\"\\n✅ Extracted Relationships:\", formatted_graph)\n"
   ]
  },
  {
   "cell_type": "markdown",
   "metadata": {},
   "source": [
    "# Changing the prompt"
   ]
  },
  {
   "cell_type": "code",
   "execution_count": 33,
   "metadata": {},
   "outputs": [
    {
     "ename": "KeyError",
     "evalue": "'\"entity1\"'",
     "output_type": "error",
     "traceback": [
      "\u001b[0;31m---------------------------------------------------------------------------\u001b[0m",
      "\u001b[0;31mKeyError\u001b[0m                                  Traceback (most recent call last)",
      "Cell \u001b[0;32mIn[33], line 33\u001b[0m\n\u001b[1;32m      5\u001b[0m     content \u001b[38;5;241m=\u001b[39m file\u001b[38;5;241m.\u001b[39mread()\n\u001b[1;32m      7\u001b[0m relationship_prompt \u001b[38;5;241m=\u001b[39m PromptTemplate(\n\u001b[1;32m      8\u001b[0m     input_variables\u001b[38;5;241m=\u001b[39m[\u001b[38;5;124m\"\u001b[39m\u001b[38;5;124mcontent\u001b[39m\u001b[38;5;124m\"\u001b[39m],  \u001b[38;5;66;03m# This must match the placeholder in the template\u001b[39;00m\n\u001b[1;32m      9\u001b[0m     template\u001b[38;5;241m=\u001b[39m\u001b[38;5;124m\"\"\"\u001b[39m\n\u001b[0;32m   (...)\u001b[0m\n\u001b[1;32m     30\u001b[0m \u001b[38;5;124m    \u001b[39m\u001b[38;5;124m\"\"\"\u001b[39m\n\u001b[1;32m     31\u001b[0m )\n\u001b[0;32m---> 33\u001b[0m formatted_prompt \u001b[38;5;241m=\u001b[39m \u001b[43mrelationship_prompt\u001b[49m\u001b[38;5;241;43m.\u001b[39;49m\u001b[43mformat\u001b[49m\u001b[43m(\u001b[49m\u001b[43mcontent\u001b[49m\u001b[38;5;241;43m=\u001b[39;49m\u001b[43mcontent\u001b[49m\u001b[43m)\u001b[49m\n\u001b[1;32m     35\u001b[0m response \u001b[38;5;241m=\u001b[39m llm\u001b[38;5;241m.\u001b[39minvoke(formatted_prompt)\n\u001b[1;32m     36\u001b[0m \u001b[38;5;66;03m# raw_output = llm.invoke(structured_text, max_tokens=1024)\u001b[39;00m\n",
      "File \u001b[0;32m/opt/anaconda3/lib/python3.10/site-packages/langchain_core/prompts/prompt.py:183\u001b[0m, in \u001b[0;36mPromptTemplate.format\u001b[0;34m(self, **kwargs)\u001b[0m\n\u001b[1;32m    174\u001b[0m \u001b[38;5;250m\u001b[39m\u001b[38;5;124;03m\"\"\"Format the prompt with the inputs.\u001b[39;00m\n\u001b[1;32m    175\u001b[0m \n\u001b[1;32m    176\u001b[0m \u001b[38;5;124;03mArgs:\u001b[39;00m\n\u001b[0;32m   (...)\u001b[0m\n\u001b[1;32m    180\u001b[0m \u001b[38;5;124;03m    A formatted string.\u001b[39;00m\n\u001b[1;32m    181\u001b[0m \u001b[38;5;124;03m\"\"\"\u001b[39;00m\n\u001b[1;32m    182\u001b[0m kwargs \u001b[38;5;241m=\u001b[39m \u001b[38;5;28mself\u001b[39m\u001b[38;5;241m.\u001b[39m_merge_partial_and_user_variables(\u001b[38;5;241m*\u001b[39m\u001b[38;5;241m*\u001b[39mkwargs)\n\u001b[0;32m--> 183\u001b[0m \u001b[38;5;28;01mreturn\u001b[39;00m \u001b[43mDEFAULT_FORMATTER_MAPPING\u001b[49m\u001b[43m[\u001b[49m\u001b[38;5;28;43mself\u001b[39;49m\u001b[38;5;241;43m.\u001b[39;49m\u001b[43mtemplate_format\u001b[49m\u001b[43m]\u001b[49m\u001b[43m(\u001b[49m\u001b[38;5;28;43mself\u001b[39;49m\u001b[38;5;241;43m.\u001b[39;49m\u001b[43mtemplate\u001b[49m\u001b[43m,\u001b[49m\u001b[43m \u001b[49m\u001b[38;5;241;43m*\u001b[39;49m\u001b[38;5;241;43m*\u001b[39;49m\u001b[43mkwargs\u001b[49m\u001b[43m)\u001b[49m\n",
      "File \u001b[0;32m/opt/anaconda3/lib/python3.10/string.py:161\u001b[0m, in \u001b[0;36mFormatter.format\u001b[0;34m(self, format_string, *args, **kwargs)\u001b[0m\n\u001b[1;32m    160\u001b[0m \u001b[38;5;28;01mdef\u001b[39;00m \u001b[38;5;21mformat\u001b[39m(\u001b[38;5;28mself\u001b[39m, format_string, \u001b[38;5;241m/\u001b[39m, \u001b[38;5;241m*\u001b[39margs, \u001b[38;5;241m*\u001b[39m\u001b[38;5;241m*\u001b[39mkwargs):\n\u001b[0;32m--> 161\u001b[0m     \u001b[38;5;28;01mreturn\u001b[39;00m \u001b[38;5;28;43mself\u001b[39;49m\u001b[38;5;241;43m.\u001b[39;49m\u001b[43mvformat\u001b[49m\u001b[43m(\u001b[49m\u001b[43mformat_string\u001b[49m\u001b[43m,\u001b[49m\u001b[43m \u001b[49m\u001b[43margs\u001b[49m\u001b[43m,\u001b[49m\u001b[43m \u001b[49m\u001b[43mkwargs\u001b[49m\u001b[43m)\u001b[49m\n",
      "File \u001b[0;32m/opt/anaconda3/lib/python3.10/site-packages/langchain_core/utils/formatting.py:33\u001b[0m, in \u001b[0;36mStrictFormatter.vformat\u001b[0;34m(self, format_string, args, kwargs)\u001b[0m\n\u001b[1;32m     28\u001b[0m     msg \u001b[38;5;241m=\u001b[39m (\n\u001b[1;32m     29\u001b[0m         \u001b[38;5;124m\"\u001b[39m\u001b[38;5;124mNo arguments should be provided, \u001b[39m\u001b[38;5;124m\"\u001b[39m\n\u001b[1;32m     30\u001b[0m         \u001b[38;5;124m\"\u001b[39m\u001b[38;5;124meverything should be passed as keyword arguments.\u001b[39m\u001b[38;5;124m\"\u001b[39m\n\u001b[1;32m     31\u001b[0m     )\n\u001b[1;32m     32\u001b[0m     \u001b[38;5;28;01mraise\u001b[39;00m \u001b[38;5;167;01mValueError\u001b[39;00m(msg)\n\u001b[0;32m---> 33\u001b[0m \u001b[38;5;28;01mreturn\u001b[39;00m \u001b[38;5;28;43msuper\u001b[39;49m\u001b[43m(\u001b[49m\u001b[43m)\u001b[49m\u001b[38;5;241;43m.\u001b[39;49m\u001b[43mvformat\u001b[49m\u001b[43m(\u001b[49m\u001b[43mformat_string\u001b[49m\u001b[43m,\u001b[49m\u001b[43m \u001b[49m\u001b[43margs\u001b[49m\u001b[43m,\u001b[49m\u001b[43m \u001b[49m\u001b[43mkwargs\u001b[49m\u001b[43m)\u001b[49m\n",
      "File \u001b[0;32m/opt/anaconda3/lib/python3.10/string.py:165\u001b[0m, in \u001b[0;36mFormatter.vformat\u001b[0;34m(self, format_string, args, kwargs)\u001b[0m\n\u001b[1;32m    163\u001b[0m \u001b[38;5;28;01mdef\u001b[39;00m \u001b[38;5;21mvformat\u001b[39m(\u001b[38;5;28mself\u001b[39m, format_string, args, kwargs):\n\u001b[1;32m    164\u001b[0m     used_args \u001b[38;5;241m=\u001b[39m \u001b[38;5;28mset\u001b[39m()\n\u001b[0;32m--> 165\u001b[0m     result, _ \u001b[38;5;241m=\u001b[39m \u001b[38;5;28;43mself\u001b[39;49m\u001b[38;5;241;43m.\u001b[39;49m\u001b[43m_vformat\u001b[49m\u001b[43m(\u001b[49m\u001b[43mformat_string\u001b[49m\u001b[43m,\u001b[49m\u001b[43m \u001b[49m\u001b[43margs\u001b[49m\u001b[43m,\u001b[49m\u001b[43m \u001b[49m\u001b[43mkwargs\u001b[49m\u001b[43m,\u001b[49m\u001b[43m \u001b[49m\u001b[43mused_args\u001b[49m\u001b[43m,\u001b[49m\u001b[43m \u001b[49m\u001b[38;5;241;43m2\u001b[39;49m\u001b[43m)\u001b[49m\n\u001b[1;32m    166\u001b[0m     \u001b[38;5;28mself\u001b[39m\u001b[38;5;241m.\u001b[39mcheck_unused_args(used_args, args, kwargs)\n\u001b[1;32m    167\u001b[0m     \u001b[38;5;28;01mreturn\u001b[39;00m result\n",
      "File \u001b[0;32m/opt/anaconda3/lib/python3.10/string.py:205\u001b[0m, in \u001b[0;36mFormatter._vformat\u001b[0;34m(self, format_string, args, kwargs, used_args, recursion_depth, auto_arg_index)\u001b[0m\n\u001b[1;32m    201\u001b[0m     auto_arg_index \u001b[38;5;241m=\u001b[39m \u001b[38;5;28;01mFalse\u001b[39;00m\n\u001b[1;32m    203\u001b[0m \u001b[38;5;66;03m# given the field_name, find the object it references\u001b[39;00m\n\u001b[1;32m    204\u001b[0m \u001b[38;5;66;03m#  and the argument it came from\u001b[39;00m\n\u001b[0;32m--> 205\u001b[0m obj, arg_used \u001b[38;5;241m=\u001b[39m \u001b[38;5;28;43mself\u001b[39;49m\u001b[38;5;241;43m.\u001b[39;49m\u001b[43mget_field\u001b[49m\u001b[43m(\u001b[49m\u001b[43mfield_name\u001b[49m\u001b[43m,\u001b[49m\u001b[43m \u001b[49m\u001b[43margs\u001b[49m\u001b[43m,\u001b[49m\u001b[43m \u001b[49m\u001b[43mkwargs\u001b[49m\u001b[43m)\u001b[49m\n\u001b[1;32m    206\u001b[0m used_args\u001b[38;5;241m.\u001b[39madd(arg_used)\n\u001b[1;32m    208\u001b[0m \u001b[38;5;66;03m# do any conversion on the resulting object\u001b[39;00m\n",
      "File \u001b[0;32m/opt/anaconda3/lib/python3.10/string.py:270\u001b[0m, in \u001b[0;36mFormatter.get_field\u001b[0;34m(self, field_name, args, kwargs)\u001b[0m\n\u001b[1;32m    267\u001b[0m \u001b[38;5;28;01mdef\u001b[39;00m \u001b[38;5;21mget_field\u001b[39m(\u001b[38;5;28mself\u001b[39m, field_name, args, kwargs):\n\u001b[1;32m    268\u001b[0m     first, rest \u001b[38;5;241m=\u001b[39m _string\u001b[38;5;241m.\u001b[39mformatter_field_name_split(field_name)\n\u001b[0;32m--> 270\u001b[0m     obj \u001b[38;5;241m=\u001b[39m \u001b[38;5;28;43mself\u001b[39;49m\u001b[38;5;241;43m.\u001b[39;49m\u001b[43mget_value\u001b[49m\u001b[43m(\u001b[49m\u001b[43mfirst\u001b[49m\u001b[43m,\u001b[49m\u001b[43m \u001b[49m\u001b[43margs\u001b[49m\u001b[43m,\u001b[49m\u001b[43m \u001b[49m\u001b[43mkwargs\u001b[49m\u001b[43m)\u001b[49m\n\u001b[1;32m    272\u001b[0m     \u001b[38;5;66;03m# loop through the rest of the field_name, doing\u001b[39;00m\n\u001b[1;32m    273\u001b[0m     \u001b[38;5;66;03m#  getattr or getitem as needed\u001b[39;00m\n\u001b[1;32m    274\u001b[0m     \u001b[38;5;28;01mfor\u001b[39;00m is_attr, i \u001b[38;5;129;01min\u001b[39;00m rest:\n",
      "File \u001b[0;32m/opt/anaconda3/lib/python3.10/string.py:227\u001b[0m, in \u001b[0;36mFormatter.get_value\u001b[0;34m(self, key, args, kwargs)\u001b[0m\n\u001b[1;32m    225\u001b[0m     \u001b[38;5;28;01mreturn\u001b[39;00m args[key]\n\u001b[1;32m    226\u001b[0m \u001b[38;5;28;01melse\u001b[39;00m:\n\u001b[0;32m--> 227\u001b[0m     \u001b[38;5;28;01mreturn\u001b[39;00m \u001b[43mkwargs\u001b[49m\u001b[43m[\u001b[49m\u001b[43mkey\u001b[49m\u001b[43m]\u001b[49m\n",
      "\u001b[0;31mKeyError\u001b[0m: '\"entity1\"'"
     ]
    }
   ],
   "source": [
    "# Read the test file\n",
    "file_path = \"/Users/brianmann/Downloads/test/test_file.txt\"\n",
    "# filepath=\"/Users/brianmann/Downloads/pubmed25n0001.xml\"\n",
    "with open(file_path, \"r\", encoding=\"utf-8\") as file:\n",
    "    content = file.read()\n",
    "\n",
    "relationship_prompt = PromptTemplate(\n",
    "    input_variables=[\"content\"],  # This must match the placeholder in the template\n",
    "    template=\"\"\"\n",
    "    Given the following biomedical text:\n",
    "\n",
    "    {content}\n",
    "\n",
    "    Identify and extract key medical relationships as structured triples.\n",
    "    The output **MUST** be in **JSON format** with the following structure:\n",
    "\n",
    "    ```json\n",
    "    [\n",
    "        {\"entity1\": \"X-ray\", \"relationship\": \"Induces\", \"entity2\": \"DNA double strand breaks\"},\n",
    "        {\"entity1\": \"Neutral filter elution method\", \"relationship\": \"Detects\", \"entity2\": \"DNA double strand breaks\"}\n",
    "    ]\n",
    "    ```\n",
    "\n",
    "    **Rules:**\n",
    "    1. Use precise, domain-specific biomedical relationships.\n",
    "    2. Include only factual relationships found in the text.\n",
    "    3. Maintain a structured JSON format with \"entity1\", \"relationship\", and \"entity2\".\n",
    "\n",
    "    Return ONLY the JSON object, with no extra text.\n",
    "    \"\"\"\n",
    ")\n",
    "\n",
    "formatted_prompt = relationship_prompt.format(content=content)\n",
    "\n",
    "response = llm.invoke(formatted_prompt)\n",
    "# raw_output = llm.invoke(structured_text, max_tokens=1024)\n",
    "\n",
    "print(response)\n"
   ]
  },
  {
   "cell_type": "markdown",
   "metadata": {},
   "source": [
    "# Iterative approach"
   ]
  },
  {
   "cell_type": "code",
   "execution_count": 56,
   "metadata": {},
   "outputs": [
    {
     "name": "stdout",
     "output_type": "stream",
     "text": [
      "First Iteration:\n",
      " content=\"Here are the extracted key medical relationships:\\n\\n1. **X-ray** \\n    - **Induces**\\n    - **DNA double strand breaks**\\n\\n2. **Neutral filter elution method** \\n    - **Detects**\\n    - **DNA double strand breaks**\\n\\n3. **HpA I restriction endonuclease** \\n    - **Introduces**\\n    - **Double strand cuts in DNA**\\n\\n4. **Cucumber mosaic virus** \\n    - **Has RNAs with sequences of 270 residues from the 3'-terminus**\\n       - **Corresponding to each segment of the influenza virus genome**\\n\\n5. **Influenza virus** \\n    - **Has segments corresponding to each RNA in the genome**\\n       - **Mapped by restriction endonuclease analysis**\\n\\n6. **Poly(A(+))-RNA(tot)** \\n    - **Contains a major peak in the 10-13 S region**\\n       - **Accounting for approximately 35% of the total poly(A(+))-RNA applied**\\n\\n7. **Poly(A(+))-RNA(11S)** \\n    - **Contains a single major peak in the 11S region**\\n       - **Resolving to a single major component**\\n\\n8. **(3)H-cDNA** \\n    - **Made from poly(A(+))-RNA(tot) and poly(A(+))-RNA(11S)**\\n       - **Used for back-hybridization analysis**\\n\\n9. **Poly(A(+))-RNA(11S)** \\n    - **Translates to two major polypeptides**\\n       - **Coded by the 620 NT long and 540 NT long poly(A(+))-RNA respectively**\" additional_kwargs={} response_metadata={'model': 'llama3.2', 'created_at': '2025-02-28T12:34:58.682215Z', 'done': True, 'done_reason': 'stop', 'total_duration': 14386320708, 'load_duration': 150181458, 'prompt_eval_count': 2048, 'prompt_eval_duration': 6291000000, 'eval_count': 343, 'eval_duration': 7869000000, 'message': Message(role='assistant', content='', images=None, tool_calls=None)} id='run-051b168c-add3-4fd5-bc3e-3a3215522d39-0' usage_metadata={'input_tokens': 2048, 'output_tokens': 343, 'total_tokens': 2391} \n",
      "\n",
      "Second Iteration:\n",
      " content=\"After analyzing the text, I extracted the following additional medical relationships:\\n\\n1. **Poly(A(+))-RNA(tot)** \\n   - **Contains a highly abundant class representing 41% of its sequences**\\n   - **Corresponding to 3-5 sequences present in 30,000-50,000 copies/cell**\\n\\n2. **Poly(A(+))-RNA(11S)**\\n   - **Translates to two major polypeptides**\\n   - **Coded by the 620 NT long and 540 NT long poly(A(+))-RNA respectively**\\n   - **Contains a highly abundant class representing 85% of its sequences**\\n\\n3. **Influenza virus ds DNA**\\n   - **Corresponding to each segment of the influenza virus genome**\\n   - **Suitable for molecular cloning and restriction endonuclease mapping**\\n\\n4. **HpA I restriction endonuclease**\\n   - **Used in the production of pure, full-length influenza virus ds DNA's**\\n\\n5. **Neutral filter elution method**\\n   - **Used to detect DNA double strand breaks**\\n\\n6. **X-ray**\\n   - **Used to induce DNA double strand breaks**\\n\\n7. **Cucumber mosaic virus**\\n   - **Has RNAs with sequences of 270 residues from the 3'-terminus corresponding to each segment of the influenza virus genome**\\n\\n8. **Poly(A(+))-RNA(tot) and poly(A(+))-RNA(11S)**\\n   - **Analyzed under denaturing conditions on 2% agarose gel electrophoresis**\\n   - **Demonstrated two major components in both poly(A(+))-RNA populations**\" additional_kwargs={} response_metadata={'model': 'llama3.2', 'created_at': '2025-02-28T12:35:12.805771Z', 'done': True, 'done_reason': 'stop', 'total_duration': 13990318417, 'load_duration': 152605584, 'prompt_eval_count': 2048, 'prompt_eval_duration': 6393000000, 'eval_count': 339, 'eval_duration': 7374000000, 'message': Message(role='assistant', content='', images=None, tool_calls=None)} id='run-76311a77-8fa9-43fa-8f97-9d75c4f8cd4f-0' usage_metadata={'input_tokens': 2048, 'output_tokens': 339, 'total_tokens': 2387} \n",
      "\n",
      "Final LLM Output:\n",
      " content=\"Here is the reformatted data:\\n\\n1. **X-ray**\\n   - **Relationship**: Induces\\n   - **Entity 2**: DNA double strand breaks\\n   \\n2. **Neutral filter elution method**\\n   - **Relationship**: Detects\\n   - **Entity 2**: DNA double strand breaks\\n   \\n3. **HpA I restriction endonuclease**\\n   - **Relationship**: Introduces\\n   - **Entity 2**: Double strand cuts in DNA\\n   \\n4. **Cucumber mosaic virus**\\n   - **Relationship**: Has RNAs with sequences of 270 residues from the 3'-terminus\\n   - **Entity 2**: Corresponding to each segment of the influenza virus genome\\n   \\n5. **Influenza virus**\\n   - **Relationship**: Has segments corresponding to each RNA in the genome\\n   - **Entity 2**: Mapped by restriction endonuclease analysis\\n   \\n6. **Poly(A(+))-RNA(tot)**\\n   - **Relationship**: Contains a major peak in the 10-13 S region\\n   - **Entity 2**: Accounting for approximately 35% of the total poly(A(+))-RNA applied\\n   \\n7. **Poly(A(+))-RNA(11S)**\\n   - **Relationship**: Contains a single major peak in the 11S region\\n   - **Entity 2**: Resolving to a single major component\\n   \\n8. **(3)H-cDNA**\\n   - **Relationship**: Made from poly(A(+))-RNA(tot) and poly(A(+))-RNA(11S)\\n   - **Entity 2**: Used for back-hybridization analysis\\n   \\n9. **Poly(A(+))-RNA(11S)**\\n   - **Relationship**: Translates to two major polypeptides\\n   - **Entity 2**: Coded by the 620 NT long and 540 NT long poly(A(+))-RNA respectively\\n\\n10. **Poly(A(+))-RNA(tot)**\\n    - **Relationship**: Contains a highly abundant class representing 41% of its sequences\\n    - **Entity 2**: Corresponding to 3-5 sequences present in 30,000-50,000 copies/cell\\n    \\n11. **Poly(A(+))-RNA(11S)**\\n    - **Relationship**: Translates to two major polypeptides\\n    - **Entity 2**: Coded by the 620 NT long and 540 NT long poly(A(+))-RNA respectively\\n    - **Relationship**: Contains a highly abundant class representing 85% of its sequences\\n    \\n12. **Influenza virus ds DNA**\\n    - **Relationship**: Corresponding to each segment of the influenza virus genome\\n    - **Entity 2**: Suitable for molecular cloning and restriction endonuclease mapping\\n    \\n13. **HpA I restriction endonuclease**\\n    - **Relationship**: Used in the production of pure, full-length influenza virus ds DNA's\\n    \\n14. **Neutral filter elution method**\\n    - **Relationship**: Used to detect DNA double strand breaks\\n    \\n15. **X-ray**\\n    - **Relationship**: Used to induce DNA double strand breaks\\n    \\n16. **Cucumber mosaic virus**\\n    - **Relationship**: Has RNAs with sequences of 270 residues from the 3'-terminus corresponding to each segment of the influenza virus genome\"  \n",
      "\n"
     ]
    }
   ],
   "source": [
    "from langchain_core.prompts import PromptTemplate\n",
    "\n",
    "# Read the test file\n",
    "file_path = \"/Users/brianmann/Downloads/test/test_file.txt\"\n",
    "with open(file_path, \"r\", encoding=\"utf-8\") as file:\n",
    "    content = file.read()\n",
    "\n",
    "# ✅ Define a flexible prompt (not enforcing JSON)\n",
    "relationship_prompt = f\"\"\"\n",
    "    Given the following text:\n",
    "\n",
    "    {content}\n",
    "\n",
    "    Identify and extract key medical relationships from this text.\n",
    "    \n",
    "    **Guidelines:**\n",
    "    - List all meaningful **biomedical entities**.\n",
    "    - Show how these entities are **related**.\n",
    "    - Format relationships as **structured triples** when possible.\n",
    "    - Provide at least one relationship per line of the document\n",
    "\n",
    "    **Example Output:**\n",
    "    1. **Entity 1**: X-ray\n",
    "       - **Relationship**: Induces\n",
    "       - **Entity 2**: DNA double strand breaks\n",
    "       \n",
    "    2. **Entity 1**: Neutral filter elution method\n",
    "       - **Relationship**: Detects\n",
    "       - **Entity 2**: DNA double strand breaks\n",
    "   \n",
    "   Do not provide any extra output once you have completed the task.\n",
    "    \"\"\"\n",
    "\n",
    "# ✅ Correctly format the prompt\n",
    "# formatted_prompt = relationship_prompt.format(content=content)\n",
    "\n",
    "# ✅ Call the LLM\n",
    "response = llm.invoke(relationship_prompt)\n",
    "\n",
    "# ✅ Print raw output first for inspection\n",
    "print(\"First Iteration:\\n\", response, \"\\n\")\n",
    "\n",
    "# Take the response and feed it as the content\n",
    "content2 = str(response).split(\"additional_kwargs\")[0]\n",
    "\n",
    "# before_additional_kwargs = text.split(\"additional_kwargs\")[0]\n",
    "\n",
    "\n",
    "\n",
    "\n",
    "# Iteration 2\n",
    "structured_text = f\"\"\"\n",
    "Previously, I provided this text:\n",
    "\n",
    "{content}\n",
    "\n",
    "and you provided these relations:\n",
    "\n",
    "{content2}\n",
    "\n",
    "Now, please extract additional medical relationships from the text I provided.\n",
    "\"\"\"\n",
    "\n",
    "response = llm.invoke(structured_text)\n",
    "\n",
    "# ✅ Print raw output first for inspection\n",
    "print(\"Second Iteration:\\n\", response, \"\\n\")\n",
    "\n",
    "# Take the response and feed it as the content\n",
    "content3 = str(response).split(\"additional_kwargs\")[0]\n",
    "\n",
    "\n",
    "\n",
    "\n",
    "# Iteration 3\n",
    "relationship_prompt = f\"\"\"\n",
    "    Given the following previous responses:\n",
    "\n",
    "    {content2}\n",
    "\n",
    "    and \n",
    "\n",
    "    {content3}\n",
    "\n",
    "Remove any introduction and format all of the data in the form:\n",
    "    1. **Entity 1**: X-ray\n",
    "       - **Relationship**: Induces\n",
    "       - **Entity 2**: DNA double strand breaks\n",
    "       \n",
    "    2. **Entity 1**: Neutral filter elution method\n",
    "       - **Relationship**: Detects\n",
    "       - **Entity 2**: DNA double strand breaks\n",
    "\n",
    "    \"\"\"\n",
    "\n",
    "# ✅ Correctly format the prompt\n",
    "# formatted_prompt = relationship_prompt.format(content2=content2, content3=content3)\n",
    "\n",
    "# ✅ Call the LLM\n",
    "response = llm.invoke(relationship_prompt)\n",
    "\n",
    "response_clean = str(response).split(\"additional_kwargs\")[0]\n",
    "\n",
    "\n",
    "\n",
    "# ✅ Print raw output first for inspection\n",
    "print(\"Final LLM Output:\\n\", response_clean, \"\\n\")\n"
   ]
  },
  {
   "cell_type": "code",
   "execution_count": null,
   "metadata": {},
   "outputs": [],
   "source": []
  },
  {
   "cell_type": "markdown",
   "metadata": {},
   "source": [
    "# Trying just 10 abstracts"
   ]
  },
  {
   "cell_type": "code",
   "execution_count": 67,
   "metadata": {},
   "outputs": [
    {
     "name": "stdout",
     "output_type": "stream",
     "text": [
      "Cleaned Raw LLM Output:\n",
      " Here is the list of extracted medical relationships:\n",
      "\n",
      "1. Multiple Sclerosis, Myelinotoxicity, Cerebrospinal Fluid\n",
      "2. Alpha Fetoprotein, Neural Tube Defects, Open Neural Tube Defects\n",
      "3. Beta2-Microglobulin, Proximal Tubular Function, Diuresis\n",
      "4. Gluten-Free Diet, Villopathy, Malabsorption\n",
      "5. Papanicolaou Smear, Cigarette Consumption, Oral Health\n",
      "6. Hepatitis B Virus, Polyarteritis, e Ag/Ab System\n",
      "Extracted Nodes: []\n",
      "Extracted Relationships: []\n"
     ]
    }
   ],
   "source": [
    "# Read the test file\n",
    "file_path = \"/Users/brianmann/Downloads/test/test_file_small.txt\"\n",
    "# filepath=\"/Users/brianmann/Downloads/pubmed25n0001.xml\"\n",
    "with open(file_path, \"r\", encoding=\"utf-8\") as file:\n",
    "    content = file.read()\n",
    "\n",
    "# Structure the text for better entity & relationship extraction\n",
    "structured_text = f\"\"\"Abstract: {content} \\n\n",
    "You are an expert Knowledge Graph creater with the ability to extract relationships from medical research.\n",
    "You must connect two entities and state their relationship from the content provided. Extract medical relationships as structured triples (Entity1, Relationship, Entity2).\n",
    "Don't explain your reasoning just provide me with a list of the tuples that you are able to find. There must be two entities and their relationship which gives a total of three things.\n",
    "\\n\"\"\"\n",
    "\n",
    "# print(structured_text)\n",
    "\n",
    "response = llm.invoke(structured_text)\n",
    "\n",
    "# Extract the actual text from the LLM response\n",
    "# raw_output = response[\"content\"] if isinstance(response, dict) and \"content\" in response else str(response)\n",
    "\n",
    "# Print the cleaned raw output (for debugging)\n",
    "print(\"Cleaned Raw LLM Output:\\n\", response.content)\n",
    "\n",
    "# Extract (Entity1, Relationship, Entity2) triples using regex\n",
    "matches = re.findall(r\"`(.*?)` - `(.*?)` - `(.*?)`\", raw_output)\n",
    "\n",
    "# Convert extracted triples into nodes and relationships\n",
    "nodes = set()\n",
    "relationships = []\n",
    "\n",
    "for entity1, relation, entity2 in matches:\n",
    "    nodes.add(entity1)\n",
    "    nodes.add(entity2)\n",
    "    relationships.append((entity1, relation, entity2))\n",
    "\n",
    "# Convert to Full Node-Relationship-Node Format\n",
    "formatted_graph = [f\"({e1}) -[:{r.replace(' ', '_').upper()}]-> ({e2})\" for e1, r, e2 in relationships]\n",
    "\n",
    "# Print formatted output\n",
    "print(\"Extracted Nodes:\", list(nodes))\n",
    "print(\"Extracted Relationships:\", formatted_graph)\n"
   ]
  },
  {
   "cell_type": "code",
   "execution_count": null,
   "metadata": {},
   "outputs": [],
   "source": []
  }
 ],
 "metadata": {
  "kernelspec": {
   "display_name": "kg_explore",
   "language": "python",
   "name": "python3"
  },
  "language_info": {
   "codemirror_mode": {
    "name": "ipython",
    "version": 3
   },
   "file_extension": ".py",
   "mimetype": "text/x-python",
   "name": "python",
   "nbconvert_exporter": "python",
   "pygments_lexer": "ipython3",
   "version": "3.10.14"
  }
 },
 "nbformat": 4,
 "nbformat_minor": 2
}
